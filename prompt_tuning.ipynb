{
 "cells": [
  {
   "cell_type": "markdown",
   "metadata": {},
   "source": [
    "# Prompt tuning"
   ]
  },
  {
   "cell_type": "code",
   "execution_count": 1,
   "metadata": {},
   "outputs": [
    {
     "name": "stdout",
     "output_type": "stream",
     "text": [
      "Requirement already satisfied: pandas in /d/hpc/home/bi4528/.venv/lib64/python3.11/site-packages (from -r requirements.txt (line 1)) (2.2.2)\n",
      "Requirement already satisfied: langchain in /d/hpc/home/bi4528/.venv/lib64/python3.11/site-packages (from -r requirements.txt (line 2)) (0.1.16)\n",
      "Requirement already satisfied: python-dotenv in /d/hpc/home/bi4528/.venv/lib64/python3.11/site-packages (from -r requirements.txt (line 3)) (1.0.1)\n",
      "Requirement already satisfied: openai in /d/hpc/home/bi4528/.venv/lib64/python3.11/site-packages (from -r requirements.txt (line 4)) (1.23.6)\n",
      "Requirement already satisfied: openpyxl in /d/hpc/home/bi4528/.venv/lib64/python3.11/site-packages (from -r requirements.txt (line 5)) (3.1.2)\n",
      "Requirement already satisfied: jsonlines in /d/hpc/home/bi4528/.venv/lib64/python3.11/site-packages (from -r requirements.txt (line 6)) (4.0.0)\n",
      "Requirement already satisfied: matplotlib in /d/hpc/home/bi4528/.venv/lib64/python3.11/site-packages (from -r requirements.txt (line 7)) (3.8.4)\n",
      "Requirement already satisfied: networkx in /d/hpc/home/bi4528/.venv/lib64/python3.11/site-packages (from -r requirements.txt (line 8)) (3.3)\n",
      "Requirement already satisfied: accelerate in /d/hpc/home/bi4528/.venv/lib64/python3.11/site-packages (from -r requirements.txt (line 9)) (0.29.3)\n",
      "Requirement already satisfied: bitsandbytes in /d/hpc/home/bi4528/.venv/lib64/python3.11/site-packages (from -r requirements.txt (line 10)) (0.43.1)\n",
      "Requirement already satisfied: huggingface_hub in /d/hpc/home/bi4528/.venv/lib64/python3.11/site-packages (from -r requirements.txt (line 11)) (0.22.2)\n",
      "Collecting setuptools (from -r requirements.txt (line 13))\n",
      "  Using cached setuptools-69.5.1-py3-none-any.whl.metadata (6.2 kB)\n",
      "Requirement already satisfied: numpy>=1.23.2 in /d/hpc/home/bi4528/.venv/lib64/python3.11/site-packages (from pandas->-r requirements.txt (line 1)) (1.26.4)\n",
      "Requirement already satisfied: python-dateutil>=2.8.2 in /d/hpc/home/bi4528/.venv/lib64/python3.11/site-packages (from pandas->-r requirements.txt (line 1)) (2.9.0.post0)\n",
      "Requirement already satisfied: pytz>=2020.1 in /d/hpc/home/bi4528/.venv/lib64/python3.11/site-packages (from pandas->-r requirements.txt (line 1)) (2024.1)\n",
      "Requirement already satisfied: tzdata>=2022.7 in /d/hpc/home/bi4528/.venv/lib64/python3.11/site-packages (from pandas->-r requirements.txt (line 1)) (2024.1)\n",
      "Requirement already satisfied: PyYAML>=5.3 in /d/hpc/home/bi4528/.venv/lib64/python3.11/site-packages (from langchain->-r requirements.txt (line 2)) (6.0.1)\n",
      "Requirement already satisfied: SQLAlchemy<3,>=1.4 in /d/hpc/home/bi4528/.venv/lib64/python3.11/site-packages (from langchain->-r requirements.txt (line 2)) (2.0.29)\n",
      "Requirement already satisfied: aiohttp<4.0.0,>=3.8.3 in /d/hpc/home/bi4528/.venv/lib64/python3.11/site-packages (from langchain->-r requirements.txt (line 2)) (3.9.5)\n",
      "Requirement already satisfied: dataclasses-json<0.7,>=0.5.7 in /d/hpc/home/bi4528/.venv/lib64/python3.11/site-packages (from langchain->-r requirements.txt (line 2)) (0.6.4)\n",
      "Requirement already satisfied: jsonpatch<2.0,>=1.33 in /d/hpc/home/bi4528/.venv/lib64/python3.11/site-packages (from langchain->-r requirements.txt (line 2)) (1.33)\n",
      "Requirement already satisfied: langchain-community<0.1,>=0.0.32 in /d/hpc/home/bi4528/.venv/lib64/python3.11/site-packages (from langchain->-r requirements.txt (line 2)) (0.0.34)\n",
      "Requirement already satisfied: langchain-core<0.2.0,>=0.1.42 in /d/hpc/home/bi4528/.venv/lib64/python3.11/site-packages (from langchain->-r requirements.txt (line 2)) (0.1.46)\n",
      "Requirement already satisfied: langchain-text-splitters<0.1,>=0.0.1 in /d/hpc/home/bi4528/.venv/lib64/python3.11/site-packages (from langchain->-r requirements.txt (line 2)) (0.0.1)\n",
      "Requirement already satisfied: langsmith<0.2.0,>=0.1.17 in /d/hpc/home/bi4528/.venv/lib64/python3.11/site-packages (from langchain->-r requirements.txt (line 2)) (0.1.51)\n",
      "Requirement already satisfied: pydantic<3,>=1 in /d/hpc/home/bi4528/.venv/lib64/python3.11/site-packages (from langchain->-r requirements.txt (line 2)) (2.7.1)\n",
      "Requirement already satisfied: requests<3,>=2 in /d/hpc/home/bi4528/.venv/lib64/python3.11/site-packages (from langchain->-r requirements.txt (line 2)) (2.31.0)\n",
      "Requirement already satisfied: tenacity<9.0.0,>=8.1.0 in /d/hpc/home/bi4528/.venv/lib64/python3.11/site-packages (from langchain->-r requirements.txt (line 2)) (8.2.3)\n",
      "Requirement already satisfied: anyio<5,>=3.5.0 in /d/hpc/home/bi4528/.venv/lib64/python3.11/site-packages (from openai->-r requirements.txt (line 4)) (4.3.0)\n",
      "Requirement already satisfied: distro<2,>=1.7.0 in /d/hpc/home/bi4528/.venv/lib64/python3.11/site-packages (from openai->-r requirements.txt (line 4)) (1.9.0)\n",
      "Requirement already satisfied: httpx<1,>=0.23.0 in /d/hpc/home/bi4528/.venv/lib64/python3.11/site-packages (from openai->-r requirements.txt (line 4)) (0.27.0)\n",
      "Requirement already satisfied: sniffio in /d/hpc/home/bi4528/.venv/lib64/python3.11/site-packages (from openai->-r requirements.txt (line 4)) (1.3.1)\n",
      "Requirement already satisfied: tqdm>4 in /d/hpc/home/bi4528/.venv/lib64/python3.11/site-packages (from openai->-r requirements.txt (line 4)) (4.66.2)\n",
      "Requirement already satisfied: typing-extensions<5,>=4.7 in /d/hpc/home/bi4528/.venv/lib64/python3.11/site-packages (from openai->-r requirements.txt (line 4)) (4.11.0)\n",
      "Requirement already satisfied: et-xmlfile in /d/hpc/home/bi4528/.venv/lib64/python3.11/site-packages (from openpyxl->-r requirements.txt (line 5)) (1.1.0)\n",
      "Requirement already satisfied: attrs>=19.2.0 in /d/hpc/home/bi4528/.venv/lib64/python3.11/site-packages (from jsonlines->-r requirements.txt (line 6)) (23.2.0)\n",
      "Requirement already satisfied: contourpy>=1.0.1 in /d/hpc/home/bi4528/.venv/lib64/python3.11/site-packages (from matplotlib->-r requirements.txt (line 7)) (1.2.1)\n",
      "Requirement already satisfied: cycler>=0.10 in /d/hpc/home/bi4528/.venv/lib64/python3.11/site-packages (from matplotlib->-r requirements.txt (line 7)) (0.12.1)\n",
      "Requirement already satisfied: fonttools>=4.22.0 in /d/hpc/home/bi4528/.venv/lib64/python3.11/site-packages (from matplotlib->-r requirements.txt (line 7)) (4.51.0)\n",
      "Requirement already satisfied: kiwisolver>=1.3.1 in /d/hpc/home/bi4528/.venv/lib64/python3.11/site-packages (from matplotlib->-r requirements.txt (line 7)) (1.4.5)\n",
      "Requirement already satisfied: packaging>=20.0 in /d/hpc/home/bi4528/.venv/lib64/python3.11/site-packages (from matplotlib->-r requirements.txt (line 7)) (23.2)\n",
      "Requirement already satisfied: pillow>=8 in /d/hpc/home/bi4528/.venv/lib64/python3.11/site-packages (from matplotlib->-r requirements.txt (line 7)) (10.3.0)\n",
      "Requirement already satisfied: pyparsing>=2.3.1 in /d/hpc/home/bi4528/.venv/lib64/python3.11/site-packages (from matplotlib->-r requirements.txt (line 7)) (3.1.2)\n",
      "Requirement already satisfied: psutil in /d/hpc/home/bi4528/.venv/lib64/python3.11/site-packages (from accelerate->-r requirements.txt (line 9)) (5.9.8)\n",
      "Requirement already satisfied: torch>=1.10.0 in /d/hpc/home/bi4528/.venv/lib64/python3.11/site-packages (from accelerate->-r requirements.txt (line 9)) (2.3.0)\n",
      "Requirement already satisfied: safetensors>=0.3.1 in /d/hpc/home/bi4528/.venv/lib64/python3.11/site-packages (from accelerate->-r requirements.txt (line 9)) (0.4.3)\n",
      "Requirement already satisfied: filelock in /d/hpc/home/bi4528/.venv/lib64/python3.11/site-packages (from huggingface_hub->-r requirements.txt (line 11)) (3.13.4)\n",
      "Requirement already satisfied: fsspec>=2023.5.0 in /d/hpc/home/bi4528/.venv/lib64/python3.11/site-packages (from huggingface_hub->-r requirements.txt (line 11)) (2024.3.1)\n",
      "Requirement already satisfied: aiosignal>=1.1.2 in /d/hpc/home/bi4528/.venv/lib64/python3.11/site-packages (from aiohttp<4.0.0,>=3.8.3->langchain->-r requirements.txt (line 2)) (1.3.1)\n",
      "Requirement already satisfied: frozenlist>=1.1.1 in /d/hpc/home/bi4528/.venv/lib64/python3.11/site-packages (from aiohttp<4.0.0,>=3.8.3->langchain->-r requirements.txt (line 2)) (1.4.1)\n",
      "Requirement already satisfied: multidict<7.0,>=4.5 in /d/hpc/home/bi4528/.venv/lib64/python3.11/site-packages (from aiohttp<4.0.0,>=3.8.3->langchain->-r requirements.txt (line 2)) (6.0.5)\n",
      "Requirement already satisfied: yarl<2.0,>=1.0 in /d/hpc/home/bi4528/.venv/lib64/python3.11/site-packages (from aiohttp<4.0.0,>=3.8.3->langchain->-r requirements.txt (line 2)) (1.9.4)\n",
      "Requirement already satisfied: idna>=2.8 in /d/hpc/home/bi4528/.venv/lib64/python3.11/site-packages (from anyio<5,>=3.5.0->openai->-r requirements.txt (line 4)) (3.7)\n",
      "Requirement already satisfied: marshmallow<4.0.0,>=3.18.0 in /d/hpc/home/bi4528/.venv/lib64/python3.11/site-packages (from dataclasses-json<0.7,>=0.5.7->langchain->-r requirements.txt (line 2)) (3.21.1)\n",
      "Requirement already satisfied: typing-inspect<1,>=0.4.0 in /d/hpc/home/bi4528/.venv/lib64/python3.11/site-packages (from dataclasses-json<0.7,>=0.5.7->langchain->-r requirements.txt (line 2)) (0.9.0)\n",
      "Requirement already satisfied: certifi in /d/hpc/home/bi4528/.venv/lib64/python3.11/site-packages (from httpx<1,>=0.23.0->openai->-r requirements.txt (line 4)) (2024.2.2)\n",
      "Requirement already satisfied: httpcore==1.* in /d/hpc/home/bi4528/.venv/lib64/python3.11/site-packages (from httpx<1,>=0.23.0->openai->-r requirements.txt (line 4)) (1.0.5)\n",
      "Requirement already satisfied: h11<0.15,>=0.13 in /d/hpc/home/bi4528/.venv/lib64/python3.11/site-packages (from httpcore==1.*->httpx<1,>=0.23.0->openai->-r requirements.txt (line 4)) (0.14.0)\n",
      "Requirement already satisfied: jsonpointer>=1.9 in /d/hpc/home/bi4528/.venv/lib64/python3.11/site-packages (from jsonpatch<2.0,>=1.33->langchain->-r requirements.txt (line 2)) (2.4)\n",
      "Requirement already satisfied: orjson<4.0.0,>=3.9.14 in /d/hpc/home/bi4528/.venv/lib64/python3.11/site-packages (from langsmith<0.2.0,>=0.1.17->langchain->-r requirements.txt (line 2)) (3.10.1)\n",
      "Requirement already satisfied: annotated-types>=0.4.0 in /d/hpc/home/bi4528/.venv/lib64/python3.11/site-packages (from pydantic<3,>=1->langchain->-r requirements.txt (line 2)) (0.6.0)\n",
      "Requirement already satisfied: pydantic-core==2.18.2 in /d/hpc/home/bi4528/.venv/lib64/python3.11/site-packages (from pydantic<3,>=1->langchain->-r requirements.txt (line 2)) (2.18.2)\n",
      "Requirement already satisfied: six>=1.5 in /d/hpc/home/bi4528/.venv/lib64/python3.11/site-packages (from python-dateutil>=2.8.2->pandas->-r requirements.txt (line 1)) (1.16.0)\n",
      "Requirement already satisfied: charset-normalizer<4,>=2 in /d/hpc/home/bi4528/.venv/lib64/python3.11/site-packages (from requests<3,>=2->langchain->-r requirements.txt (line 2)) (3.3.2)\n",
      "Requirement already satisfied: urllib3<3,>=1.21.1 in /d/hpc/home/bi4528/.venv/lib64/python3.11/site-packages (from requests<3,>=2->langchain->-r requirements.txt (line 2)) (2.2.1)\n",
      "Requirement already satisfied: greenlet!=0.4.17 in /d/hpc/home/bi4528/.venv/lib64/python3.11/site-packages (from SQLAlchemy<3,>=1.4->langchain->-r requirements.txt (line 2)) (3.0.3)\n",
      "Requirement already satisfied: sympy in /d/hpc/home/bi4528/.venv/lib64/python3.11/site-packages (from torch>=1.10.0->accelerate->-r requirements.txt (line 9)) (1.12)\n",
      "Requirement already satisfied: jinja2 in /d/hpc/home/bi4528/.venv/lib64/python3.11/site-packages (from torch>=1.10.0->accelerate->-r requirements.txt (line 9)) (3.1.3)\n",
      "Requirement already satisfied: nvidia-cuda-nvrtc-cu12==12.1.105 in /d/hpc/home/bi4528/.venv/lib64/python3.11/site-packages (from torch>=1.10.0->accelerate->-r requirements.txt (line 9)) (12.1.105)\n",
      "Requirement already satisfied: nvidia-cuda-runtime-cu12==12.1.105 in /d/hpc/home/bi4528/.venv/lib64/python3.11/site-packages (from torch>=1.10.0->accelerate->-r requirements.txt (line 9)) (12.1.105)\n",
      "Requirement already satisfied: nvidia-cuda-cupti-cu12==12.1.105 in /d/hpc/home/bi4528/.venv/lib64/python3.11/site-packages (from torch>=1.10.0->accelerate->-r requirements.txt (line 9)) (12.1.105)\n",
      "Requirement already satisfied: nvidia-cudnn-cu12==8.9.2.26 in /d/hpc/home/bi4528/.venv/lib64/python3.11/site-packages (from torch>=1.10.0->accelerate->-r requirements.txt (line 9)) (8.9.2.26)\n",
      "Requirement already satisfied: nvidia-cublas-cu12==12.1.3.1 in /d/hpc/home/bi4528/.venv/lib64/python3.11/site-packages (from torch>=1.10.0->accelerate->-r requirements.txt (line 9)) (12.1.3.1)\n",
      "Requirement already satisfied: nvidia-cufft-cu12==11.0.2.54 in /d/hpc/home/bi4528/.venv/lib64/python3.11/site-packages (from torch>=1.10.0->accelerate->-r requirements.txt (line 9)) (11.0.2.54)\n",
      "Requirement already satisfied: nvidia-curand-cu12==10.3.2.106 in /d/hpc/home/bi4528/.venv/lib64/python3.11/site-packages (from torch>=1.10.0->accelerate->-r requirements.txt (line 9)) (10.3.2.106)\n",
      "Requirement already satisfied: nvidia-cusolver-cu12==11.4.5.107 in /d/hpc/home/bi4528/.venv/lib64/python3.11/site-packages (from torch>=1.10.0->accelerate->-r requirements.txt (line 9)) (11.4.5.107)\n",
      "Requirement already satisfied: nvidia-cusparse-cu12==12.1.0.106 in /d/hpc/home/bi4528/.venv/lib64/python3.11/site-packages (from torch>=1.10.0->accelerate->-r requirements.txt (line 9)) (12.1.0.106)\n",
      "Requirement already satisfied: nvidia-nccl-cu12==2.20.5 in /d/hpc/home/bi4528/.venv/lib64/python3.11/site-packages (from torch>=1.10.0->accelerate->-r requirements.txt (line 9)) (2.20.5)\n",
      "Requirement already satisfied: nvidia-nvtx-cu12==12.1.105 in /d/hpc/home/bi4528/.venv/lib64/python3.11/site-packages (from torch>=1.10.0->accelerate->-r requirements.txt (line 9)) (12.1.105)\n",
      "Requirement already satisfied: triton==2.3.0 in /d/hpc/home/bi4528/.venv/lib64/python3.11/site-packages (from torch>=1.10.0->accelerate->-r requirements.txt (line 9)) (2.3.0)\n",
      "Requirement already satisfied: nvidia-nvjitlink-cu12 in /d/hpc/home/bi4528/.venv/lib64/python3.11/site-packages (from nvidia-cusolver-cu12==11.4.5.107->torch>=1.10.0->accelerate->-r requirements.txt (line 9)) (12.4.127)\n",
      "Requirement already satisfied: mypy-extensions>=0.3.0 in /d/hpc/home/bi4528/.venv/lib64/python3.11/site-packages (from typing-inspect<1,>=0.4.0->dataclasses-json<0.7,>=0.5.7->langchain->-r requirements.txt (line 2)) (1.0.0)\n",
      "Requirement already satisfied: MarkupSafe>=2.0 in /d/hpc/home/bi4528/.venv/lib64/python3.11/site-packages (from jinja2->torch>=1.10.0->accelerate->-r requirements.txt (line 9)) (2.1.5)\n",
      "Requirement already satisfied: mpmath>=0.19 in /d/hpc/home/bi4528/.venv/lib64/python3.11/site-packages (from sympy->torch>=1.10.0->accelerate->-r requirements.txt (line 9)) (1.3.0)\n",
      "Using cached setuptools-69.5.1-py3-none-any.whl (894 kB)\n",
      "Installing collected packages: setuptools\n",
      "Successfully installed setuptools-69.5.1\n",
      "Note: you may need to restart the kernel to use updated packages.\n"
     ]
    }
   ],
   "source": [
    "%pip install -r requirements.txt"
   ]
  },
  {
   "cell_type": "code",
   "execution_count": 1,
   "metadata": {},
   "outputs": [],
   "source": [
    "import pandas as pd"
   ]
  },
  {
   "cell_type": "code",
   "execution_count": 3,
   "metadata": {},
   "outputs": [],
   "source": [
    "corp_path = './data'"
   ]
  },
  {
   "cell_type": "code",
   "execution_count": 2,
   "metadata": {},
   "outputs": [],
   "source": [
    "discussion_data = pd.read_pickle(r'./data/discussion_data.pkl')"
   ]
  },
  {
   "cell_type": "code",
   "execution_count": 3,
   "metadata": {},
   "outputs": [
    {
     "data": {
      "text/plain": [
       "'My assumption is'"
      ]
     },
     "execution_count": 3,
     "metadata": {},
     "output_type": "execute_result"
    }
   ],
   "source": [
    "discussion_types = discussion_data[discussion_data['R2DiscussionType'].notna()]\n",
    "discussion_messages = discussion_data[discussion_data['Message'].notna()]\n",
    "\n",
    "discussion_messages['Message'][1]"
   ]
  },
  {
   "cell_type": "markdown",
   "metadata": {},
   "source": [
    "## Setup"
   ]
  },
  {
   "cell_type": "code",
   "execution_count": 6,
   "metadata": {},
   "outputs": [
    {
     "name": "stdout",
     "output_type": "stream",
     "text": [
      "Note: you may need to restart the kernel to use updated packages.\n",
      "Note: you may need to restart the kernel to use updated packages.\n"
     ]
    }
   ],
   "source": [
    "%pip install -q -U trl transformers accelerate git+https://github.com/huggingface/peft.git\n",
    "%pip install -q -U  datasets bitsandbytes"
   ]
  },
  {
   "cell_type": "code",
   "execution_count": 4,
   "metadata": {},
   "outputs": [],
   "source": [
    "import os\n",
    "os.environ[\"CUDA_DEVICE_ORDER\"]=\"PCI_BUS_ID\"  \n",
    "os.environ[\"CUDA_VISIBLE_DEVICES\"]=\"0\"\n",
    "os.environ[\"CUDA_VISIBLE_DEVICES\"] = \"5\""
   ]
  },
  {
   "cell_type": "markdown",
   "metadata": {},
   "source": [
    "## Loading the model"
   ]
  },
  {
   "cell_type": "code",
   "execution_count": 5,
   "metadata": {},
   "outputs": [],
   "source": [
    "from dotenv import load_dotenv\n",
    "import os\n",
    "\n",
    "load_dotenv()  # This loads the .env file into the environment\n",
    "\n",
    "hf_token = os.getenv('HF_TOKEN')"
   ]
  },
  {
   "cell_type": "code",
   "execution_count": 6,
   "metadata": {},
   "outputs": [
    {
     "name": "stderr",
     "output_type": "stream",
     "text": [
      "/d/hpc/home/bi4528/.venv/lib64/python3.11/site-packages/tqdm/auto.py:21: TqdmWarning: IProgress not found. Please update jupyter and ipywidgets. See https://ipywidgets.readthedocs.io/en/stable/user_install.html\n",
      "  from .autonotebook import tqdm as notebook_tqdm\n"
     ]
    },
    {
     "ename": "ImportError",
     "evalue": "Using `bitsandbytes` 8-bit quantization requires Accelerate: `pip install accelerate` and the latest version of bitsandbytes: `pip install -i https://pypi.org/simple/ bitsandbytes`",
     "output_type": "error",
     "traceback": [
      "\u001b[0;31m---------------------------------------------------------------------------\u001b[0m",
      "\u001b[0;31mImportError\u001b[0m                               Traceback (most recent call last)",
      "Cell \u001b[0;32mIn[6], line 12\u001b[0m\n\u001b[1;32m      4\u001b[0m model_name \u001b[38;5;241m=\u001b[39m \u001b[38;5;124m'\u001b[39m\u001b[38;5;124mmeta-llama/Llama-2-13b-chat-hf\u001b[39m\u001b[38;5;124m'\u001b[39m\n\u001b[1;32m      6\u001b[0m bnb_config \u001b[38;5;241m=\u001b[39m BitsAndBytesConfig(\n\u001b[1;32m      7\u001b[0m     load_in_4bit\u001b[38;5;241m=\u001b[39m\u001b[38;5;28;01mTrue\u001b[39;00m, \u001b[38;5;66;03m# loading in 4 bit \u001b[39;00m\n\u001b[1;32m      8\u001b[0m     bnb_4bit_quant_type\u001b[38;5;241m=\u001b[39m\u001b[38;5;124m\"\u001b[39m\u001b[38;5;124mnf4\u001b[39m\u001b[38;5;124m\"\u001b[39m, \u001b[38;5;66;03m# quantization type\u001b[39;00m\n\u001b[1;32m      9\u001b[0m     bnb_4bit_use_double_quant\u001b[38;5;241m=\u001b[39m\u001b[38;5;28;01mTrue\u001b[39;00m, \u001b[38;5;66;03m# nested quantization \u001b[39;00m\n\u001b[1;32m     10\u001b[0m     bnb_4bit_compute_dtype\u001b[38;5;241m=\u001b[39mtorch\u001b[38;5;241m.\u001b[39mbfloat16,\n\u001b[1;32m     11\u001b[0m )\n\u001b[0;32m---> 12\u001b[0m model \u001b[38;5;241m=\u001b[39m \u001b[43mAutoModelForCausalLM\u001b[49m\u001b[38;5;241;43m.\u001b[39;49m\u001b[43mfrom_pretrained\u001b[49m\u001b[43m(\u001b[49m\n\u001b[1;32m     13\u001b[0m \u001b[43m    \u001b[49m\u001b[43mmodel_name\u001b[49m\u001b[43m,\u001b[49m\n\u001b[1;32m     14\u001b[0m \u001b[43m    \u001b[49m\u001b[43mquantization_config\u001b[49m\u001b[38;5;241;43m=\u001b[39;49m\u001b[43mbnb_config\u001b[49m\u001b[43m,\u001b[49m\n\u001b[1;32m     15\u001b[0m \u001b[43m    \u001b[49m\u001b[43mtrust_remote_code\u001b[49m\u001b[38;5;241;43m=\u001b[39;49m\u001b[38;5;28;43;01mTrue\u001b[39;49;00m\u001b[43m,\u001b[49m\n\u001b[1;32m     16\u001b[0m \u001b[43m    \u001b[49m\u001b[43mtoken\u001b[49m\u001b[38;5;241;43m=\u001b[39;49m\u001b[43mhf_token\u001b[49m\n\u001b[1;32m     17\u001b[0m \u001b[43m)\u001b[49m\n\u001b[1;32m     18\u001b[0m model\u001b[38;5;241m.\u001b[39mconfig\u001b[38;5;241m.\u001b[39muse_cache \u001b[38;5;241m=\u001b[39m \u001b[38;5;28;01mFalse\u001b[39;00m\n",
      "File \u001b[0;32m~/.venv/lib64/python3.11/site-packages/transformers/models/auto/auto_factory.py:563\u001b[0m, in \u001b[0;36m_BaseAutoModelClass.from_pretrained\u001b[0;34m(cls, pretrained_model_name_or_path, *model_args, **kwargs)\u001b[0m\n\u001b[1;32m    561\u001b[0m \u001b[38;5;28;01melif\u001b[39;00m \u001b[38;5;28mtype\u001b[39m(config) \u001b[38;5;129;01min\u001b[39;00m \u001b[38;5;28mcls\u001b[39m\u001b[38;5;241m.\u001b[39m_model_mapping\u001b[38;5;241m.\u001b[39mkeys():\n\u001b[1;32m    562\u001b[0m     model_class \u001b[38;5;241m=\u001b[39m _get_model_class(config, \u001b[38;5;28mcls\u001b[39m\u001b[38;5;241m.\u001b[39m_model_mapping)\n\u001b[0;32m--> 563\u001b[0m     \u001b[38;5;28;01mreturn\u001b[39;00m \u001b[43mmodel_class\u001b[49m\u001b[38;5;241;43m.\u001b[39;49m\u001b[43mfrom_pretrained\u001b[49m\u001b[43m(\u001b[49m\n\u001b[1;32m    564\u001b[0m \u001b[43m        \u001b[49m\u001b[43mpretrained_model_name_or_path\u001b[49m\u001b[43m,\u001b[49m\u001b[43m \u001b[49m\u001b[38;5;241;43m*\u001b[39;49m\u001b[43mmodel_args\u001b[49m\u001b[43m,\u001b[49m\u001b[43m \u001b[49m\u001b[43mconfig\u001b[49m\u001b[38;5;241;43m=\u001b[39;49m\u001b[43mconfig\u001b[49m\u001b[43m,\u001b[49m\u001b[43m \u001b[49m\u001b[38;5;241;43m*\u001b[39;49m\u001b[38;5;241;43m*\u001b[39;49m\u001b[43mhub_kwargs\u001b[49m\u001b[43m,\u001b[49m\u001b[43m \u001b[49m\u001b[38;5;241;43m*\u001b[39;49m\u001b[38;5;241;43m*\u001b[39;49m\u001b[43mkwargs\u001b[49m\n\u001b[1;32m    565\u001b[0m \u001b[43m    \u001b[49m\u001b[43m)\u001b[49m\n\u001b[1;32m    566\u001b[0m \u001b[38;5;28;01mraise\u001b[39;00m \u001b[38;5;167;01mValueError\u001b[39;00m(\n\u001b[1;32m    567\u001b[0m     \u001b[38;5;124mf\u001b[39m\u001b[38;5;124m\"\u001b[39m\u001b[38;5;124mUnrecognized configuration class \u001b[39m\u001b[38;5;132;01m{\u001b[39;00mconfig\u001b[38;5;241m.\u001b[39m\u001b[38;5;18m__class__\u001b[39m\u001b[38;5;132;01m}\u001b[39;00m\u001b[38;5;124m for this kind of AutoModel: \u001b[39m\u001b[38;5;132;01m{\u001b[39;00m\u001b[38;5;28mcls\u001b[39m\u001b[38;5;241m.\u001b[39m\u001b[38;5;18m__name__\u001b[39m\u001b[38;5;132;01m}\u001b[39;00m\u001b[38;5;124m.\u001b[39m\u001b[38;5;130;01m\\n\u001b[39;00m\u001b[38;5;124m\"\u001b[39m\n\u001b[1;32m    568\u001b[0m     \u001b[38;5;124mf\u001b[39m\u001b[38;5;124m\"\u001b[39m\u001b[38;5;124mModel type should be one of \u001b[39m\u001b[38;5;132;01m{\u001b[39;00m\u001b[38;5;124m'\u001b[39m\u001b[38;5;124m, \u001b[39m\u001b[38;5;124m'\u001b[39m\u001b[38;5;241m.\u001b[39mjoin(c\u001b[38;5;241m.\u001b[39m\u001b[38;5;18m__name__\u001b[39m\u001b[38;5;250m \u001b[39m\u001b[38;5;28;01mfor\u001b[39;00m\u001b[38;5;250m \u001b[39mc\u001b[38;5;250m \u001b[39m\u001b[38;5;129;01min\u001b[39;00m\u001b[38;5;250m \u001b[39m\u001b[38;5;28mcls\u001b[39m\u001b[38;5;241m.\u001b[39m_model_mapping\u001b[38;5;241m.\u001b[39mkeys())\u001b[38;5;132;01m}\u001b[39;00m\u001b[38;5;124m.\u001b[39m\u001b[38;5;124m\"\u001b[39m\n\u001b[1;32m    569\u001b[0m )\n",
      "File \u001b[0;32m~/.venv/lib64/python3.11/site-packages/transformers/modeling_utils.py:3165\u001b[0m, in \u001b[0;36mPreTrainedModel.from_pretrained\u001b[0;34m(cls, pretrained_model_name_or_path, config, cache_dir, ignore_mismatched_sizes, force_download, local_files_only, token, revision, use_safetensors, *model_args, **kwargs)\u001b[0m\n\u001b[1;32m   3162\u001b[0m     hf_quantizer \u001b[38;5;241m=\u001b[39m \u001b[38;5;28;01mNone\u001b[39;00m\n\u001b[1;32m   3164\u001b[0m \u001b[38;5;28;01mif\u001b[39;00m hf_quantizer \u001b[38;5;129;01mis\u001b[39;00m \u001b[38;5;129;01mnot\u001b[39;00m \u001b[38;5;28;01mNone\u001b[39;00m:\n\u001b[0;32m-> 3165\u001b[0m     \u001b[43mhf_quantizer\u001b[49m\u001b[38;5;241;43m.\u001b[39;49m\u001b[43mvalidate_environment\u001b[49m\u001b[43m(\u001b[49m\n\u001b[1;32m   3166\u001b[0m \u001b[43m        \u001b[49m\u001b[43mtorch_dtype\u001b[49m\u001b[38;5;241;43m=\u001b[39;49m\u001b[43mtorch_dtype\u001b[49m\u001b[43m,\u001b[49m\u001b[43m \u001b[49m\u001b[43mfrom_tf\u001b[49m\u001b[38;5;241;43m=\u001b[39;49m\u001b[43mfrom_tf\u001b[49m\u001b[43m,\u001b[49m\u001b[43m \u001b[49m\u001b[43mfrom_flax\u001b[49m\u001b[38;5;241;43m=\u001b[39;49m\u001b[43mfrom_flax\u001b[49m\u001b[43m,\u001b[49m\u001b[43m \u001b[49m\u001b[43mdevice_map\u001b[49m\u001b[38;5;241;43m=\u001b[39;49m\u001b[43mdevice_map\u001b[49m\n\u001b[1;32m   3167\u001b[0m \u001b[43m    \u001b[49m\u001b[43m)\u001b[49m\n\u001b[1;32m   3168\u001b[0m     torch_dtype \u001b[38;5;241m=\u001b[39m hf_quantizer\u001b[38;5;241m.\u001b[39mupdate_torch_dtype(torch_dtype)\n\u001b[1;32m   3169\u001b[0m     device_map \u001b[38;5;241m=\u001b[39m hf_quantizer\u001b[38;5;241m.\u001b[39mupdate_device_map(device_map)\n",
      "File \u001b[0;32m~/.venv/lib64/python3.11/site-packages/transformers/quantizers/quantizer_bnb_4bit.py:62\u001b[0m, in \u001b[0;36mBnb4BitHfQuantizer.validate_environment\u001b[0;34m(self, *args, **kwargs)\u001b[0m\n\u001b[1;32m     60\u001b[0m \u001b[38;5;28;01mdef\u001b[39;00m \u001b[38;5;21mvalidate_environment\u001b[39m(\u001b[38;5;28mself\u001b[39m, \u001b[38;5;241m*\u001b[39margs, \u001b[38;5;241m*\u001b[39m\u001b[38;5;241m*\u001b[39mkwargs):\n\u001b[1;32m     61\u001b[0m     \u001b[38;5;28;01mif\u001b[39;00m \u001b[38;5;129;01mnot\u001b[39;00m (is_accelerate_available() \u001b[38;5;129;01mand\u001b[39;00m is_bitsandbytes_available()):\n\u001b[0;32m---> 62\u001b[0m         \u001b[38;5;28;01mraise\u001b[39;00m \u001b[38;5;167;01mImportError\u001b[39;00m(\n\u001b[1;32m     63\u001b[0m             \u001b[38;5;124m\"\u001b[39m\u001b[38;5;124mUsing `bitsandbytes` 8-bit quantization requires Accelerate: `pip install accelerate` \u001b[39m\u001b[38;5;124m\"\u001b[39m\n\u001b[1;32m     64\u001b[0m             \u001b[38;5;124m\"\u001b[39m\u001b[38;5;124mand the latest version of bitsandbytes: `pip install -i https://pypi.org/simple/ bitsandbytes`\u001b[39m\u001b[38;5;124m\"\u001b[39m\n\u001b[1;32m     65\u001b[0m         )\n\u001b[1;32m     67\u001b[0m     \u001b[38;5;28;01mif\u001b[39;00m kwargs\u001b[38;5;241m.\u001b[39mget(\u001b[38;5;124m\"\u001b[39m\u001b[38;5;124mfrom_tf\u001b[39m\u001b[38;5;124m\"\u001b[39m, \u001b[38;5;28;01mFalse\u001b[39;00m) \u001b[38;5;129;01mor\u001b[39;00m kwargs\u001b[38;5;241m.\u001b[39mget(\u001b[38;5;124m\"\u001b[39m\u001b[38;5;124mfrom_flax\u001b[39m\u001b[38;5;124m\"\u001b[39m, \u001b[38;5;28;01mFalse\u001b[39;00m):\n\u001b[1;32m     68\u001b[0m         \u001b[38;5;28;01mraise\u001b[39;00m \u001b[38;5;167;01mValueError\u001b[39;00m(\n\u001b[1;32m     69\u001b[0m             \u001b[38;5;124m\"\u001b[39m\u001b[38;5;124mConverting into 4-bit or 8-bit weights from tf/flax weights is currently not supported, please make\u001b[39m\u001b[38;5;124m\"\u001b[39m\n\u001b[1;32m     70\u001b[0m             \u001b[38;5;124m\"\u001b[39m\u001b[38;5;124m sure the weights are in PyTorch format.\u001b[39m\u001b[38;5;124m\"\u001b[39m\n\u001b[1;32m     71\u001b[0m         )\n",
      "\u001b[0;31mImportError\u001b[0m: Using `bitsandbytes` 8-bit quantization requires Accelerate: `pip install accelerate` and the latest version of bitsandbytes: `pip install -i https://pypi.org/simple/ bitsandbytes`"
     ]
    }
   ],
   "source": [
    "import torch\n",
    "from transformers import pipeline, AutoModelForCausalLM, AutoTokenizer, BitsAndBytesConfig, AutoTokenizer\n",
    "\n",
    "model_name = 'meta-llama/Llama-2-13b-chat-hf'\n",
    "\n",
    "bnb_config = BitsAndBytesConfig(\n",
    "    load_in_4bit=True, # loading in 4 bit \n",
    "    bnb_4bit_quant_type=\"nf4\", # quantization type\n",
    "    bnb_4bit_use_double_quant=True, # nested quantization \n",
    "    bnb_4bit_compute_dtype=torch.bfloat16,\n",
    ")\n",
    "model = AutoModelForCausalLM.from_pretrained(\n",
    "    model_name,\n",
    "    quantization_config=bnb_config,\n",
    "    trust_remote_code=True,\n",
    "    token=hf_token\n",
    ")\n",
    "model.config.use_cache = False"
   ]
  },
  {
   "cell_type": "code",
   "execution_count": 7,
   "metadata": {},
   "outputs": [
    {
     "name": "stderr",
     "output_type": "stream",
     "text": [
      "The installed version of bitsandbytes was compiled without GPU support. 8-bit optimizers, 8-bit multiplication, and GPU quantization are unavailable.\n"
     ]
    },
    {
     "name": "stdout",
     "output_type": "stream",
     "text": [
      "Accelerate version: 0.29.3\n",
      "BitsandBytes version: 0.43.1\n"
     ]
    }
   ],
   "source": [
    "import accelerate\n",
    "import bitsandbytes as bnb\n",
    "print(\"Accelerate version:\", accelerate.__version__)\n",
    "print(\"BitsandBytes version:\", bnb.__version__)"
   ]
  },
  {
   "cell_type": "code",
   "execution_count": 8,
   "metadata": {},
   "outputs": [
    {
     "name": "stdout",
     "output_type": "stream",
     "text": [
      "wn101.arnes.si\n"
     ]
    }
   ],
   "source": [
    "!hostname"
   ]
  },
  {
   "cell_type": "code",
   "execution_count": 10,
   "metadata": {},
   "outputs": [
    {
     "name": "stdout",
     "output_type": "stream",
     "text": [
      "2.3.0+cu121\n"
     ]
    }
   ],
   "source": [
    "print(torch.__version__)"
   ]
  },
  {
   "cell_type": "markdown",
   "metadata": {},
   "source": []
  }
 ],
 "metadata": {
  "kernelspec": {
   "display_name": "Python 3 (ipykernel)",
   "language": "python",
   "name": "python3"
  },
  "language_info": {
   "codemirror_mode": {
    "name": "ipython",
    "version": 3
   },
   "file_extension": ".py",
   "mimetype": "text/x-python",
   "name": "python",
   "nbconvert_exporter": "python",
   "pygments_lexer": "ipython3",
   "version": "3.11.5"
  }
 },
 "nbformat": 4,
 "nbformat_minor": 2
}
