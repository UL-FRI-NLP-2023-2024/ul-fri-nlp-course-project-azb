{
 "cells": [
  {
   "cell_type": "code",
   "execution_count": 1,
   "id": "8044c871",
   "metadata": {},
   "outputs": [
    {
     "name": "stdout",
     "output_type": "stream",
     "text": [
      "aiohttp==3.9.5\n",
      "aiosignal==1.3.1\n",
      "annotated-types==0.6.0\n",
      "anyio==4.3.0\n",
      "argon2-cffi==23.1.0\n",
      "argon2-cffi-bindings==21.2.0\n",
      "arrow==1.3.0\n",
      "asttokens==2.4.1\n",
      "async-lru==2.0.4\n",
      "async-timeout==4.0.3\n",
      "attrs==23.2.0\n",
      "Babel==2.14.0\n",
      "beautifulsoup4==4.12.3\n",
      "bleach==6.1.0\n",
      "certifi==2024.2.2\n",
      "cffi==1.16.0\n",
      "charset-normalizer==3.3.2\n",
      "colorama==0.4.6\n",
      "comm==0.2.2\n",
      "contourpy==1.2.1\n",
      "cuda-python==12.4.0\n",
      "cycler==0.12.1\n",
      "dataclasses-json==0.6.4\n",
      "debugpy==1.8.1\n",
      "decorator==5.1.1\n",
      "defusedxml==0.7.1\n",
      "distro==1.9.0\n",
      "et-xmlfile==1.1.0\n",
      "exceptiongroup==1.2.1\n",
      "executing==2.0.1\n",
      "fastjsonschema==2.19.1\n",
      "filelock==3.13.4\n",
      "fonttools==4.51.0\n",
      "fqdn==1.5.1\n",
      "frozenlist==1.4.1\n",
      "fsspec==2024.3.1\n",
      "greenlet==3.0.3\n",
      "h11==0.14.0\n",
      "httpcore==1.0.5\n",
      "httpx==0.27.0\n",
      "huggingface-hub==0.22.2\n",
      "idna==3.7\n",
      "importlib_metadata==7.1.0\n",
      "importlib_resources==6.4.0\n",
      "intel-openmp==2021.4.0\n",
      "ipykernel==6.29.4\n",
      "ipython==8.18.1\n",
      "ipywidgets==8.1.2\n",
      "isoduration==20.11.0\n",
      "jedi==0.19.1\n",
      "Jinja2==3.1.3\n",
      "json5==0.9.25\n",
      "jsonlines==4.0.0\n",
      "jsonpatch==1.33\n",
      "jsonpointer==2.4\n",
      "jsonschema==4.21.1\n",
      "jsonschema-specifications==2023.12.1\n",
      "jupyter==1.0.0\n",
      "jupyter-console==6.6.3\n",
      "jupyter-events==0.10.0\n",
      "jupyter-lsp==2.2.5\n",
      "jupyter_client==8.6.1\n",
      "jupyter_core==5.7.2\n",
      "jupyter_server==2.14.0\n",
      "jupyter_server_terminals==0.5.3\n",
      "jupyterlab==4.1.8\n",
      "jupyterlab_pygments==0.3.0\n",
      "jupyterlab_server==2.27.1\n",
      "jupyterlab_widgets==3.0.10\n",
      "kiwisolver==1.4.5\n",
      "langchain==0.1.16\n",
      "langchain-community==0.0.34\n",
      "langchain-core==0.1.46\n",
      "langchain-text-splitters==0.0.1\n",
      "langsmith==0.1.51\n",
      "MarkupSafe==2.1.5\n",
      "marshmallow==3.21.1\n",
      "matplotlib==3.8.4\n",
      "matplotlib-inline==0.1.7\n",
      "mistune==3.0.2\n",
      "mkl==2021.4.0\n",
      "mpmath==1.3.0\n",
      "multidict==6.0.5\n",
      "mypy-extensions==1.0.0\n",
      "nbclient==0.10.0\n",
      "nbconvert==7.16.3\n",
      "nbformat==5.10.4\n",
      "nest-asyncio==1.6.0\n",
      "networkx==3.2.1\n",
      "notebook==7.1.3\n",
      "notebook_shim==0.2.4\n",
      "numpy==1.26.4\n",
      "openai==1.23.6\n",
      "openpyxl==3.1.2\n",
      "orjson==3.10.1\n",
      "overrides==7.7.0\n",
      "packaging==23.2\n",
      "pandas==2.2.2\n",
      "pandocfilters==1.5.1\n",
      "parso==0.8.4\n",
      "pillow==10.3.0\n",
      "platformdirs==4.2.1\n",
      "prometheus_client==0.20.0\n",
      "prompt-toolkit==3.0.43\n",
      "psutil==5.9.8\n",
      "pure-eval==0.2.2\n",
      "pycparser==2.22\n",
      "pydantic==2.7.1\n",
      "pydantic_core==2.18.2\n",
      "Pygments==2.17.2\n",
      "pyparsing==3.1.2\n",
      "python-dateutil==2.9.0.post0\n",
      "python-dotenv==1.0.1\n",
      "python-json-logger==2.0.7\n",
      "pytz==2024.1\n",
      "pywin32==306\n",
      "pywinpty==2.0.13\n",
      "PyYAML==6.0.1\n",
      "pyzmq==26.0.2\n",
      "qtconsole==5.5.1\n",
      "QtPy==2.4.1\n",
      "referencing==0.35.0\n",
      "regex==2024.4.16\n",
      "requests==2.31.0\n",
      "rfc3339-validator==0.1.4\n",
      "rfc3986-validator==0.1.1\n",
      "rpds-py==0.18.0\n",
      "safetensors==0.4.3\n",
      "Send2Trash==1.8.3\n",
      "six==1.16.0\n",
      "sniffio==1.3.1\n",
      "soupsieve==2.5\n",
      "SQLAlchemy==2.0.29\n",
      "stack-data==0.6.3\n",
      "sympy==1.12\n",
      "tbb==2021.11.0\n",
      "tenacity==8.2.3\n",
      "terminado==0.18.1\n",
      "tinycss2==1.3.0\n",
      "tokenizers==0.19.1\n",
      "tomli==2.0.1\n",
      "torch==2.3.0+cu121\n",
      "torchaudio==2.3.0+cu121\n",
      "torchvision==0.18.0+cu121\n",
      "tornado==6.4\n",
      "tqdm==4.66.2\n",
      "traitlets==5.14.3\n",
      "transformers==4.40.1\n",
      "types-python-dateutil==2.9.0.20240316\n",
      "typing-inspect==0.9.0\n",
      "typing_extensions==4.11.0\n",
      "tzdata==2024.1\n",
      "uri-template==1.3.0\n",
      "urllib3==2.2.1\n",
      "wcwidth==0.2.13\n",
      "webcolors==1.13\n",
      "webencodings==0.5.1\n",
      "websocket-client==1.8.0\n",
      "widgetsnbextension==4.0.10\n",
      "yarl==1.9.4\n",
      "zipp==3.18.1\n",
      "Note: you may need to restart the kernel to use updated packages.\n"
     ]
    }
   ],
   "source": [
    "pip freeze\n"
   ]
  },
  {
   "cell_type": "code",
   "execution_count": 12,
   "id": "642b0385",
   "metadata": {},
   "outputs": [],
   "source": [
    "from sklearn import preprocessing\n",
    "import pandas as pd\n",
    "import numpy as np\n",
    "from sklearn.model_selection import train_test_split"
   ]
  },
  {
   "cell_type": "code",
   "execution_count": 2,
   "id": "6f8cc4c9",
   "metadata": {},
   "outputs": [
    {
     "name": "stdout",
     "output_type": "stream",
     "text": [
      "1\n"
     ]
    }
   ],
   "source": [
    "print(torch.cuda.device_count())"
   ]
  },
  {
   "cell_type": "code",
   "execution_count": 2,
   "id": "56552472",
   "metadata": {},
   "outputs": [],
   "source": [
    "discussion_data = pd.read_pickle('../data/discussion_data.pkl')"
   ]
  },
  {
   "cell_type": "code",
   "execution_count": 6,
   "id": "500238a7",
   "metadata": {},
   "outputs": [
    {
     "data": {
      "text/html": [
       "<div>\n",
       "<style scoped>\n",
       "    .dataframe tbody tr th:only-of-type {\n",
       "        vertical-align: middle;\n",
       "    }\n",
       "\n",
       "    .dataframe tbody tr th {\n",
       "        vertical-align: top;\n",
       "    }\n",
       "\n",
       "    .dataframe thead th {\n",
       "        text-align: right;\n",
       "    }\n",
       "</style>\n",
       "<table border=\"1\" class=\"dataframe\">\n",
       "  <thead>\n",
       "    <tr style=\"text-align: right;\">\n",
       "      <th></th>\n",
       "      <th>Pseudonym</th>\n",
       "      <th>Message</th>\n",
       "      <th>R2DiscussionType</th>\n",
       "      <th>R2Uptake</th>\n",
       "      <th>R2Pivot</th>\n",
       "    </tr>\n",
       "  </thead>\n",
       "  <tbody>\n",
       "    <tr>\n",
       "      <th>0</th>\n",
       "      <td>pim-01</td>\n",
       "      <td>Hello.</td>\n",
       "      <td>Social</td>\n",
       "      <td>NaN</td>\n",
       "      <td>NaN</td>\n",
       "    </tr>\n",
       "    <tr>\n",
       "      <th>1</th>\n",
       "      <td>pim-01</td>\n",
       "      <td>My assumption is</td>\n",
       "      <td>Seminar</td>\n",
       "      <td>NaN</td>\n",
       "      <td>Social/Procedure/UX to Seminar</td>\n",
       "    </tr>\n",
       "    <tr>\n",
       "      <th>2</th>\n",
       "      <td>pim-01</td>\n",
       "      <td>that the emphasis on barbarism implies that sh...</td>\n",
       "      <td>Seminar</td>\n",
       "      <td>NaN</td>\n",
       "      <td>NaN</td>\n",
       "    </tr>\n",
       "    <tr>\n",
       "      <th>3</th>\n",
       "      <td>pim-03</td>\n",
       "      <td>I agree with Cassandra's noticing</td>\n",
       "      <td>Seminar</td>\n",
       "      <td>Affirm</td>\n",
       "      <td>NaN</td>\n",
       "    </tr>\n",
       "    <tr>\n",
       "      <th>4</th>\n",
       "      <td>pim-03</td>\n",
       "      <td>of the author's word choice of barbarism.</td>\n",
       "      <td>Seminar</td>\n",
       "      <td>Affirm</td>\n",
       "      <td>NaN</td>\n",
       "    </tr>\n",
       "    <tr>\n",
       "      <th>...</th>\n",
       "      <td>...</td>\n",
       "      <td>...</td>\n",
       "      <td>...</td>\n",
       "      <td>...</td>\n",
       "      <td>...</td>\n",
       "    </tr>\n",
       "    <tr>\n",
       "      <th>606</th>\n",
       "      <td>Stephanie</td>\n",
       "      <td>P2: The king may send his daughter to the aren...</td>\n",
       "      <td>Seminar</td>\n",
       "      <td>NaN</td>\n",
       "      <td>NaN</td>\n",
       "    </tr>\n",
       "    <tr>\n",
       "      <th>607</th>\n",
       "      <td>John</td>\n",
       "      <td>I have no guess as to which is behind the door...</td>\n",
       "      <td>Seminar</td>\n",
       "      <td>NaN</td>\n",
       "      <td>NaN</td>\n",
       "    </tr>\n",
       "    <tr>\n",
       "      <th>608</th>\n",
       "      <td>John</td>\n",
       "      <td>Part 2: The daughter is “the apple of the king...</td>\n",
       "      <td>Seminar</td>\n",
       "      <td>NaN</td>\n",
       "      <td>NaN</td>\n",
       "    </tr>\n",
       "    <tr>\n",
       "      <th>609</th>\n",
       "      <td>Christopher</td>\n",
       "      <td>Part 1: Honestly hard to say, though I'd like ...</td>\n",
       "      <td>Seminar</td>\n",
       "      <td>NaN</td>\n",
       "      <td>NaN</td>\n",
       "    </tr>\n",
       "    <tr>\n",
       "      <th>610</th>\n",
       "      <td>Christopher</td>\n",
       "      <td>Part 2: The king most certainly spares his dau...</td>\n",
       "      <td>Seminar</td>\n",
       "      <td>NaN</td>\n",
       "      <td>NaN</td>\n",
       "    </tr>\n",
       "  </tbody>\n",
       "</table>\n",
       "<p>611 rows × 5 columns</p>\n",
       "</div>"
      ],
      "text/plain": [
       "       Pseudonym                                            Message  \\\n",
       "0         pim-01                                            Hello.    \n",
       "1         pim-01                                   My assumption is   \n",
       "2         pim-01  that the emphasis on barbarism implies that sh...   \n",
       "3         pim-03                 I agree with Cassandra's noticing    \n",
       "4         pim-03          of the author's word choice of barbarism.   \n",
       "..           ...                                                ...   \n",
       "606    Stephanie  P2: The king may send his daughter to the aren...   \n",
       "607         John  I have no guess as to which is behind the door...   \n",
       "608         John  Part 2: The daughter is “the apple of the king...   \n",
       "609  Christopher  Part 1: Honestly hard to say, though I'd like ...   \n",
       "610  Christopher  Part 2: The king most certainly spares his dau...   \n",
       "\n",
       "    R2DiscussionType R2Uptake                         R2Pivot  \n",
       "0             Social      NaN                             NaN  \n",
       "1            Seminar      NaN  Social/Procedure/UX to Seminar  \n",
       "2            Seminar      NaN                             NaN  \n",
       "3            Seminar   Affirm                             NaN  \n",
       "4            Seminar   Affirm                             NaN  \n",
       "..               ...      ...                             ...  \n",
       "606          Seminar      NaN                             NaN  \n",
       "607          Seminar      NaN                             NaN  \n",
       "608          Seminar      NaN                             NaN  \n",
       "609          Seminar      NaN                             NaN  \n",
       "610          Seminar      NaN                             NaN  \n",
       "\n",
       "[611 rows x 5 columns]"
      ]
     },
     "execution_count": 6,
     "metadata": {},
     "output_type": "execute_result"
    }
   ],
   "source": [
    "discussion_data"
   ]
  },
  {
   "cell_type": "code",
   "execution_count": 3,
   "id": "e8c27424",
   "metadata": {},
   "outputs": [
    {
     "data": {
      "text/plain": [
       "array(['Social', 'Seminar', 'Procedure', 'Other', 'Deliberation', 'UX',\n",
       "       'Imaginative', 'Seminar, Deliberation', 'Social, Deliberation',\n",
       "       'Deliberation, Seminar', 'Social, Procedure'], dtype=object)"
      ]
     },
     "execution_count": 3,
     "metadata": {},
     "output_type": "execute_result"
    }
   ],
   "source": [
    "discussion_data['R2DiscussionType'].unique()"
   ]
  },
  {
   "cell_type": "code",
   "execution_count": 11,
   "id": "c7c16db1",
   "metadata": {},
   "outputs": [
    {
     "data": {
      "text/plain": [
       "count         611\n",
       "unique         11\n",
       "top       Seminar\n",
       "freq          333\n",
       "Name: R2DiscussionType, dtype: object"
      ]
     },
     "execution_count": 11,
     "metadata": {},
     "output_type": "execute_result"
    }
   ],
   "source": [
    "discussion_data['R2DiscussionType'].describe()"
   ]
  },
  {
   "cell_type": "code",
   "execution_count": 12,
   "id": "8615bc3e",
   "metadata": {},
   "outputs": [
    {
     "data": {
      "text/html": [
       "<div>\n",
       "<style scoped>\n",
       "    .dataframe tbody tr th:only-of-type {\n",
       "        vertical-align: middle;\n",
       "    }\n",
       "\n",
       "    .dataframe tbody tr th {\n",
       "        vertical-align: top;\n",
       "    }\n",
       "\n",
       "    .dataframe thead th {\n",
       "        text-align: right;\n",
       "    }\n",
       "</style>\n",
       "<table border=\"1\" class=\"dataframe\">\n",
       "  <thead>\n",
       "    <tr style=\"text-align: right;\">\n",
       "      <th></th>\n",
       "      <th>Pseudonym</th>\n",
       "      <th>Message</th>\n",
       "      <th>R2DiscussionType</th>\n",
       "      <th>R2Uptake</th>\n",
       "      <th>R2Pivot</th>\n",
       "    </tr>\n",
       "  </thead>\n",
       "  <tbody>\n",
       "    <tr>\n",
       "      <th>count</th>\n",
       "      <td>611</td>\n",
       "      <td>611</td>\n",
       "      <td>611</td>\n",
       "      <td>368</td>\n",
       "      <td>47</td>\n",
       "    </tr>\n",
       "    <tr>\n",
       "      <th>unique</th>\n",
       "      <td>67</td>\n",
       "      <td>606</td>\n",
       "      <td>11</td>\n",
       "      <td>5</td>\n",
       "      <td>13</td>\n",
       "    </tr>\n",
       "    <tr>\n",
       "      <th>top</th>\n",
       "      <td>pim-11</td>\n",
       "      <td>...</td>\n",
       "      <td>Seminar</td>\n",
       "      <td>Affirm</td>\n",
       "      <td>Seminar to Social/Procedure/UX</td>\n",
       "    </tr>\n",
       "    <tr>\n",
       "      <th>freq</th>\n",
       "      <td>54</td>\n",
       "      <td>3</td>\n",
       "      <td>333</td>\n",
       "      <td>140</td>\n",
       "      <td>10</td>\n",
       "    </tr>\n",
       "  </tbody>\n",
       "</table>\n",
       "</div>"
      ],
      "text/plain": [
       "       Pseudonym Message R2DiscussionType R2Uptake  \\\n",
       "count        611     611              611      368   \n",
       "unique        67     606               11        5   \n",
       "top       pim-11     ...          Seminar   Affirm   \n",
       "freq          54       3              333      140   \n",
       "\n",
       "                               R2Pivot  \n",
       "count                               47  \n",
       "unique                              13  \n",
       "top     Seminar to Social/Procedure/UX  \n",
       "freq                                10  "
      ]
     },
     "execution_count": 12,
     "metadata": {},
     "output_type": "execute_result"
    }
   ],
   "source": [
    "discussion_data.describe()"
   ]
  },
  {
   "cell_type": "code",
   "execution_count": 14,
   "id": "7f016bfd",
   "metadata": {},
   "outputs": [
    {
     "data": {
      "text/plain": [
       "R2DiscussionType\n",
       "Seminar                  333\n",
       "Deliberation              85\n",
       "Social                    69\n",
       "UX                        47\n",
       "Procedure                 46\n",
       "Imaginative               20\n",
       "Other                      6\n",
       "Seminar, Deliberation      2\n",
       "Social, Deliberation       1\n",
       "Deliberation, Seminar      1\n",
       "Social, Procedure          1\n",
       "Name: count, dtype: int64"
      ]
     },
     "execution_count": 14,
     "metadata": {},
     "output_type": "execute_result"
    }
   ],
   "source": [
    "discussion_data['R2DiscussionType'].value_counts()\n"
   ]
  },
  {
   "cell_type": "code",
   "execution_count": 4,
   "id": "b6b323b5",
   "metadata": {},
   "outputs": [],
   "source": [
    "discussion_data['R2DiscussionType'] = discussion_data['R2DiscussionType'].apply(lambda x: x.replace('Social, Deliberation','Social'))\n",
    "discussion_data['R2DiscussionType'] = discussion_data['R2DiscussionType'].apply(lambda x: x.replace('Social, Procedure','Social'))\n",
    "discussion_data['R2DiscussionType'] = discussion_data['R2DiscussionType'].apply(lambda x: x.replace('Seminar, Deliberation','Seminar'))\n",
    "discussion_data['R2DiscussionType'] = discussion_data['R2DiscussionType'].apply(lambda x: x.replace('Deliberation, Seminar','Deliberation'))\n"
   ]
  },
  {
   "cell_type": "code",
   "execution_count": 5,
   "id": "10473e16",
   "metadata": {},
   "outputs": [
    {
     "data": {
      "text/plain": [
       "R2DiscussionType\n",
       "Seminar         335\n",
       "Deliberation     86\n",
       "Social           71\n",
       "UX               47\n",
       "Procedure        46\n",
       "Imaginative      20\n",
       "Other             6\n",
       "Name: count, dtype: int64"
      ]
     },
     "execution_count": 5,
     "metadata": {},
     "output_type": "execute_result"
    }
   ],
   "source": [
    "discussion_data['R2DiscussionType'].value_counts()"
   ]
  },
  {
   "cell_type": "code",
   "execution_count": 7,
   "id": "eee5c6cf",
   "metadata": {},
   "outputs": [],
   "source": [
    "### test train val split\n",
    "\n",
    "data = pd.DataFrame()\n",
    "\n",
    "data['text'] = discussion_data['Message']\n",
    "data['label'] = discussion_data['R2DiscussionType']"
   ]
  },
  {
   "cell_type": "code",
   "execution_count": 10,
   "id": "5068224b",
   "metadata": {},
   "outputs": [
    {
     "data": {
      "text/html": [
       "<div>\n",
       "<style scoped>\n",
       "    .dataframe tbody tr th:only-of-type {\n",
       "        vertical-align: middle;\n",
       "    }\n",
       "\n",
       "    .dataframe tbody tr th {\n",
       "        vertical-align: top;\n",
       "    }\n",
       "\n",
       "    .dataframe thead th {\n",
       "        text-align: right;\n",
       "    }\n",
       "</style>\n",
       "<table border=\"1\" class=\"dataframe\">\n",
       "  <thead>\n",
       "    <tr style=\"text-align: right;\">\n",
       "      <th></th>\n",
       "      <th>text</th>\n",
       "      <th>label</th>\n",
       "    </tr>\n",
       "  </thead>\n",
       "  <tbody>\n",
       "    <tr>\n",
       "      <th>0</th>\n",
       "      <td>Hello.</td>\n",
       "      <td>5</td>\n",
       "    </tr>\n",
       "    <tr>\n",
       "      <th>1</th>\n",
       "      <td>My assumption is</td>\n",
       "      <td>4</td>\n",
       "    </tr>\n",
       "    <tr>\n",
       "      <th>2</th>\n",
       "      <td>that the emphasis on barbarism implies that sh...</td>\n",
       "      <td>4</td>\n",
       "    </tr>\n",
       "    <tr>\n",
       "      <th>3</th>\n",
       "      <td>I agree with Cassandra's noticing</td>\n",
       "      <td>4</td>\n",
       "    </tr>\n",
       "    <tr>\n",
       "      <th>4</th>\n",
       "      <td>of the author's word choice of barbarism.</td>\n",
       "      <td>4</td>\n",
       "    </tr>\n",
       "  </tbody>\n",
       "</table>\n",
       "</div>"
      ],
      "text/plain": [
       "                                                text  label\n",
       "0                                            Hello.       5\n",
       "1                                   My assumption is      4\n",
       "2  that the emphasis on barbarism implies that sh...      4\n",
       "3                 I agree with Cassandra's noticing       4\n",
       "4          of the author's word choice of barbarism.      4"
      ]
     },
     "execution_count": 10,
     "metadata": {},
     "output_type": "execute_result"
    }
   ],
   "source": [
    "label_encoder = preprocessing.LabelEncoder()\n",
    "data['label'] = label_encoder.fit_transform(data['label'])\n",
    "\n",
    "data.head()"
   ]
  },
  {
   "cell_type": "code",
   "execution_count": 13,
   "id": "f45bb29a",
   "metadata": {},
   "outputs": [
    {
     "name": "stdout",
     "output_type": "stream",
     "text": [
      "Train dataset shape: (427,), \n",
      "Test dataset shape: (92,) \n",
      "Validation dataset shape: (92,)\n"
     ]
    }
   ],
   "source": [
    "X = (np.array(data['text']))\n",
    "y = (np.array(data['label']))\n",
    "\n",
    "X_train, X_test, y_train, y_test = train_test_split(X, y, test_size=0.3, random_state=13)\n",
    "X_val, X_test, y_val, y_test = train_test_split(X_test, y_test, test_size=0.5, random_state=42)\n",
    "print(\"Train dataset shape: {0}, \\nTest dataset shape: {1} \\nValidation dataset shape: {2}\".format(X_train.shape, X_test.shape, X_val.shape))"
   ]
  },
  {
   "cell_type": "code",
   "execution_count": 17,
   "id": "b197671a",
   "metadata": {},
   "outputs": [],
   "source": [
    "from collections import Counter"
   ]
  },
  {
   "cell_type": "code",
   "execution_count": 18,
   "id": "d9e08ef2",
   "metadata": {},
   "outputs": [
    {
     "data": {
      "text/plain": [
       "Counter({4: 54, 0: 12, 5: 12, 6: 5, 3: 4, 1: 4, 2: 1})"
      ]
     },
     "execution_count": 18,
     "metadata": {},
     "output_type": "execute_result"
    }
   ],
   "source": [
    "Counter(y_test)"
   ]
  },
  {
   "cell_type": "code",
   "execution_count": 19,
   "id": "085a4836",
   "metadata": {},
   "outputs": [
    {
     "data": {
      "text/plain": [
       "Counter({4: 54, 0: 10, 5: 9, 6: 9, 3: 6, 1: 4})"
      ]
     },
     "execution_count": 19,
     "metadata": {},
     "output_type": "execute_result"
    }
   ],
   "source": [
    "Counter(y_val)"
   ]
  },
  {
   "cell_type": "code",
   "execution_count": 20,
   "id": "67905614",
   "metadata": {},
   "outputs": [
    {
     "data": {
      "text/plain": [
       "Counter({4: 227, 0: 64, 5: 50, 3: 36, 6: 33, 1: 12, 2: 5})"
      ]
     },
     "execution_count": 20,
     "metadata": {},
     "output_type": "execute_result"
    }
   ],
   "source": [
    "Counter(y_train)"
   ]
  },
  {
   "cell_type": "code",
   "execution_count": 21,
   "id": "51f27fc5",
   "metadata": {},
   "outputs": [],
   "source": [
    "train_df = pd.DataFrame()\n",
    "test_df = pd.DataFrame()\n",
    "val_df = pd.DataFrame()"
   ]
  },
  {
   "cell_type": "code",
   "execution_count": 22,
   "id": "5fcab259",
   "metadata": {},
   "outputs": [],
   "source": [
    "train_df['text'] = X_train\n",
    "train_df['label'] = y_train\n",
    "\n",
    "test_df['text'] = X_test\n",
    "test_df['label'] = y_test\n",
    "\n",
    "val_df['text'] = X_val\n",
    "val_df['label'] = y_val"
   ]
  },
  {
   "cell_type": "code",
   "execution_count": 23,
   "id": "d660bfef",
   "metadata": {},
   "outputs": [],
   "source": [
    "train_df.to_pickle('train_dataset')"
   ]
  },
  {
   "cell_type": "code",
   "execution_count": 24,
   "id": "fbd60b0f",
   "metadata": {},
   "outputs": [],
   "source": [
    "test_df.to_pickle('test_dataset')"
   ]
  },
  {
   "cell_type": "code",
   "execution_count": 25,
   "id": "23820818",
   "metadata": {},
   "outputs": [],
   "source": [
    "val_df.to_pickle('val_dataset')"
   ]
  },
  {
   "cell_type": "code",
   "execution_count": null,
   "id": "8ef5908c",
   "metadata": {},
   "outputs": [],
   "source": []
  }
 ],
 "metadata": {
  "kernelspec": {
   "display_name": "nlp",
   "language": "python",
   "name": "nlp"
  },
  "language_info": {
   "codemirror_mode": {
    "name": "ipython",
    "version": 3
   },
   "file_extension": ".py",
   "mimetype": "text/x-python",
   "name": "python",
   "nbconvert_exporter": "python",
   "pygments_lexer": "ipython3",
   "version": "3.9.12"
  }
 },
 "nbformat": 4,
 "nbformat_minor": 5
}
