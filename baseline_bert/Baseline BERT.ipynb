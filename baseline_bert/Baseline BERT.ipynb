{
 "cells": [
  {
   "cell_type": "code",
   "execution_count": 29,
   "id": "243935bf",
   "metadata": {},
   "outputs": [],
   "source": [
    "import pandas as pd\n",
    "import pickle\n",
    "from datasets import Dataset\n",
    "import torch\n",
    "from datasets import DatasetDict\n",
    "from transformers import BertForSequenceClassification, BertTokenizer\n",
    "from transformers import DataCollatorWithPadding\n",
    "import evaluate\n",
    "from transformers import TrainingArguments, Trainer\n",
    "import numpy as np"
   ]
  },
  {
   "cell_type": "code",
   "execution_count": 2,
   "id": "126f97f4",
   "metadata": {},
   "outputs": [],
   "source": [
    "train_df = pd.read_pickle(\"train_dataset\")\n",
    "test_df = pd.read_pickle(\"test_dataset\")\n",
    "val_df = pd.read_pickle(\"val_dataset\")"
   ]
  },
  {
   "cell_type": "code",
   "execution_count": 3,
   "id": "7873ff9f",
   "metadata": {},
   "outputs": [],
   "source": [
    "dataset = DatasetDict({\n",
    "    'train': Dataset.from_pandas(train_df),\n",
    "    'test': Dataset.from_pandas(test_df),\n",
    "    'unsupervised': Dataset.from_pandas(val_df)\n",
    "})"
   ]
  },
  {
   "cell_type": "code",
   "execution_count": 5,
   "id": "ccbe9de9",
   "metadata": {},
   "outputs": [
    {
     "data": {
      "text/plain": [
       "DatasetDict({\n",
       "    train: Dataset({\n",
       "        features: ['text', 'label'],\n",
       "        num_rows: 427\n",
       "    })\n",
       "    test: Dataset({\n",
       "        features: ['text', 'label'],\n",
       "        num_rows: 92\n",
       "    })\n",
       "    unsupervised: Dataset({\n",
       "        features: ['text', 'label'],\n",
       "        num_rows: 92\n",
       "    })\n",
       "})"
      ]
     },
     "execution_count": 5,
     "metadata": {},
     "output_type": "execute_result"
    }
   ],
   "source": [
    "dataset"
   ]
  },
  {
   "cell_type": "code",
   "execution_count": 4,
   "id": "b007f6b3",
   "metadata": {},
   "outputs": [],
   "source": [
    "# define preprocess function\n",
    "def preprocess_function(examples):\n",
    "    return tokenizer(examples[\"text\"], truncation=True)"
   ]
  },
  {
   "cell_type": "code",
   "execution_count": 7,
   "id": "49739c68",
   "metadata": {},
   "outputs": [],
   "source": [
    "tokenizer = BertTokenizer.from_pretrained(\"bert-base-cased\")"
   ]
  },
  {
   "cell_type": "code",
   "execution_count": 8,
   "id": "cb05c219",
   "metadata": {},
   "outputs": [
    {
     "data": {
      "application/vnd.jupyter.widget-view+json": {
       "model_id": "c2c40404b1114324b3df83fb77dd8666",
       "version_major": 2,
       "version_minor": 0
      },
      "text/plain": [
       "Map:   0%|          | 0/427 [00:00<?, ? examples/s]"
      ]
     },
     "metadata": {},
     "output_type": "display_data"
    },
    {
     "data": {
      "application/vnd.jupyter.widget-view+json": {
       "model_id": "3f0243e7230b4fbbb89cad571cdf6ddb",
       "version_major": 2,
       "version_minor": 0
      },
      "text/plain": [
       "Map:   0%|          | 0/92 [00:00<?, ? examples/s]"
      ]
     },
     "metadata": {},
     "output_type": "display_data"
    },
    {
     "data": {
      "application/vnd.jupyter.widget-view+json": {
       "model_id": "d03a10c353ca4607a67404507050f625",
       "version_major": 2,
       "version_minor": 0
      },
      "text/plain": [
       "Map:   0%|          | 0/92 [00:00<?, ? examples/s]"
      ]
     },
     "metadata": {},
     "output_type": "display_data"
    }
   ],
   "source": [
    "tokenized_data = dataset.map(preprocess_function, batched=True, batch_size=100,  load_from_cache_file=True)"
   ]
  },
  {
   "cell_type": "code",
   "execution_count": 9,
   "id": "e707ae99",
   "metadata": {},
   "outputs": [
    {
     "data": {
      "text/plain": [
       "dict_keys(['text', 'label', 'input_ids', 'token_type_ids', 'attention_mask'])"
      ]
     },
     "execution_count": 9,
     "metadata": {},
     "output_type": "execute_result"
    }
   ],
   "source": [
    "tokenized_data['train'][0].keys()"
   ]
  },
  {
   "cell_type": "code",
   "execution_count": 11,
   "id": "9e491b28",
   "metadata": {},
   "outputs": [],
   "source": [
    "data_collator = DataCollatorWithPadding(tokenizer=tokenizer)"
   ]
  },
  {
   "cell_type": "code",
   "execution_count": 13,
   "id": "8192a537",
   "metadata": {},
   "outputs": [],
   "source": [
    "accuracy = evaluate.load(\"accuracy\")"
   ]
  },
  {
   "cell_type": "code",
   "execution_count": 30,
   "id": "8261365a",
   "metadata": {},
   "outputs": [],
   "source": [
    "def compute_metrics(eval_pred):\n",
    "    predictions, labels = eval_pred\n",
    "    predictions = np.argmax(predictions, axis=1)\n",
    "    return accuracy.compute(predictions=predictions, references=labels)"
   ]
  },
  {
   "cell_type": "code",
   "execution_count": 17,
   "id": "b34e0449",
   "metadata": {},
   "outputs": [
    {
     "data": {
      "text/plain": [
       "array([4, 5, 6, 0, 3, 1, 2])"
      ]
     },
     "execution_count": 17,
     "metadata": {},
     "output_type": "execute_result"
    }
   ],
   "source": [
    "train_df['label'].unique()"
   ]
  },
  {
   "cell_type": "code",
   "execution_count": 18,
   "id": "1ae45c81",
   "metadata": {},
   "outputs": [
    {
     "name": "stderr",
     "output_type": "stream",
     "text": [
      "Some weights of the model checkpoint at bert-base-cased were not used when initializing BertForSequenceClassification: ['cls.seq_relationship.weight', 'cls.predictions.transform.LayerNorm.bias', 'cls.predictions.transform.dense.bias', 'cls.predictions.transform.LayerNorm.weight', 'cls.seq_relationship.bias', 'cls.predictions.transform.dense.weight', 'cls.predictions.bias']\n",
      "- This IS expected if you are initializing BertForSequenceClassification from the checkpoint of a model trained on another task or with another architecture (e.g. initializing a BertForSequenceClassification model from a BertForPreTraining model).\n",
      "- This IS NOT expected if you are initializing BertForSequenceClassification from the checkpoint of a model that you expect to be exactly identical (initializing a BertForSequenceClassification model from a BertForSequenceClassification model).\n",
      "Some weights of BertForSequenceClassification were not initialized from the model checkpoint at bert-base-cased and are newly initialized: ['classifier.weight', 'classifier.bias']\n",
      "You should probably TRAIN this model on a down-stream task to be able to use it for predictions and inference.\n"
     ]
    }
   ],
   "source": [
    "model = BertForSequenceClassification.from_pretrained(\"bert-base-cased\", num_labels=7)"
   ]
  },
  {
   "cell_type": "code",
   "execution_count": 31,
   "id": "2bdc3120",
   "metadata": {},
   "outputs": [],
   "source": [
    "training_args = TrainingArguments(\n",
    "    output_dir=\"./bert_runs\",\n",
    "    learning_rate=2e-5,\n",
    "    per_device_train_batch_size=4,\n",
    "    per_device_eval_batch_size=4,\n",
    "    num_train_epochs=10,\n",
    "    weight_decay=0.01,\n",
    "    evaluation_strategy=\"epoch\",\n",
    "    save_strategy=\"epoch\",\n",
    "    load_best_model_at_end=True,\n",
    ")"
   ]
  },
  {
   "cell_type": "code",
   "execution_count": 32,
   "id": "256e0126",
   "metadata": {},
   "outputs": [],
   "source": [
    "trainer = Trainer(\n",
    "    model=model,\n",
    "    args=training_args,\n",
    "    train_dataset=tokenized_data[\"train\"],\n",
    "    eval_dataset=tokenized_data[\"test\"],\n",
    "    tokenizer=tokenizer,\n",
    "    data_collator=data_collator,\n",
    "    compute_metrics=compute_metrics,\n",
    ")"
   ]
  },
  {
   "cell_type": "code",
   "execution_count": 33,
   "id": "b5ec38f3",
   "metadata": {},
   "outputs": [],
   "source": [
    "torch.cuda.empty_cache()"
   ]
  },
  {
   "cell_type": "code",
   "execution_count": 34,
   "id": "47dc77a5",
   "metadata": {},
   "outputs": [
    {
     "data": {
      "text/html": [
       "\n",
       "    <div>\n",
       "      \n",
       "      <progress value='1070' max='1070' style='width:300px; height:20px; vertical-align: middle;'></progress>\n",
       "      [1070/1070 04:47, Epoch 10/10]\n",
       "    </div>\n",
       "    <table border=\"1\" class=\"dataframe\">\n",
       "  <thead>\n",
       " <tr style=\"text-align: left;\">\n",
       "      <th>Epoch</th>\n",
       "      <th>Training Loss</th>\n",
       "      <th>Validation Loss</th>\n",
       "      <th>Accuracy</th>\n",
       "    </tr>\n",
       "  </thead>\n",
       "  <tbody>\n",
       "    <tr>\n",
       "      <td>1</td>\n",
       "      <td>No log</td>\n",
       "      <td>0.856298</td>\n",
       "      <td>0.728261</td>\n",
       "    </tr>\n",
       "    <tr>\n",
       "      <td>2</td>\n",
       "      <td>No log</td>\n",
       "      <td>0.906006</td>\n",
       "      <td>0.760870</td>\n",
       "    </tr>\n",
       "    <tr>\n",
       "      <td>3</td>\n",
       "      <td>No log</td>\n",
       "      <td>0.925589</td>\n",
       "      <td>0.706522</td>\n",
       "    </tr>\n",
       "    <tr>\n",
       "      <td>4</td>\n",
       "      <td>No log</td>\n",
       "      <td>1.022355</td>\n",
       "      <td>0.728261</td>\n",
       "    </tr>\n",
       "    <tr>\n",
       "      <td>5</td>\n",
       "      <td>0.457100</td>\n",
       "      <td>1.088503</td>\n",
       "      <td>0.760870</td>\n",
       "    </tr>\n",
       "    <tr>\n",
       "      <td>6</td>\n",
       "      <td>0.457100</td>\n",
       "      <td>1.176671</td>\n",
       "      <td>0.739130</td>\n",
       "    </tr>\n",
       "    <tr>\n",
       "      <td>7</td>\n",
       "      <td>0.457100</td>\n",
       "      <td>1.236261</td>\n",
       "      <td>0.728261</td>\n",
       "    </tr>\n",
       "    <tr>\n",
       "      <td>8</td>\n",
       "      <td>0.457100</td>\n",
       "      <td>1.301437</td>\n",
       "      <td>0.739130</td>\n",
       "    </tr>\n",
       "    <tr>\n",
       "      <td>9</td>\n",
       "      <td>0.457100</td>\n",
       "      <td>1.311407</td>\n",
       "      <td>0.739130</td>\n",
       "    </tr>\n",
       "    <tr>\n",
       "      <td>10</td>\n",
       "      <td>0.033500</td>\n",
       "      <td>1.324309</td>\n",
       "      <td>0.739130</td>\n",
       "    </tr>\n",
       "  </tbody>\n",
       "</table><p>"
      ],
      "text/plain": [
       "<IPython.core.display.HTML object>"
      ]
     },
     "metadata": {},
     "output_type": "display_data"
    },
    {
     "data": {
      "text/plain": [
       "TrainOutput(global_step=1070, training_loss=0.22969851463197546, metrics={'train_runtime': 287.2986, 'train_samples_per_second': 14.863, 'train_steps_per_second': 3.724, 'total_flos': 126075938513100.0, 'train_loss': 0.22969851463197546, 'epoch': 10.0})"
      ]
     },
     "execution_count": 34,
     "metadata": {},
     "output_type": "execute_result"
    }
   ],
   "source": [
    "trainer.train()"
   ]
  },
  {
   "cell_type": "code",
   "execution_count": 35,
   "id": "250c8682",
   "metadata": {},
   "outputs": [
    {
     "data": {
      "text/html": [
       "\n",
       "    <div>\n",
       "      \n",
       "      <progress value='23' max='23' style='width:300px; height:20px; vertical-align: middle;'></progress>\n",
       "      [23/23 00:01]\n",
       "    </div>\n",
       "    "
      ],
      "text/plain": [
       "<IPython.core.display.HTML object>"
      ]
     },
     "metadata": {},
     "output_type": "display_data"
    },
    {
     "data": {
      "text/plain": [
       "{'eval_loss': 0.8562980890274048,\n",
       " 'eval_accuracy': 0.7282608695652174,\n",
       " 'eval_runtime': 1.267,\n",
       " 'eval_samples_per_second': 72.613,\n",
       " 'eval_steps_per_second': 18.153,\n",
       " 'epoch': 10.0}"
      ]
     },
     "execution_count": 35,
     "metadata": {},
     "output_type": "execute_result"
    }
   ],
   "source": [
    "trainer.evaluate()"
   ]
  },
  {
   "cell_type": "code",
   "execution_count": 42,
   "id": "52296c93",
   "metadata": {},
   "outputs": [],
   "source": [
    "training_args = TrainingArguments(\n",
    "    output_dir=\"./bert_runs\",\n",
    "    learning_rate=2e-5,\n",
    "    per_device_train_batch_size=8,\n",
    "    per_device_eval_batch_size=8,\n",
    "    num_train_epochs=10,\n",
    "    weight_decay=0.01,\n",
    "    evaluation_strategy=\"epoch\",\n",
    "    save_strategy=\"epoch\",\n",
    "    load_best_model_at_end=True,\n",
    ")"
   ]
  },
  {
   "cell_type": "code",
   "execution_count": 43,
   "id": "12d7a360",
   "metadata": {},
   "outputs": [],
   "source": [
    "trainer = Trainer(\n",
    "    model=model,\n",
    "    args=training_args,\n",
    "    train_dataset=tokenized_data[\"train\"],\n",
    "    eval_dataset=tokenized_data[\"test\"],\n",
    "    tokenizer=tokenizer,\n",
    "    data_collator=data_collator,\n",
    "    compute_metrics=compute_metrics,\n",
    ")"
   ]
  },
  {
   "cell_type": "code",
   "execution_count": 44,
   "id": "e6c26439",
   "metadata": {},
   "outputs": [],
   "source": [
    "torch.cuda.empty_cache()"
   ]
  },
  {
   "cell_type": "code",
   "execution_count": 45,
   "id": "bdff7043",
   "metadata": {},
   "outputs": [
    {
     "name": "stderr",
     "output_type": "stream",
     "text": [
      "C:\\Users\\Ana\\Desktop\\local playground NLP\\nlp\\lib\\site-packages\\transformers\\optimization.py:411: FutureWarning: This implementation of AdamW is deprecated and will be removed in a future version. Use the PyTorch implementation torch.optim.AdamW instead, or set `no_deprecation_warning=True` to disable this warning\n",
      "  warnings.warn(\n"
     ]
    },
    {
     "data": {
      "text/html": [
       "\n",
       "    <div>\n",
       "      \n",
       "      <progress value='540' max='540' style='width:300px; height:20px; vertical-align: middle;'></progress>\n",
       "      [540/540 06:57, Epoch 10/10]\n",
       "    </div>\n",
       "    <table border=\"1\" class=\"dataframe\">\n",
       "  <thead>\n",
       " <tr style=\"text-align: left;\">\n",
       "      <th>Epoch</th>\n",
       "      <th>Training Loss</th>\n",
       "      <th>Validation Loss</th>\n",
       "      <th>Accuracy</th>\n",
       "    </tr>\n",
       "  </thead>\n",
       "  <tbody>\n",
       "    <tr>\n",
       "      <td>1</td>\n",
       "      <td>No log</td>\n",
       "      <td>1.033177</td>\n",
       "      <td>0.750000</td>\n",
       "    </tr>\n",
       "    <tr>\n",
       "      <td>2</td>\n",
       "      <td>No log</td>\n",
       "      <td>0.907752</td>\n",
       "      <td>0.771739</td>\n",
       "    </tr>\n",
       "    <tr>\n",
       "      <td>3</td>\n",
       "      <td>No log</td>\n",
       "      <td>0.970062</td>\n",
       "      <td>0.793478</td>\n",
       "    </tr>\n",
       "    <tr>\n",
       "      <td>4</td>\n",
       "      <td>No log</td>\n",
       "      <td>1.099334</td>\n",
       "      <td>0.771739</td>\n",
       "    </tr>\n",
       "    <tr>\n",
       "      <td>5</td>\n",
       "      <td>No log</td>\n",
       "      <td>1.048463</td>\n",
       "      <td>0.760870</td>\n",
       "    </tr>\n",
       "    <tr>\n",
       "      <td>6</td>\n",
       "      <td>No log</td>\n",
       "      <td>1.082632</td>\n",
       "      <td>0.771739</td>\n",
       "    </tr>\n",
       "    <tr>\n",
       "      <td>7</td>\n",
       "      <td>No log</td>\n",
       "      <td>1.142383</td>\n",
       "      <td>0.771739</td>\n",
       "    </tr>\n",
       "    <tr>\n",
       "      <td>8</td>\n",
       "      <td>No log</td>\n",
       "      <td>1.180340</td>\n",
       "      <td>0.750000</td>\n",
       "    </tr>\n",
       "    <tr>\n",
       "      <td>9</td>\n",
       "      <td>No log</td>\n",
       "      <td>1.202066</td>\n",
       "      <td>0.750000</td>\n",
       "    </tr>\n",
       "    <tr>\n",
       "      <td>10</td>\n",
       "      <td>0.095900</td>\n",
       "      <td>1.202592</td>\n",
       "      <td>0.750000</td>\n",
       "    </tr>\n",
       "  </tbody>\n",
       "</table><p>"
      ],
      "text/plain": [
       "<IPython.core.display.HTML object>"
      ]
     },
     "metadata": {},
     "output_type": "display_data"
    },
    {
     "data": {
      "text/plain": [
       "TrainOutput(global_step=540, training_loss=0.0892551847630077, metrics={'train_runtime': 417.6259, 'train_samples_per_second': 10.224, 'train_steps_per_second': 1.293, 'total_flos': 175062016055100.0, 'train_loss': 0.0892551847630077, 'epoch': 10.0})"
      ]
     },
     "execution_count": 45,
     "metadata": {},
     "output_type": "execute_result"
    }
   ],
   "source": [
    "trainer.train()"
   ]
  },
  {
   "cell_type": "code",
   "execution_count": 46,
   "id": "8fef79bc",
   "metadata": {},
   "outputs": [
    {
     "data": {
      "text/html": [],
      "text/plain": [
       "<IPython.core.display.HTML object>"
      ]
     },
     "metadata": {},
     "output_type": "display_data"
    },
    {
     "data": {
      "text/plain": [
       "{'eval_loss': 0.9077516794204712,\n",
       " 'eval_accuracy': 0.7717391304347826,\n",
       " 'eval_runtime': 1.7083,\n",
       " 'eval_samples_per_second': 53.856,\n",
       " 'eval_steps_per_second': 7.025,\n",
       " 'epoch': 10.0}"
      ]
     },
     "execution_count": 46,
     "metadata": {},
     "output_type": "execute_result"
    }
   ],
   "source": [
    "trainer.evaluate()"
   ]
  },
  {
   "cell_type": "code",
   "execution_count": 47,
   "id": "d2891580",
   "metadata": {},
   "outputs": [],
   "source": [
    "trainer.save_model('./baseline_bert')"
   ]
  },
  {
   "cell_type": "code",
   "execution_count": 49,
   "id": "7181de2c",
   "metadata": {},
   "outputs": [
    {
     "data": {
      "text/plain": [
       "PredictionOutput(predictions=array([[-1.64433467e+00,  2.88456857e-01, -3.14732909e-01,\n",
       "        -1.13448203e+00,  1.46027863e+00,  4.26518393e+00,\n",
       "        -1.19324017e+00],\n",
       "       [ 1.95076859e+00, -1.36538720e+00, -2.64445186e+00,\n",
       "         2.92469710e-02, -2.04532218e+00, -6.66371226e-01,\n",
       "         5.54735720e-01],\n",
       "       [-4.97009665e-01,  2.11432949e-01, -1.04289520e+00,\n",
       "        -1.44406736e+00,  6.81269598e+00, -8.06788981e-01,\n",
       "        -1.61416578e+00],\n",
       "       [ 8.10820043e-01, -9.84315991e-01, -1.22105169e+00,\n",
       "        -3.64282221e-01, -3.35116088e-01,  4.44170684e-02,\n",
       "         1.30879378e+00],\n",
       "       [-1.16928017e+00,  3.94857287e-01, -1.66562200e+00,\n",
       "        -1.23402858e+00,  1.27487934e+00,  3.08241796e+00,\n",
       "        -1.07579768e+00],\n",
       "       [ 3.03948950e-03,  3.77182811e-01, -1.33690202e+00,\n",
       "        -1.42729068e+00,  6.27806473e+00, -1.21254778e+00,\n",
       "        -1.61610413e+00],\n",
       "       [-4.19007778e-01,  2.19068572e-01, -1.19383562e+00,\n",
       "        -1.45633817e+00,  6.71228027e+00, -9.58976328e-01,\n",
       "        -1.61760008e+00],\n",
       "       [-6.11670494e-01, -8.87421906e-01, -2.36036444e+00,\n",
       "         1.86082900e+00, -2.93570948e+00,  2.34638548e+00,\n",
       "        -7.54981220e-01],\n",
       "       [-6.07343554e-01,  2.93925464e-01, -1.17070138e+00,\n",
       "        -1.37803817e+00,  6.65929270e+00, -7.98594356e-01,\n",
       "        -1.71555698e+00],\n",
       "       [-5.78935325e-01,  2.12453082e-01, -1.34071493e+00,\n",
       "        -1.44981551e+00,  6.56818104e+00, -8.09004247e-01,\n",
       "        -1.69774389e+00],\n",
       "       [-8.35989714e-01,  4.55780238e-01, -1.46709645e+00,\n",
       "        -1.70498657e+00,  3.11274242e+00,  2.33684778e+00,\n",
       "        -1.70856595e+00],\n",
       "       [-5.22419095e-01,  2.46358886e-01, -1.03276217e+00,\n",
       "        -1.44051242e+00,  6.80122471e+00, -8.14792454e-01,\n",
       "        -1.57424569e+00],\n",
       "       [ 1.25299227e+00,  1.00306347e-01, -2.30057621e+00,\n",
       "        -1.36937702e+00,  3.64371967e+00, -1.41382182e+00,\n",
       "        -1.22216153e+00],\n",
       "       [ 3.70720577e+00, -7.83008516e-01, -2.72229171e+00,\n",
       "        -6.78632379e-01, -5.96064091e-01, -1.73329294e+00,\n",
       "        -6.51606143e-01],\n",
       "       [-5.18655956e-01,  2.97112405e-01, -1.16204154e+00,\n",
       "        -1.43134558e+00,  6.73961973e+00, -8.68361175e-01,\n",
       "        -1.62379265e+00],\n",
       "       [ 8.92221272e-01, -1.32068372e+00, -1.77044642e+00,\n",
       "         1.35180140e+00, -2.45736980e+00, -1.99305427e+00,\n",
       "         2.16433072e+00],\n",
       "       [-5.63186586e-01,  2.52546757e-01, -1.28918397e+00,\n",
       "        -1.47363925e+00,  6.47172308e+00, -8.21159065e-01,\n",
       "        -1.72364712e+00],\n",
       "       [-4.82380360e-01,  1.66040316e-01, -1.13810074e+00,\n",
       "        -1.45086813e+00,  6.78206587e+00, -8.89028847e-01,\n",
       "        -1.66961956e+00],\n",
       "       [ 1.12504995e+00,  3.14497203e-01, -1.59140241e+00,\n",
       "        -1.39192200e+00,  5.30611420e+00, -1.77540994e+00,\n",
       "        -1.35444760e+00],\n",
       "       [-3.90861899e-01,  3.35954176e-03, -1.05892432e+00,\n",
       "        -1.48957634e+00,  6.81998014e+00, -8.17123055e-01,\n",
       "        -1.53659105e+00],\n",
       "       [ 2.81420493e+00, -1.51810631e-01, -2.16842985e+00,\n",
       "        -1.61185718e+00,  1.70061028e+00, -2.00991607e+00,\n",
       "        -6.81257784e-01],\n",
       "       [-4.47757423e-01,  3.89168590e-01, -1.22693610e+00,\n",
       "        -1.46506429e+00,  6.65550375e+00, -8.90624344e-01,\n",
       "        -1.56395721e+00],\n",
       "       [-4.77157503e-01,  4.59960908e-01, -1.41002381e+00,\n",
       "        -1.45325851e+00,  6.36005163e+00, -8.94341052e-01,\n",
       "        -1.64533389e+00],\n",
       "       [ 2.21853286e-01,  3.38127732e-01, -7.35496998e-01,\n",
       "        -4.49960381e-01, -6.24050438e-01,  2.67330456e+00,\n",
       "        -9.26877320e-01],\n",
       "       [ 7.60008693e-01, -1.30495489e+00, -2.25064158e+00,\n",
       "         2.41955018e+00, -3.13532400e+00, -1.17156661e+00,\n",
       "         7.94666350e-01],\n",
       "       [-4.94398862e-01,  3.27834874e-01, -1.34590375e+00,\n",
       "        -1.42865109e+00,  6.48030281e+00, -9.61982012e-01,\n",
       "        -1.61759233e+00],\n",
       "       [-1.68033868e-01,  4.01337296e-01, -1.75341511e+00,\n",
       "        -1.64841533e+00,  5.49612856e+00, -8.54885042e-01,\n",
       "        -1.41060066e+00],\n",
       "       [ 1.07197297e+00, -1.31374669e+00, -1.28946555e+00,\n",
       "         1.22364116e+00, -2.91995049e+00, -1.96750760e+00,\n",
       "         2.12851501e+00],\n",
       "       [ 4.06227922e+00, -4.93688613e-01, -2.05158997e+00,\n",
       "        -8.09124053e-01, -1.19824040e+00, -1.68301487e+00,\n",
       "        -8.19515049e-01],\n",
       "       [-1.58803833e+00, -9.36589897e-01, -1.59203231e+00,\n",
       "         1.00985670e+00, -2.45230770e+00,  4.58931065e+00,\n",
       "        -8.50453615e-01],\n",
       "       [ 7.84915924e-01, -9.91714895e-01, -6.27666235e-01,\n",
       "         3.12048614e-01, -2.30307102e+00, -1.78887641e+00,\n",
       "         2.62519741e+00],\n",
       "       [-5.80955029e-01,  3.72130364e-01, -1.24030936e+00,\n",
       "        -1.37790728e+00,  6.54887819e+00, -8.26378524e-01,\n",
       "        -1.71628249e+00],\n",
       "       [-7.70402670e-01,  3.11499238e-01, -1.03131425e+00,\n",
       "        -1.38041461e+00,  6.50249910e+00, -3.65642339e-01,\n",
       "        -1.76760387e+00],\n",
       "       [-4.45160896e-01,  3.10509533e-01, -1.20657241e+00,\n",
       "        -1.41096354e+00,  6.67095327e+00, -9.81202662e-01,\n",
       "        -1.63466477e+00],\n",
       "       [-4.06216413e-01,  2.60642022e-01, -1.17004347e+00,\n",
       "        -1.41698134e+00,  6.65619230e+00, -9.55323815e-01,\n",
       "        -1.62665701e+00],\n",
       "       [ 8.62851366e-02, -8.27626646e-01, -2.52863717e+00,\n",
       "         2.09945512e+00, -2.40033388e+00,  1.17826724e+00,\n",
       "        -1.26112759e+00],\n",
       "       [ 6.64439678e-01,  2.80693352e-01, -1.69427228e+00,\n",
       "        -1.62379658e+00,  4.75592375e+00, -1.31359529e+00,\n",
       "        -1.54594100e+00],\n",
       "       [-2.36316547e-01,  2.89718539e-01, -9.75028515e-01,\n",
       "        -1.56809390e+00,  6.49354219e+00, -7.64659584e-01,\n",
       "        -1.47912180e+00],\n",
       "       [ 3.90996695e+00, -4.89803135e-01, -1.92246783e+00,\n",
       "        -1.13111901e+00, -1.55252248e-01, -2.08996892e+00,\n",
       "        -7.33368635e-01],\n",
       "       [ 3.70384240e+00, -1.07376337e+00, -2.19581795e+00,\n",
       "         1.62302166e-01, -2.31559992e+00, -1.77295375e+00,\n",
       "        -2.39022538e-01],\n",
       "       [-3.70028436e-01,  1.24824241e-01, -8.34959149e-01,\n",
       "        -1.43738389e+00,  6.61418295e+00, -6.81723177e-01,\n",
       "        -1.57215548e+00],\n",
       "       [ 2.01105332e+00, -9.89632785e-01, -1.65892315e+00,\n",
       "        -7.15854168e-01,  1.99164391e-01,  6.48616329e-02,\n",
       "         1.66242406e-01],\n",
       "       [ 4.27366114e+00, -7.17795372e-01, -2.08712912e+00,\n",
       "        -8.13465357e-01, -1.62348521e+00, -2.07738280e+00,\n",
       "        -4.62889999e-01],\n",
       "       [ 1.67123497e+00,  2.84771651e-01, -2.06751013e+00,\n",
       "        -7.43498325e-01, -6.86312556e-01, -1.18279576e+00,\n",
       "        -9.08299267e-01],\n",
       "       [-5.46960592e-01,  3.45485777e-01, -1.16533983e+00,\n",
       "        -1.44213057e+00,  6.69540453e+00, -7.74537385e-01,\n",
       "        -1.62256360e+00],\n",
       "       [ 3.01721513e-01, -1.45320499e+00, -2.20623612e+00,\n",
       "         2.59125495e+00, -3.02723360e+00, -8.08114946e-01,\n",
       "         8.59301865e-01],\n",
       "       [-1.21228182e+00, -6.11423910e-01, -1.48928297e+00,\n",
       "         8.49324912e-02, -1.34303546e+00,  4.71044445e+00,\n",
       "        -1.16089010e+00],\n",
       "       [ 2.26912761e+00, -1.04872692e+00, -1.65216756e+00,\n",
       "         8.00503612e-01, -3.03114557e+00, -2.46950293e+00,\n",
       "         1.72020864e+00],\n",
       "       [ 2.71061587e+00, -1.25154054e+00, -2.22164440e+00,\n",
       "         1.46539569e+00, -2.86464357e+00, -2.28796911e+00,\n",
       "         7.61869311e-01],\n",
       "       [ 3.91133237e+00, -7.43272603e-01, -2.01269245e+00,\n",
       "        -9.80922520e-01, -6.06265485e-01, -1.83097911e+00,\n",
       "        -9.88176763e-01],\n",
       "       [-5.31135142e-01,  1.47563502e-01, -1.23797846e+00,\n",
       "        -1.41041934e+00,  6.69059753e+00, -8.58922780e-01,\n",
       "        -1.68026257e+00],\n",
       "       [-4.14343983e-01,  3.32415372e-01, -9.07287717e-01,\n",
       "        -1.43958759e+00,  6.68032885e+00, -7.53652513e-01,\n",
       "        -1.54263854e+00],\n",
       "       [-4.87167329e-01,  2.25012645e-01, -1.21008718e+00,\n",
       "        -1.47704577e+00,  6.76534939e+00, -8.62142205e-01,\n",
       "        -1.60934389e+00],\n",
       "       [ 2.43709397e+00, -8.95399749e-01, -1.43607199e+00,\n",
       "        -1.15016532e+00,  8.50289583e-01, -1.52505052e+00,\n",
       "         3.88928056e-01],\n",
       "       [-4.13015075e-02,  4.91012096e-01, -1.65298021e+00,\n",
       "        -1.31567311e+00,  5.73589659e+00, -1.21575880e+00,\n",
       "        -1.59820771e+00],\n",
       "       [ 1.23307951e-01,  7.95304537e-01, -7.65010267e-02,\n",
       "        -1.51900649e+00,  4.88870192e+00, -2.07861021e-01,\n",
       "        -1.08033502e+00],\n",
       "       [-3.27667803e-01,  3.19542259e-01, -1.27302206e+00,\n",
       "        -1.42032599e+00,  6.58805323e+00, -9.49138224e-01,\n",
       "        -1.56103599e+00],\n",
       "       [-2.79014081e-01,  6.60641372e-01, -1.57471776e+00,\n",
       "        -1.53845441e+00,  5.52943134e+00, -1.03231835e+00,\n",
       "        -1.47654021e+00],\n",
       "       [-2.29334846e-01, -1.33928442e+00, -1.36700857e+00,\n",
       "         1.78485298e+00, -2.89822888e+00, -8.70922685e-01,\n",
       "         1.77881336e+00],\n",
       "       [ 1.27824500e-01,  9.07129496e-02, -1.52913821e+00,\n",
       "        -1.72685242e+00,  5.34928370e+00, -3.15258086e-01,\n",
       "        -1.20447135e+00],\n",
       "       [-1.07271540e+00, -1.14381540e+00, -1.88135898e+00,\n",
       "         2.74209356e+00, -2.84940863e+00, -1.18034944e-01,\n",
       "         5.88657200e-01],\n",
       "       [ 3.07912755e+00, -1.19427848e+00, -2.42415142e+00,\n",
       "         8.33256781e-01, -2.33226442e+00, -1.45648050e+00,\n",
       "        -1.09017849e-01],\n",
       "       [-5.19561410e-01,  2.55466968e-01, -1.36851275e+00,\n",
       "        -1.47023821e+00,  6.59089613e+00, -8.35059822e-01,\n",
       "        -1.64900112e+00],\n",
       "       [-1.80430129e-01,  2.01486602e-01, -1.03055513e+00,\n",
       "        -1.47559297e+00,  6.72193193e+00, -1.02097249e+00,\n",
       "        -1.48606491e+00],\n",
       "       [ 6.74110591e-01, -1.44211912e+00, -1.59754157e+00,\n",
       "         1.04916668e+00, -2.51309967e+00, -1.64951396e+00,\n",
       "         2.37621617e+00],\n",
       "       [ 2.31608939e+00,  1.04590520e-01, -1.77416110e+00,\n",
       "        -1.79088426e+00,  3.07406163e+00, -1.53410029e+00,\n",
       "        -1.08107722e+00],\n",
       "       [-2.67606378e-01,  6.77628666e-02, -6.39327288e-01,\n",
       "        -1.45974648e+00,  6.53215075e+00, -4.59950358e-01,\n",
       "        -1.42090881e+00],\n",
       "       [-4.33996946e-01,  2.69442469e-01, -1.15884411e+00,\n",
       "        -1.45406640e+00,  6.69285059e+00, -8.90887201e-01,\n",
       "        -1.60198522e+00],\n",
       "       [-2.20674396e-01,  3.39215308e-01, -1.30616319e+00,\n",
       "        -1.53852224e+00,  6.39553881e+00, -9.40651357e-01,\n",
       "        -1.48362017e+00],\n",
       "       [ 5.43446362e-01,  4.96694386e-01, -6.37714982e-01,\n",
       "        -1.71894372e+00,  5.08166838e+00, -5.39622784e-01,\n",
       "        -1.24057853e+00],\n",
       "       [-4.78030473e-01,  2.53872424e-01, -1.37966585e+00,\n",
       "        -1.42394078e+00,  6.57230425e+00, -9.42450285e-01,\n",
       "        -1.64025211e+00],\n",
       "       [ 1.05315721e+00,  2.50663191e-01, -1.40699041e+00,\n",
       "        -1.67130184e+00,  5.34546232e+00, -1.34059978e+00,\n",
       "        -1.41277111e+00],\n",
       "       [-4.93442029e-01,  2.66440451e-01, -1.12031174e+00,\n",
       "        -1.40859461e+00,  6.75615835e+00, -9.05389309e-01,\n",
       "        -1.62953293e+00],\n",
       "       [-2.15521789e+00, -1.18030322e+00, -2.58290708e-01,\n",
       "         1.50432616e-01, -1.25478566e+00,  4.57447815e+00,\n",
       "        -4.15978581e-01],\n",
       "       [ 1.21997073e-01,  1.02383971e+00, -1.77363217e+00,\n",
       "        -1.28802180e+00,  2.15049601e+00, -2.23976057e-02,\n",
       "        -1.49842489e+00],\n",
       "       [-1.87797141e+00, -6.34948671e-01, -5.39206207e-01,\n",
       "        -6.46312952e-01, -7.50285566e-01,  5.44381237e+00,\n",
       "        -8.28865588e-01],\n",
       "       [-1.49505153e-01,  3.64263803e-01, -8.70118201e-01,\n",
       "        -1.61059260e+00,  5.97561026e+00, -2.74010330e-01,\n",
       "        -1.56327212e+00],\n",
       "       [-2.47696370e-01,  3.03117365e-01, -1.38964260e+00,\n",
       "        -1.56538248e+00,  6.36147261e+00, -9.72957313e-01,\n",
       "        -1.61176300e+00],\n",
       "       [-1.30246922e-01,  8.91441405e-01, -1.88322079e+00,\n",
       "        -1.36910200e+00,  4.07562685e+00, -1.02596283e+00,\n",
       "        -1.31197047e+00],\n",
       "       [ 6.65738046e-01, -1.32304502e+00, -1.22744262e+00,\n",
       "         1.04132438e+00, -2.46923923e+00, -1.90820813e+00,\n",
       "         2.32498455e+00],\n",
       "       [-5.94711244e-01,  3.90583724e-01, -1.38074219e+00,\n",
       "        -1.44970918e+00,  6.47432184e+00, -8.81166458e-01,\n",
       "        -1.64841509e+00],\n",
       "       [-3.96143407e-01,  2.67884165e-01, -1.18495643e+00,\n",
       "        -1.40476584e+00,  6.70942640e+00, -9.61968124e-01,\n",
       "        -1.65179396e+00],\n",
       "       [-7.55594671e-01,  1.76034316e-01, -2.84328222e-01,\n",
       "        -1.72368777e+00,  5.12105560e+00,  5.62510312e-01,\n",
       "        -1.37262678e+00],\n",
       "       [ 2.54407811e+00, -8.09817016e-01, -2.74937296e+00,\n",
       "         5.26980385e-02, -1.86497009e+00, -1.87756157e+00,\n",
       "         1.48258775e-01],\n",
       "       [-2.24118829e+00, -5.76446652e-01, -2.41911322e-01,\n",
       "        -2.73546964e-01, -9.37855005e-01,  5.18081665e+00,\n",
       "        -5.43557227e-01],\n",
       "       [-5.73324025e-01,  2.46713147e-01, -1.16326332e+00,\n",
       "        -1.43066752e+00,  6.64999151e+00, -6.60024345e-01,\n",
       "        -1.71470261e+00],\n",
       "       [-2.02589288e-01,  7.11906135e-01, -1.45519233e+00,\n",
       "        -1.57895470e+00,  5.73353243e+00, -1.10550928e+00,\n",
       "        -1.41359663e+00],\n",
       "       [-5.61973989e-01,  1.92037001e-01, -1.00117898e+00,\n",
       "        -1.42322052e+00,  6.09376764e+00, -3.59865218e-01,\n",
       "        -1.42010105e+00],\n",
       "       [ 8.26343417e-01,  6.28784716e-01, -1.87935638e+00,\n",
       "        -1.52560365e+00,  3.69295812e+00, -1.62391114e+00,\n",
       "        -1.28151178e+00],\n",
       "       [-6.99229419e-01, -8.39926004e-01, -1.25631917e+00,\n",
       "         5.10593772e-01, -1.95504808e+00,  4.03906536e+00,\n",
       "        -1.13048875e+00],\n",
       "       [ 2.29427147e+00, -1.01741120e-01, -2.55034447e+00,\n",
       "        -1.10873830e+00, -4.20413129e-02, -1.87441349e+00,\n",
       "        -2.17755452e-01],\n",
       "       [-1.10039806e+00, -7.61064231e-01, -1.29768169e+00,\n",
       "         1.94301695e-01, -2.26767397e+00,  2.47823405e+00,\n",
       "         3.07853699e-01]], dtype=float32), label_ids=array([5, 3, 4, 4, 5, 1, 4, 3, 4, 4, 4, 4, 6, 0, 4, 6, 4, 4, 4, 4, 4, 4,\n",
       "       4, 5, 0, 4, 4, 3, 4, 5, 6, 4, 4, 4, 4, 3, 0, 4, 4, 6, 4, 0, 0, 3,\n",
       "       4, 6, 5, 6, 6, 0, 4, 4, 4, 4, 4, 4, 4, 4, 0, 4, 5, 5, 4, 4, 6, 4,\n",
       "       4, 4, 4, 4, 4, 4, 4, 5, 1, 5, 4, 4, 1, 0, 4, 4, 4, 3, 4, 4, 4, 4,\n",
       "       1, 0, 0, 6], dtype=int64), metrics={'test_loss': 0.9925878643989563, 'test_accuracy': 0.6956521739130435, 'test_runtime': 1.6846, 'test_samples_per_second': 54.613, 'test_steps_per_second': 7.123})"
      ]
     },
     "execution_count": 49,
     "metadata": {},
     "output_type": "execute_result"
    }
   ],
   "source": [
    "trainer.predict(tokenized_data['unsupervised'])"
   ]
  },
  {
   "cell_type": "code",
   "execution_count": null,
   "id": "4a65ae18",
   "metadata": {},
   "outputs": [],
   "source": []
  }
 ],
 "metadata": {
  "kernelspec": {
   "display_name": "nlp",
   "language": "python",
   "name": "nlp"
  },
  "language_info": {
   "codemirror_mode": {
    "name": "ipython",
    "version": 3
   },
   "file_extension": ".py",
   "mimetype": "text/x-python",
   "name": "python",
   "nbconvert_exporter": "python",
   "pygments_lexer": "ipython3",
   "version": "3.9.12"
  }
 },
 "nbformat": 4,
 "nbformat_minor": 5
}
