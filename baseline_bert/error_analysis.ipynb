{
 "cells": [
  {
   "cell_type": "code",
   "execution_count": 1,
   "metadata": {},
   "outputs": [],
   "source": [
    "import pandas as pd\n",
    "import pickle\n",
    "from datasets import Dataset\n",
    "import torch\n",
    "from datasets import DatasetDict\n",
    "from transformers import BertForSequenceClassification, BertTokenizer\n",
    "from transformers import DataCollatorWithPadding\n",
    "import evaluate\n",
    "import numpy as np\n",
    "from sklearn.metrics import confusion_matrix\n",
    "from transformers import TrainingArguments, Trainer\n"
   ]
  },
  {
   "cell_type": "code",
   "execution_count": 2,
   "metadata": {},
   "outputs": [],
   "source": [
    "label_encoding = {\n",
    "    0: \"Deliberation\",\n",
    "    1: \"Imaginative entry\",\n",
    "    2: \"Other\",\n",
    "    3: \"Procedure\",\n",
    "    4: \"Seminar\",\n",
    "    5: \"Social\",\n",
    "    6: \"UX\",\n",
    "}"
   ]
  },
  {
   "cell_type": "code",
   "execution_count": 5,
   "metadata": {},
   "outputs": [],
   "source": [
    "\n",
    "# Load data\n",
    "train_df = pd.read_pickle(\"train_dataset\")\n",
    "test_df = pd.read_pickle(\"test_dataset\")\n",
    "val_df = pd.read_pickle(\"val_dataset\")\n",
    "\n",
    "dataset = DatasetDict({\n",
    "    'train': Dataset.from_pandas(train_df),\n",
    "    'test': Dataset.from_pandas(test_df),\n",
    "    'val': Dataset.from_pandas(val_df)\n",
    "})\n"
   ]
  },
  {
   "cell_type": "code",
   "execution_count": 6,
   "metadata": {},
   "outputs": [
    {
     "name": "stderr",
     "output_type": "stream",
     "text": [
      "Some weights of the model checkpoint at bert-base-cased were not used when initializing BertForSequenceClassification: ['cls.predictions.transform.LayerNorm.bias', 'cls.seq_relationship.weight', 'cls.predictions.transform.dense.bias', 'cls.predictions.transform.dense.weight', 'cls.predictions.transform.LayerNorm.weight', 'cls.seq_relationship.bias', 'cls.predictions.bias']\n",
      "- This IS expected if you are initializing BertForSequenceClassification from the checkpoint of a model trained on another task or with another architecture (e.g. initializing a BertForSequenceClassification model from a BertForPreTraining model).\n",
      "- This IS NOT expected if you are initializing BertForSequenceClassification from the checkpoint of a model that you expect to be exactly identical (initializing a BertForSequenceClassification model from a BertForSequenceClassification model).\n",
      "Some weights of BertForSequenceClassification were not initialized from the model checkpoint at bert-base-cased and are newly initialized: ['classifier.weight', 'classifier.bias']\n",
      "You should probably TRAIN this model on a down-stream task to be able to use it for predictions and inference.\n"
     ]
    }
   ],
   "source": [
    "# Load model\n",
    "PATH = 'bert-base-cased'\n",
    "tokenizer = BertTokenizer.from_pretrained(PATH, local_files_only=False)\n",
    "model = BertForSequenceClassification.from_pretrained(PATH, local_files_only=False, num_labels=7)\n",
    "\n",
    "def compute_metrics(eval_pred):\n",
    "    predictions, labels = eval_pred\n",
    "    predictions = np.argmax(predictions, axis=1)\n",
    "    return accuracy.compute(predictions=predictions, references=labels)"
   ]
  },
  {
   "cell_type": "code",
   "execution_count": 7,
   "metadata": {},
   "outputs": [
    {
     "data": {
      "application/vnd.jupyter.widget-view+json": {
       "model_id": "f11294c241e84d9db22b640dd20f574e",
       "version_major": 2,
       "version_minor": 0
      },
      "text/plain": [
       "Map:   0%|          | 0/427 [00:00<?, ? examples/s]"
      ]
     },
     "metadata": {},
     "output_type": "display_data"
    },
    {
     "data": {
      "application/vnd.jupyter.widget-view+json": {
       "model_id": "fc766d2cba314befaa10104c1053c968",
       "version_major": 2,
       "version_minor": 0
      },
      "text/plain": [
       "Map:   0%|          | 0/92 [00:00<?, ? examples/s]"
      ]
     },
     "metadata": {},
     "output_type": "display_data"
    },
    {
     "data": {
      "application/vnd.jupyter.widget-view+json": {
       "model_id": "fc8c16619aa549a2825e2f0d2c4eb293",
       "version_major": 2,
       "version_minor": 0
      },
      "text/plain": [
       "Map:   0%|          | 0/92 [00:00<?, ? examples/s]"
      ]
     },
     "metadata": {},
     "output_type": "display_data"
    },
    {
     "name": "stderr",
     "output_type": "stream",
     "text": [
      "C:\\Users\\Ana\\Desktop\\local playground NLP\\nlp\\lib\\site-packages\\transformers\\optimization.py:411: FutureWarning: This implementation of AdamW is deprecated and will be removed in a future version. Use the PyTorch implementation torch.optim.AdamW instead, or set `no_deprecation_warning=True` to disable this warning\n",
      "  warnings.warn(\n"
     ]
    },
    {
     "data": {
      "text/html": [
       "\n",
       "    <div>\n",
       "      \n",
       "      <progress value='535' max='535' style='width:300px; height:20px; vertical-align: middle;'></progress>\n",
       "      [535/535 02:23, Epoch 5/5]\n",
       "    </div>\n",
       "    <table border=\"1\" class=\"dataframe\">\n",
       "  <thead>\n",
       " <tr style=\"text-align: left;\">\n",
       "      <th>Epoch</th>\n",
       "      <th>Training Loss</th>\n",
       "      <th>Validation Loss</th>\n",
       "      <th>Accuracy</th>\n",
       "    </tr>\n",
       "  </thead>\n",
       "  <tbody>\n",
       "    <tr>\n",
       "      <td>1</td>\n",
       "      <td>No log</td>\n",
       "      <td>1.108384</td>\n",
       "      <td>0.663043</td>\n",
       "    </tr>\n",
       "    <tr>\n",
       "      <td>2</td>\n",
       "      <td>No log</td>\n",
       "      <td>1.044474</td>\n",
       "      <td>0.652174</td>\n",
       "    </tr>\n",
       "    <tr>\n",
       "      <td>3</td>\n",
       "      <td>No log</td>\n",
       "      <td>1.027884</td>\n",
       "      <td>0.695652</td>\n",
       "    </tr>\n",
       "    <tr>\n",
       "      <td>4</td>\n",
       "      <td>No log</td>\n",
       "      <td>1.000829</td>\n",
       "      <td>0.739130</td>\n",
       "    </tr>\n",
       "    <tr>\n",
       "      <td>5</td>\n",
       "      <td>0.866400</td>\n",
       "      <td>0.994277</td>\n",
       "      <td>0.739130</td>\n",
       "    </tr>\n",
       "  </tbody>\n",
       "</table><p>"
      ],
      "text/plain": [
       "<IPython.core.display.HTML object>"
      ]
     },
     "metadata": {},
     "output_type": "display_data"
    },
    {
     "data": {
      "text/plain": [
       "TrainOutput(global_step=535, training_loss=0.844640396688586, metrics={'train_runtime': 144.0207, 'train_samples_per_second': 14.824, 'train_steps_per_second': 3.715, 'total_flos': 62926964296950.0, 'train_loss': 0.844640396688586, 'epoch': 5.0})"
      ]
     },
     "execution_count": 7,
     "metadata": {},
     "output_type": "execute_result"
    }
   ],
   "source": [
    "# define preprocess function\n",
    "def preprocess_function(examples):\n",
    "    return tokenizer(examples[\"text\"], truncation=True)\n",
    "\n",
    "tokenized_data = dataset.map(preprocess_function, batched=True, batch_size=100,  load_from_cache_file=True)\n",
    "data_collator = DataCollatorWithPadding(tokenizer=tokenizer)\n",
    "accuracy = evaluate.load(\"accuracy\")\n",
    "\n",
    "training_args = TrainingArguments(\n",
    "    output_dir=\"./bert_runs\",\n",
    "    learning_rate=2e-5,\n",
    "    per_device_train_batch_size=4,\n",
    "    per_device_eval_batch_size=4,\n",
    "    num_train_epochs=5,\n",
    "    weight_decay=0.01,\n",
    "    evaluation_strategy=\"epoch\",\n",
    "    save_strategy=\"epoch\",\n",
    "    load_best_model_at_end=True,\n",
    ")\n",
    "\n",
    "trainer = Trainer(\n",
    "    model=model,\n",
    "    args=training_args,\n",
    "    train_dataset=tokenized_data[\"train\"],\n",
    "    eval_dataset=tokenized_data[\"test\"],\n",
    "    tokenizer=tokenizer,\n",
    "    data_collator=data_collator,\n",
    "    compute_metrics=compute_metrics,\n",
    ")\n",
    "\n",
    "torch.cuda.empty_cache()\n",
    "trainer.train()"
   ]
  },
  {
   "cell_type": "code",
   "execution_count": 8,
   "metadata": {},
   "outputs": [
    {
     "data": {
      "text/plain": [
       "BertForSequenceClassification(\n",
       "  (bert): BertModel(\n",
       "    (embeddings): BertEmbeddings(\n",
       "      (word_embeddings): Embedding(28996, 768, padding_idx=0)\n",
       "      (position_embeddings): Embedding(512, 768)\n",
       "      (token_type_embeddings): Embedding(2, 768)\n",
       "      (LayerNorm): LayerNorm((768,), eps=1e-12, elementwise_affine=True)\n",
       "      (dropout): Dropout(p=0.1, inplace=False)\n",
       "    )\n",
       "    (encoder): BertEncoder(\n",
       "      (layer): ModuleList(\n",
       "        (0-11): 12 x BertLayer(\n",
       "          (attention): BertAttention(\n",
       "            (self): BertSelfAttention(\n",
       "              (query): Linear(in_features=768, out_features=768, bias=True)\n",
       "              (key): Linear(in_features=768, out_features=768, bias=True)\n",
       "              (value): Linear(in_features=768, out_features=768, bias=True)\n",
       "              (dropout): Dropout(p=0.1, inplace=False)\n",
       "            )\n",
       "            (output): BertSelfOutput(\n",
       "              (dense): Linear(in_features=768, out_features=768, bias=True)\n",
       "              (LayerNorm): LayerNorm((768,), eps=1e-12, elementwise_affine=True)\n",
       "              (dropout): Dropout(p=0.1, inplace=False)\n",
       "            )\n",
       "          )\n",
       "          (intermediate): BertIntermediate(\n",
       "            (dense): Linear(in_features=768, out_features=3072, bias=True)\n",
       "            (intermediate_act_fn): GELUActivation()\n",
       "          )\n",
       "          (output): BertOutput(\n",
       "            (dense): Linear(in_features=3072, out_features=768, bias=True)\n",
       "            (LayerNorm): LayerNorm((768,), eps=1e-12, elementwise_affine=True)\n",
       "            (dropout): Dropout(p=0.1, inplace=False)\n",
       "          )\n",
       "        )\n",
       "      )\n",
       "    )\n",
       "    (pooler): BertPooler(\n",
       "      (dense): Linear(in_features=768, out_features=768, bias=True)\n",
       "      (activation): Tanh()\n",
       "    )\n",
       "  )\n",
       "  (dropout): Dropout(p=0.1, inplace=False)\n",
       "  (classifier): Linear(in_features=768, out_features=7, bias=True)\n",
       ")"
      ]
     },
     "execution_count": 8,
     "metadata": {},
     "output_type": "execute_result"
    }
   ],
   "source": [
    "model.to('cpu')"
   ]
  },
  {
   "cell_type": "markdown",
   "metadata": {},
   "source": [
    "# Bert base test misspredictions"
   ]
  },
  {
   "cell_type": "code",
   "execution_count": 9,
   "metadata": {},
   "outputs": [],
   "source": [
    "# Get wrong predictions, also return the text, true label and predicted label\n",
    "def get_wrong_predictions(model, tokenizer, test_data, test_label):\n",
    "    model.eval()\n",
    "    predictions = []\n",
    "    for i in range(len(test_data)):\n",
    "        text = test_data[i]\n",
    "        label = test_label[i]\n",
    "        inputs = tokenizer(text, return_tensors='pt', padding=True, truncation=True)\n",
    "        with torch.no_grad():\n",
    "            outputs = model(**inputs)\n",
    "        logits = outputs.logits\n",
    "        predictions.append(np.argmax(logits))\n",
    "    wrong_predictions = []\n",
    "    test_labels = []\n",
    "    preds = []\n",
    "    for i in range(len(predictions)):\n",
    "        if predictions[i] != test_label[i]:\n",
    "            wrong_predictions.append(test_data[i])\n",
    "            test_labels.append(test_label[i])\n",
    "            preds.append(predictions[i])\n",
    "    return wrong_predictions, test_labels, preds\n",
    "\n",
    "\n",
    "\n",
    "# Add test dataset\n",
    "test_data = dataset['test']['text']\n",
    "test_label = dataset['test']['label']\n",
    "\n",
    "# Add validation dataset\n",
    "val_data = dataset['val']['text']\n",
    "val_label = dataset['val']['label']\n",
    "\n",
    "# Join test and val data\n",
    "data = test_data + val_data\n",
    "labels = test_label + val_label\n",
    "\n",
    "wrong_predictions, labels, preds = get_wrong_predictions(model, tokenizer, data, labels)\n",
    "\n",
    "# Use label encoding to get the label names\n",
    "labels_name = [label_encoding[label] for label in labels]\n",
    "preds_name = [label_encoding[pred.item()] for pred in preds]\n",
    "\n"
   ]
  },
  {
   "cell_type": "code",
   "execution_count": 10,
   "metadata": {},
   "outputs": [
    {
     "name": "stdout",
     "output_type": "stream",
     "text": [
      "Length of all data: 611, wrong predictions in test and validation dataset: 56\n"
     ]
    }
   ],
   "source": [
    "print(f\"Length of all data: {len(dataset['val']) + len(dataset['test']) + len(dataset['train'])}, wrong predictions in test and validation dataset: {len(wrong_predictions)}\")"
   ]
  },
  {
   "cell_type": "code",
   "execution_count": 11,
   "metadata": {},
   "outputs": [
    {
     "name": "stdout",
     "output_type": "stream",
     "text": [
      "Text: Who knows? \n",
      "True label: Seminar\n",
      "Predicted label: Deliberation\n",
      "\n",
      "\n",
      "Text: w\n",
      "True label: Seminar\n",
      "Predicted label: Social\n",
      "\n",
      "\n",
      "Text: I like it\n",
      "True label: Deliberation\n",
      "Predicted label: Seminar\n",
      "\n",
      "\n",
      "Text: Submitted\n",
      "True label: Deliberation\n",
      "Predicted label: Procedure\n",
      "\n",
      "\n",
      "Text: att\n",
      "True label: Seminar\n",
      "Predicted label: Social\n",
      "\n",
      "\n",
      "Text: w\n",
      "True label: Other\n",
      "Predicted label: Social\n",
      "\n",
      "\n",
      "Text: And that's true! \n",
      "True label: Imaginative entry\n",
      "Predicted label: Seminar\n",
      "\n",
      "\n",
      "Text: Good idea.\n",
      "True label: Seminar\n",
      "Predicted label: Social\n",
      "\n",
      "\n",
      "Text: I am on,\n",
      "True label: Procedure\n",
      "Predicted label: Social\n",
      "\n",
      "\n",
      "Text: I couldn't either.\n",
      "True label: Procedure\n",
      "Predicted label: Seminar\n",
      "\n",
      "\n",
      "Text: I'm in google chrome\n",
      "True label: UX\n",
      "Predicted label: Procedure\n",
      "\n",
      "\n",
      "Text: acce\n",
      "True label: Seminar\n",
      "Predicted label: Deliberation\n",
      "\n",
      "\n",
      "Text: it's wonderful!\n",
      "True label: Seminar\n",
      "Predicted label: Social\n",
      "\n",
      "\n",
      "Text: ok\n",
      "True label: Deliberation\n",
      "Predicted label: Social\n",
      "\n",
      "\n",
      "Text: ooooh\n",
      "True label: UX\n",
      "Predicted label: Social\n",
      "\n",
      "\n"
     ]
    }
   ],
   "source": [
    "for text_pred, label, pred in zip(wrong_predictions, labels_name, preds_name):\n",
    "    if len(text_pred) > 20:\n",
    "        continue\n",
    "        \n",
    "    \n",
    "    print(f\"Text: {text_pred}\")\n",
    "    print(f\"True label: {label}\")\n",
    "    print(f\"Predicted label: {pred}\")\n",
    "    print(\"\\n\")\n",
    "\n"
   ]
  },
  {
   "cell_type": "code",
   "execution_count": null,
   "metadata": {},
   "outputs": [],
   "source": []
  },
  {
   "cell_type": "code",
   "execution_count": 13,
   "metadata": {},
   "outputs": [
    {
     "name": "stderr",
     "output_type": "stream",
     "text": [
      "C:\\Users\\Ana\\Desktop\\local playground NLP\\nlp\\lib\\site-packages\\seaborn\\_oldcore.py:1119: FutureWarning: use_inf_as_na option is deprecated and will be removed in a future version. Convert inf values to NaN before operating instead.\n",
      "  with pd.option_context('mode.use_inf_as_na', True):\n"
     ]
    },
    {
     "data": {
      "image/png": "[encoded data removed]",
      "text/plain": [
       "<Figure size 640x480 with 1 Axes>"
      ]
     },
     "metadata": {},
     "output_type": "display_data"
    }
   ],
   "source": [
    "# Plot distribution of lengths of wrong predictions\n",
    "import matplotlib.pyplot as plt\n",
    "import seaborn as sns\n",
    "sns.set_theme()\n",
    "lengths = [len(text) for text in wrong_predictions]\n",
    "sns.histplot(lengths, kde=True, bins=20)\n",
    "plt.title(\"Distribution of lengths of wrong predictions\")\n",
    "\n",
    "# Add xticts based on bin width\n",
    "bin_width = 20\n",
    "plt.xticks(np.arange(0, max(lengths), bin_width))\n",
    "\n",
    "\n",
    "plt.xlabel(\"Length of text\")\n",
    "plt.ylabel(\"Frequency\")\n",
    "\n",
    "# Save plot\n",
    "plt.savefig(\"../images/wrong_predictions_length_distribution.pdf\")\n"
   ]
  },
  {
   "cell_type": "code",
   "execution_count": 14,
   "metadata": {},
   "outputs": [
    {
     "data": {
      "image/png": "[encoded data removed]",
      "text/plain": [
       "<Figure size 640x480 with 2 Axes>"
      ]
     },
     "metadata": {},
     "output_type": "display_data"
    }
   ],
   "source": [
    "# Construct confusion matrix\n",
    "cm = confusion_matrix(labels_name, preds_name, labels=list(label_encoding.values()))\n",
    "\n",
    "sns.heatmap(cm, annot=True, xticklabels=list(label_encoding.values()), yticklabels=list(label_encoding.values()), cmap='OrRd')\n",
    "# Change xticts to be vertical\n",
    "# Show cell text in other colors\n",
    "plt.rcParams['text.color'] = 'red'\n",
    "\n",
    "# Add predicted and expected labels\n",
    "plt.xlabel(\"Predicted labels\")\n",
    "plt.ylabel(\"True labels\")\n",
    "plt.title(\"Confusion matrix of wrong predictions\")\n",
    "\n",
    "# Save plot\n",
    "plt.savefig(\"../images/confusion_matrix_wrong_predictions.pdf\")"
   ]
  },
  {
   "cell_type": "code",
   "execution_count": null,
   "metadata": {},
   "outputs": [],
   "source": []
  }
 ],
 "metadata": {
  "kernelspec": {
   "display_name": "nlp",
   "language": "python",
   "name": "nlp"
  },
  "language_info": {
   "codemirror_mode": {
    "name": "ipython",
    "version": 3
   },
   "file_extension": ".py",
   "mimetype": "text/x-python",
   "name": "python",
   "nbconvert_exporter": "python",
   "pygments_lexer": "ipython3",
   "version": "3.9.12"
  }
 },
 "nbformat": 4,
 "nbformat_minor": 2
}
