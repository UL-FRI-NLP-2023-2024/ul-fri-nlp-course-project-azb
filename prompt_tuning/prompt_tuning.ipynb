{
 "cells": [
  {
   "cell_type": "markdown",
   "metadata": {},
   "source": [
    "# Prompt tuning"
   ]
  },
  {
   "cell_type": "code",
   "execution_count": 1,
   "metadata": {},
   "outputs": [
    {
     "name": "stdout",
     "output_type": "stream",
     "text": [
      "Requirement already satisfied: pandas in /d/hpc/home/bi4528/.venv/lib64/python3.11/site-packages (from -r requirements.txt (line 1)) (2.2.2)\n",
      "Requirement already satisfied: langchain in /d/hpc/home/bi4528/.venv/lib64/python3.11/site-packages (from -r requirements.txt (line 2)) (0.1.16)\n",
      "Requirement already satisfied: python-dotenv in /d/hpc/home/bi4528/.venv/lib64/python3.11/site-packages (from -r requirements.txt (line 3)) (1.0.1)\n",
      "Requirement already satisfied: openai in /d/hpc/home/bi4528/.venv/lib64/python3.11/site-packages (from -r requirements.txt (line 4)) (1.23.6)\n",
      "Requirement already satisfied: openpyxl in /d/hpc/home/bi4528/.venv/lib64/python3.11/site-packages (from -r requirements.txt (line 5)) (3.1.2)\n",
      "Requirement already satisfied: jsonlines in /d/hpc/home/bi4528/.venv/lib64/python3.11/site-packages (from -r requirements.txt (line 6)) (4.0.0)\n",
      "Requirement already satisfied: matplotlib in /d/hpc/home/bi4528/.venv/lib64/python3.11/site-packages (from -r requirements.txt (line 7)) (3.8.4)\n",
      "Requirement already satisfied: networkx in /d/hpc/home/bi4528/.venv/lib64/python3.11/site-packages (from -r requirements.txt (line 8)) (3.3)\n",
      "Requirement already satisfied: accelerate in /d/hpc/home/bi4528/.venv/lib64/python3.11/site-packages (from -r requirements.txt (line 9)) (0.30.1)\n",
      "Requirement already satisfied: bitsandbytes in /d/hpc/home/bi4528/.venv/lib64/python3.11/site-packages (from -r requirements.txt (line 10)) (0.43.1)\n",
      "Requirement already satisfied: huggingface_hub in /d/hpc/home/bi4528/.venv/lib64/python3.11/site-packages (from -r requirements.txt (line 11)) (0.23.1)\n",
      "Requirement already satisfied: setuptools in /d/hpc/home/bi4528/.venv/lib64/python3.11/site-packages (from -r requirements.txt (line 13)) (69.5.1)\n",
      "Requirement already satisfied: ipywidgets in /d/hpc/home/bi4528/.venv/lib64/python3.11/site-packages (from -r requirements.txt (line 14)) (8.1.2)\n",
      "Requirement already satisfied: datasets in /d/hpc/home/bi4528/.venv/lib64/python3.11/site-packages (from -r requirements.txt (line 15)) (2.19.0)\n",
      "Requirement already satisfied: evaluate in /d/hpc/home/bi4528/.venv/lib64/python3.11/site-packages (from -r requirements.txt (line 16)) (0.4.2)\n",
      "Requirement already satisfied: scikit-learn in /d/hpc/home/bi4528/.venv/lib64/python3.11/site-packages (from -r requirements.txt (line 17)) (1.4.2)\n",
      "Requirement already satisfied: sentence-transformers in /d/hpc/home/bi4528/.venv/lib64/python3.11/site-packages (from -r requirements.txt (line 18)) (2.7.0)\n",
      "Requirement already satisfied: numpy>=1.23.2 in /d/hpc/home/bi4528/.venv/lib64/python3.11/site-packages (from pandas->-r requirements.txt (line 1)) (1.26.4)\n",
      "Requirement already satisfied: python-dateutil>=2.8.2 in /d/hpc/home/bi4528/.venv/lib64/python3.11/site-packages (from pandas->-r requirements.txt (line 1)) (2.9.0.post0)\n",
      "Requirement already satisfied: pytz>=2020.1 in /d/hpc/home/bi4528/.venv/lib64/python3.11/site-packages (from pandas->-r requirements.txt (line 1)) (2024.1)\n",
      "Requirement already satisfied: tzdata>=2022.7 in /d/hpc/home/bi4528/.venv/lib64/python3.11/site-packages (from pandas->-r requirements.txt (line 1)) (2024.1)\n",
      "Requirement already satisfied: PyYAML>=5.3 in /d/hpc/home/bi4528/.venv/lib64/python3.11/site-packages (from langchain->-r requirements.txt (line 2)) (6.0.1)\n",
      "Requirement already satisfied: SQLAlchemy<3,>=1.4 in /d/hpc/home/bi4528/.venv/lib64/python3.11/site-packages (from langchain->-r requirements.txt (line 2)) (2.0.29)\n",
      "Requirement already satisfied: aiohttp<4.0.0,>=3.8.3 in /d/hpc/home/bi4528/.venv/lib64/python3.11/site-packages (from langchain->-r requirements.txt (line 2)) (3.9.5)\n",
      "Requirement already satisfied: dataclasses-json<0.7,>=0.5.7 in /d/hpc/home/bi4528/.venv/lib64/python3.11/site-packages (from langchain->-r requirements.txt (line 2)) (0.6.4)\n",
      "Requirement already satisfied: jsonpatch<2.0,>=1.33 in /d/hpc/home/bi4528/.venv/lib64/python3.11/site-packages (from langchain->-r requirements.txt (line 2)) (1.33)\n",
      "Requirement already satisfied: langchain-community<0.1,>=0.0.32 in /d/hpc/home/bi4528/.venv/lib64/python3.11/site-packages (from langchain->-r requirements.txt (line 2)) (0.0.34)\n",
      "Requirement already satisfied: langchain-core<0.2.0,>=0.1.42 in /d/hpc/home/bi4528/.venv/lib64/python3.11/site-packages (from langchain->-r requirements.txt (line 2)) (0.1.46)\n",
      "Requirement already satisfied: langchain-text-splitters<0.1,>=0.0.1 in /d/hpc/home/bi4528/.venv/lib64/python3.11/site-packages (from langchain->-r requirements.txt (line 2)) (0.0.1)\n",
      "Requirement already satisfied: langsmith<0.2.0,>=0.1.17 in /d/hpc/home/bi4528/.venv/lib64/python3.11/site-packages (from langchain->-r requirements.txt (line 2)) (0.1.51)\n",
      "Requirement already satisfied: pydantic<3,>=1 in /d/hpc/home/bi4528/.venv/lib64/python3.11/site-packages (from langchain->-r requirements.txt (line 2)) (2.7.1)\n",
      "Requirement already satisfied: requests<3,>=2 in /d/hpc/home/bi4528/.venv/lib64/python3.11/site-packages (from langchain->-r requirements.txt (line 2)) (2.31.0)\n",
      "Requirement already satisfied: tenacity<9.0.0,>=8.1.0 in /d/hpc/home/bi4528/.venv/lib64/python3.11/site-packages (from langchain->-r requirements.txt (line 2)) (8.2.3)\n",
      "Requirement already satisfied: anyio<5,>=3.5.0 in /d/hpc/home/bi4528/.venv/lib64/python3.11/site-packages (from openai->-r requirements.txt (line 4)) (4.3.0)\n",
      "Requirement already satisfied: distro<2,>=1.7.0 in /d/hpc/home/bi4528/.venv/lib64/python3.11/site-packages (from openai->-r requirements.txt (line 4)) (1.9.0)\n",
      "Requirement already satisfied: httpx<1,>=0.23.0 in /d/hpc/home/bi4528/.venv/lib64/python3.11/site-packages (from openai->-r requirements.txt (line 4)) (0.27.0)\n",
      "Requirement already satisfied: sniffio in /d/hpc/home/bi4528/.venv/lib64/python3.11/site-packages (from openai->-r requirements.txt (line 4)) (1.3.1)\n",
      "Requirement already satisfied: tqdm>4 in /d/hpc/home/bi4528/.venv/lib64/python3.11/site-packages (from openai->-r requirements.txt (line 4)) (4.66.2)\n",
      "Requirement already satisfied: typing-extensions<5,>=4.7 in /d/hpc/home/bi4528/.venv/lib64/python3.11/site-packages (from openai->-r requirements.txt (line 4)) (4.11.0)\n",
      "Requirement already satisfied: et-xmlfile in /d/hpc/home/bi4528/.venv/lib64/python3.11/site-packages (from openpyxl->-r requirements.txt (line 5)) (1.1.0)\n",
      "Requirement already satisfied: attrs>=19.2.0 in /d/hpc/home/bi4528/.venv/lib64/python3.11/site-packages (from jsonlines->-r requirements.txt (line 6)) (23.2.0)\n",
      "Requirement already satisfied: contourpy>=1.0.1 in /d/hpc/home/bi4528/.venv/lib64/python3.11/site-packages (from matplotlib->-r requirements.txt (line 7)) (1.2.1)\n",
      "Requirement already satisfied: cycler>=0.10 in /d/hpc/home/bi4528/.venv/lib64/python3.11/site-packages (from matplotlib->-r requirements.txt (line 7)) (0.12.1)\n",
      "Requirement already satisfied: fonttools>=4.22.0 in /d/hpc/home/bi4528/.venv/lib64/python3.11/site-packages (from matplotlib->-r requirements.txt (line 7)) (4.51.0)\n",
      "Requirement already satisfied: kiwisolver>=1.3.1 in /d/hpc/home/bi4528/.venv/lib64/python3.11/site-packages (from matplotlib->-r requirements.txt (line 7)) (1.4.5)\n",
      "Requirement already satisfied: packaging>=20.0 in /d/hpc/home/bi4528/.venv/lib64/python3.11/site-packages (from matplotlib->-r requirements.txt (line 7)) (23.2)\n",
      "Requirement already satisfied: pillow>=8 in /d/hpc/home/bi4528/.venv/lib64/python3.11/site-packages (from matplotlib->-r requirements.txt (line 7)) (10.3.0)\n",
      "Requirement already satisfied: pyparsing>=2.3.1 in /d/hpc/home/bi4528/.venv/lib64/python3.11/site-packages (from matplotlib->-r requirements.txt (line 7)) (3.1.2)\n",
      "Requirement already satisfied: psutil in /d/hpc/home/bi4528/.venv/lib64/python3.11/site-packages (from accelerate->-r requirements.txt (line 9)) (5.9.8)\n",
      "Requirement already satisfied: torch>=1.10.0 in /d/hpc/home/bi4528/.venv/lib64/python3.11/site-packages (from accelerate->-r requirements.txt (line 9)) (2.3.0)\n",
      "Requirement already satisfied: safetensors>=0.3.1 in /d/hpc/home/bi4528/.venv/lib64/python3.11/site-packages (from accelerate->-r requirements.txt (line 9)) (0.4.3)\n",
      "Requirement already satisfied: filelock in /d/hpc/home/bi4528/.venv/lib64/python3.11/site-packages (from huggingface_hub->-r requirements.txt (line 11)) (3.13.4)\n",
      "Requirement already satisfied: fsspec>=2023.5.0 in /d/hpc/home/bi4528/.venv/lib64/python3.11/site-packages (from huggingface_hub->-r requirements.txt (line 11)) (2024.3.1)\n",
      "Requirement already satisfied: comm>=0.1.3 in /d/hpc/home/bi4528/.venv/lib64/python3.11/site-packages (from ipywidgets->-r requirements.txt (line 14)) (0.2.2)\n",
      "Requirement already satisfied: ipython>=6.1.0 in /d/hpc/home/bi4528/.venv/lib64/python3.11/site-packages (from ipywidgets->-r requirements.txt (line 14)) (8.24.0)\n",
      "Requirement already satisfied: traitlets>=4.3.1 in /d/hpc/home/bi4528/.venv/lib64/python3.11/site-packages (from ipywidgets->-r requirements.txt (line 14)) (5.14.3)\n",
      "Requirement already satisfied: widgetsnbextension~=4.0.10 in /d/hpc/home/bi4528/.venv/lib64/python3.11/site-packages (from ipywidgets->-r requirements.txt (line 14)) (4.0.10)\n",
      "Requirement already satisfied: jupyterlab-widgets~=3.0.10 in /d/hpc/home/bi4528/.venv/lib64/python3.11/site-packages (from ipywidgets->-r requirements.txt (line 14)) (3.0.10)\n",
      "Requirement already satisfied: pyarrow>=12.0.0 in /d/hpc/home/bi4528/.venv/lib64/python3.11/site-packages (from datasets->-r requirements.txt (line 15)) (16.0.0)\n",
      "Requirement already satisfied: pyarrow-hotfix in /d/hpc/home/bi4528/.venv/lib64/python3.11/site-packages (from datasets->-r requirements.txt (line 15)) (0.6)\n",
      "Requirement already satisfied: dill<0.3.9,>=0.3.0 in /d/hpc/home/bi4528/.venv/lib64/python3.11/site-packages (from datasets->-r requirements.txt (line 15)) (0.3.8)\n",
      "Requirement already satisfied: xxhash in /d/hpc/home/bi4528/.venv/lib64/python3.11/site-packages (from datasets->-r requirements.txt (line 15)) (3.4.1)\n",
      "Requirement already satisfied: multiprocess in /d/hpc/home/bi4528/.venv/lib64/python3.11/site-packages (from datasets->-r requirements.txt (line 15)) (0.70.16)\n",
      "Requirement already satisfied: scipy>=1.6.0 in /d/hpc/home/bi4528/.venv/lib64/python3.11/site-packages (from scikit-learn->-r requirements.txt (line 17)) (1.13.0)\n",
      "Requirement already satisfied: joblib>=1.2.0 in /d/hpc/home/bi4528/.venv/lib64/python3.11/site-packages (from scikit-learn->-r requirements.txt (line 17)) (1.4.0)\n",
      "Requirement already satisfied: threadpoolctl>=2.0.0 in /d/hpc/home/bi4528/.venv/lib64/python3.11/site-packages (from scikit-learn->-r requirements.txt (line 17)) (3.5.0)\n",
      "Requirement already satisfied: transformers<5.0.0,>=4.34.0 in /d/hpc/home/bi4528/.venv/lib64/python3.11/site-packages (from sentence-transformers->-r requirements.txt (line 18)) (4.41.0)\n",
      "Requirement already satisfied: aiosignal>=1.1.2 in /d/hpc/home/bi4528/.venv/lib64/python3.11/site-packages (from aiohttp<4.0.0,>=3.8.3->langchain->-r requirements.txt (line 2)) (1.3.1)\n",
      "Requirement already satisfied: frozenlist>=1.1.1 in /d/hpc/home/bi4528/.venv/lib64/python3.11/site-packages (from aiohttp<4.0.0,>=3.8.3->langchain->-r requirements.txt (line 2)) (1.4.1)\n",
      "Requirement already satisfied: multidict<7.0,>=4.5 in /d/hpc/home/bi4528/.venv/lib64/python3.11/site-packages (from aiohttp<4.0.0,>=3.8.3->langchain->-r requirements.txt (line 2)) (6.0.5)\n",
      "Requirement already satisfied: yarl<2.0,>=1.0 in /d/hpc/home/bi4528/.venv/lib64/python3.11/site-packages (from aiohttp<4.0.0,>=3.8.3->langchain->-r requirements.txt (line 2)) (1.9.4)\n",
      "Requirement already satisfied: idna>=2.8 in /d/hpc/home/bi4528/.venv/lib64/python3.11/site-packages (from anyio<5,>=3.5.0->openai->-r requirements.txt (line 4)) (3.7)\n",
      "Requirement already satisfied: marshmallow<4.0.0,>=3.18.0 in /d/hpc/home/bi4528/.venv/lib64/python3.11/site-packages (from dataclasses-json<0.7,>=0.5.7->langchain->-r requirements.txt (line 2)) (3.21.1)\n",
      "Requirement already satisfied: typing-inspect<1,>=0.4.0 in /d/hpc/home/bi4528/.venv/lib64/python3.11/site-packages (from dataclasses-json<0.7,>=0.5.7->langchain->-r requirements.txt (line 2)) (0.9.0)\n",
      "Requirement already satisfied: certifi in /d/hpc/home/bi4528/.venv/lib64/python3.11/site-packages (from httpx<1,>=0.23.0->openai->-r requirements.txt (line 4)) (2024.2.2)\n",
      "Requirement already satisfied: httpcore==1.* in /d/hpc/home/bi4528/.venv/lib64/python3.11/site-packages (from httpx<1,>=0.23.0->openai->-r requirements.txt (line 4)) (1.0.5)\n",
      "Requirement already satisfied: h11<0.15,>=0.13 in /d/hpc/home/bi4528/.venv/lib64/python3.11/site-packages (from httpcore==1.*->httpx<1,>=0.23.0->openai->-r requirements.txt (line 4)) (0.14.0)\n",
      "Requirement already satisfied: decorator in /d/hpc/home/bi4528/.venv/lib64/python3.11/site-packages (from ipython>=6.1.0->ipywidgets->-r requirements.txt (line 14)) (5.1.1)\n",
      "Requirement already satisfied: jedi>=0.16 in /d/hpc/home/bi4528/.venv/lib64/python3.11/site-packages (from ipython>=6.1.0->ipywidgets->-r requirements.txt (line 14)) (0.19.1)\n",
      "Requirement already satisfied: matplotlib-inline in /d/hpc/home/bi4528/.venv/lib64/python3.11/site-packages (from ipython>=6.1.0->ipywidgets->-r requirements.txt (line 14)) (0.1.7)\n",
      "Requirement already satisfied: prompt-toolkit<3.1.0,>=3.0.41 in /d/hpc/home/bi4528/.venv/lib64/python3.11/site-packages (from ipython>=6.1.0->ipywidgets->-r requirements.txt (line 14)) (3.0.43)\n",
      "Requirement already satisfied: pygments>=2.4.0 in /d/hpc/home/bi4528/.venv/lib64/python3.11/site-packages (from ipython>=6.1.0->ipywidgets->-r requirements.txt (line 14)) (2.17.2)\n",
      "Requirement already satisfied: stack-data in /d/hpc/home/bi4528/.venv/lib64/python3.11/site-packages (from ipython>=6.1.0->ipywidgets->-r requirements.txt (line 14)) (0.6.3)\n",
      "Requirement already satisfied: pexpect>4.3 in /d/hpc/home/bi4528/.venv/lib64/python3.11/site-packages (from ipython>=6.1.0->ipywidgets->-r requirements.txt (line 14)) (4.9.0)\n",
      "Requirement already satisfied: jsonpointer>=1.9 in /d/hpc/home/bi4528/.venv/lib64/python3.11/site-packages (from jsonpatch<2.0,>=1.33->langchain->-r requirements.txt (line 2)) (2.4)\n",
      "Requirement already satisfied: orjson<4.0.0,>=3.9.14 in /d/hpc/home/bi4528/.venv/lib64/python3.11/site-packages (from langsmith<0.2.0,>=0.1.17->langchain->-r requirements.txt (line 2)) (3.10.1)\n",
      "Requirement already satisfied: annotated-types>=0.4.0 in /d/hpc/home/bi4528/.venv/lib64/python3.11/site-packages (from pydantic<3,>=1->langchain->-r requirements.txt (line 2)) (0.6.0)\n",
      "Requirement already satisfied: pydantic-core==2.18.2 in /d/hpc/home/bi4528/.venv/lib64/python3.11/site-packages (from pydantic<3,>=1->langchain->-r requirements.txt (line 2)) (2.18.2)\n",
      "Requirement already satisfied: six>=1.5 in /d/hpc/home/bi4528/.venv/lib64/python3.11/site-packages (from python-dateutil>=2.8.2->pandas->-r requirements.txt (line 1)) (1.16.0)\n",
      "Requirement already satisfied: charset-normalizer<4,>=2 in /d/hpc/home/bi4528/.venv/lib64/python3.11/site-packages (from requests<3,>=2->langchain->-r requirements.txt (line 2)) (3.3.2)\n",
      "Requirement already satisfied: urllib3<3,>=1.21.1 in /d/hpc/home/bi4528/.venv/lib64/python3.11/site-packages (from requests<3,>=2->langchain->-r requirements.txt (line 2)) (2.2.1)\n",
      "Requirement already satisfied: greenlet!=0.4.17 in /d/hpc/home/bi4528/.venv/lib64/python3.11/site-packages (from SQLAlchemy<3,>=1.4->langchain->-r requirements.txt (line 2)) (3.0.3)\n",
      "Requirement already satisfied: sympy in /d/hpc/home/bi4528/.venv/lib64/python3.11/site-packages (from torch>=1.10.0->accelerate->-r requirements.txt (line 9)) (1.12)\n",
      "Requirement already satisfied: jinja2 in /d/hpc/home/bi4528/.venv/lib64/python3.11/site-packages (from torch>=1.10.0->accelerate->-r requirements.txt (line 9)) (3.1.3)\n",
      "Requirement already satisfied: nvidia-cuda-nvrtc-cu12==12.1.105 in /d/hpc/home/bi4528/.venv/lib64/python3.11/site-packages (from torch>=1.10.0->accelerate->-r requirements.txt (line 9)) (12.1.105)\n",
      "Requirement already satisfied: nvidia-cuda-runtime-cu12==12.1.105 in /d/hpc/home/bi4528/.venv/lib64/python3.11/site-packages (from torch>=1.10.0->accelerate->-r requirements.txt (line 9)) (12.1.105)\n",
      "Requirement already satisfied: nvidia-cuda-cupti-cu12==12.1.105 in /d/hpc/home/bi4528/.venv/lib64/python3.11/site-packages (from torch>=1.10.0->accelerate->-r requirements.txt (line 9)) (12.1.105)\n",
      "Requirement already satisfied: nvidia-cudnn-cu12==8.9.2.26 in /d/hpc/home/bi4528/.venv/lib64/python3.11/site-packages (from torch>=1.10.0->accelerate->-r requirements.txt (line 9)) (8.9.2.26)\n",
      "Requirement already satisfied: nvidia-cublas-cu12==12.1.3.1 in /d/hpc/home/bi4528/.venv/lib64/python3.11/site-packages (from torch>=1.10.0->accelerate->-r requirements.txt (line 9)) (12.1.3.1)\n",
      "Requirement already satisfied: nvidia-cufft-cu12==11.0.2.54 in /d/hpc/home/bi4528/.venv/lib64/python3.11/site-packages (from torch>=1.10.0->accelerate->-r requirements.txt (line 9)) (11.0.2.54)\n",
      "Requirement already satisfied: nvidia-curand-cu12==10.3.2.106 in /d/hpc/home/bi4528/.venv/lib64/python3.11/site-packages (from torch>=1.10.0->accelerate->-r requirements.txt (line 9)) (10.3.2.106)\n",
      "Requirement already satisfied: nvidia-cusolver-cu12==11.4.5.107 in /d/hpc/home/bi4528/.venv/lib64/python3.11/site-packages (from torch>=1.10.0->accelerate->-r requirements.txt (line 9)) (11.4.5.107)\n",
      "Requirement already satisfied: nvidia-cusparse-cu12==12.1.0.106 in /d/hpc/home/bi4528/.venv/lib64/python3.11/site-packages (from torch>=1.10.0->accelerate->-r requirements.txt (line 9)) (12.1.0.106)\n",
      "Requirement already satisfied: nvidia-nccl-cu12==2.20.5 in /d/hpc/home/bi4528/.venv/lib64/python3.11/site-packages (from torch>=1.10.0->accelerate->-r requirements.txt (line 9)) (2.20.5)\n",
      "Requirement already satisfied: nvidia-nvtx-cu12==12.1.105 in /d/hpc/home/bi4528/.venv/lib64/python3.11/site-packages (from torch>=1.10.0->accelerate->-r requirements.txt (line 9)) (12.1.105)\n",
      "Requirement already satisfied: triton==2.3.0 in /d/hpc/home/bi4528/.venv/lib64/python3.11/site-packages (from torch>=1.10.0->accelerate->-r requirements.txt (line 9)) (2.3.0)\n",
      "Requirement already satisfied: nvidia-nvjitlink-cu12 in /d/hpc/home/bi4528/.venv/lib64/python3.11/site-packages (from nvidia-cusolver-cu12==11.4.5.107->torch>=1.10.0->accelerate->-r requirements.txt (line 9)) (12.4.127)\n",
      "Requirement already satisfied: regex!=2019.12.17 in /d/hpc/home/bi4528/.venv/lib64/python3.11/site-packages (from transformers<5.0.0,>=4.34.0->sentence-transformers->-r requirements.txt (line 18)) (2024.4.16)\n",
      "Requirement already satisfied: tokenizers<0.20,>=0.19 in /d/hpc/home/bi4528/.venv/lib64/python3.11/site-packages (from transformers<5.0.0,>=4.34.0->sentence-transformers->-r requirements.txt (line 18)) (0.19.1)\n",
      "Requirement already satisfied: parso<0.9.0,>=0.8.3 in /d/hpc/home/bi4528/.venv/lib64/python3.11/site-packages (from jedi>=0.16->ipython>=6.1.0->ipywidgets->-r requirements.txt (line 14)) (0.8.4)\n",
      "Requirement already satisfied: ptyprocess>=0.5 in /d/hpc/home/bi4528/.venv/lib64/python3.11/site-packages (from pexpect>4.3->ipython>=6.1.0->ipywidgets->-r requirements.txt (line 14)) (0.7.0)\n",
      "Requirement already satisfied: wcwidth in /d/hpc/home/bi4528/.venv/lib64/python3.11/site-packages (from prompt-toolkit<3.1.0,>=3.0.41->ipython>=6.1.0->ipywidgets->-r requirements.txt (line 14)) (0.2.13)\n",
      "Requirement already satisfied: mypy-extensions>=0.3.0 in /d/hpc/home/bi4528/.venv/lib64/python3.11/site-packages (from typing-inspect<1,>=0.4.0->dataclasses-json<0.7,>=0.5.7->langchain->-r requirements.txt (line 2)) (1.0.0)\n",
      "Requirement already satisfied: MarkupSafe>=2.0 in /d/hpc/home/bi4528/.venv/lib64/python3.11/site-packages (from jinja2->torch>=1.10.0->accelerate->-r requirements.txt (line 9)) (2.1.5)\n",
      "Requirement already satisfied: executing>=1.2.0 in /d/hpc/home/bi4528/.venv/lib64/python3.11/site-packages (from stack-data->ipython>=6.1.0->ipywidgets->-r requirements.txt (line 14)) (2.0.1)\n",
      "Requirement already satisfied: asttokens>=2.1.0 in /d/hpc/home/bi4528/.venv/lib64/python3.11/site-packages (from stack-data->ipython>=6.1.0->ipywidgets->-r requirements.txt (line 14)) (2.4.1)\n",
      "Requirement already satisfied: pure-eval in /d/hpc/home/bi4528/.venv/lib64/python3.11/site-packages (from stack-data->ipython>=6.1.0->ipywidgets->-r requirements.txt (line 14)) (0.2.2)\n",
      "Requirement already satisfied: mpmath>=0.19 in /d/hpc/home/bi4528/.venv/lib64/python3.11/site-packages (from sympy->torch>=1.10.0->accelerate->-r requirements.txt (line 9)) (1.3.0)\n",
      "Note: you may need to restart the kernel to use updated packages.\n"
     ]
    }
   ],
   "source": [
    "%pip install -r requirements.txt"
   ]
  },
  {
   "cell_type": "code",
   "execution_count": 1,
   "metadata": {},
   "outputs": [],
   "source": [
    "import pandas as pd\n",
    "from datasets import Dataset, DatasetDict\n",
    "import numpy as np"
   ]
  },
  {
   "cell_type": "code",
   "execution_count": 2,
   "metadata": {},
   "outputs": [],
   "source": [
    "train_df = pd.read_pickle(\"train_dataset\")\n",
    "test_df = pd.read_pickle(\"test_dataset\")\n",
    "val_df = pd.read_pickle(\"val_dataset\")"
   ]
  },
  {
   "cell_type": "code",
   "execution_count": 3,
   "metadata": {},
   "outputs": [],
   "source": [
    "dataset = DatasetDict({\n",
    "    'train': Dataset.from_pandas(train_df),\n",
    "    'test': Dataset.from_pandas(test_df),\n",
    "    'unsupervised': Dataset.from_pandas(val_df)\n",
    "})"
   ]
  },
  {
   "cell_type": "code",
   "execution_count": 4,
   "metadata": {},
   "outputs": [
    {
     "data": {
      "text/plain": [
       "DatasetDict({\n",
       "    train: Dataset({\n",
       "        features: ['text', 'label'],\n",
       "        num_rows: 427\n",
       "    })\n",
       "    test: Dataset({\n",
       "        features: ['text', 'label'],\n",
       "        num_rows: 92\n",
       "    })\n",
       "    unsupervised: Dataset({\n",
       "        features: ['text', 'label'],\n",
       "        num_rows: 92\n",
       "    })\n",
       "})"
      ]
     },
     "execution_count": 4,
     "metadata": {},
     "output_type": "execute_result"
    }
   ],
   "source": [
    "dataset"
   ]
  },
  {
   "cell_type": "code",
   "execution_count": 5,
   "metadata": {},
   "outputs": [
    {
     "data": {
      "text/plain": [
       "{'text': 'So regarding part 1 of the question, I think the lady is behind the door!',\n",
       " 'label': 4}"
      ]
     },
     "execution_count": 5,
     "metadata": {},
     "output_type": "execute_result"
    }
   ],
   "source": [
    "dataset['train'][7]"
   ]
  },
  {
   "cell_type": "markdown",
   "metadata": {},
   "source": [
    "## Setup"
   ]
  },
  {
   "cell_type": "code",
   "execution_count": 6,
   "metadata": {},
   "outputs": [
    {
     "name": "stdout",
     "output_type": "stream",
     "text": [
      "Note: you may need to restart the kernel to use updated packages.\n",
      "Note: you may need to restart the kernel to use updated packages.\n",
      "Requirement already satisfied: gradio in /d/hpc/home/bi4528/.venv/lib64/python3.11/site-packages (4.28.3)\n",
      "Requirement already satisfied: aiofiles<24.0,>=22.0 in /d/hpc/home/bi4528/.venv/lib64/python3.11/site-packages (from gradio) (23.2.1)\n",
      "Requirement already satisfied: altair<6.0,>=4.2.0 in /d/hpc/home/bi4528/.venv/lib64/python3.11/site-packages (from gradio) (5.3.0)\n",
      "Requirement already satisfied: fastapi in /d/hpc/home/bi4528/.venv/lib64/python3.11/site-packages (from gradio) (0.110.2)\n",
      "Requirement already satisfied: ffmpy in /d/hpc/home/bi4528/.venv/lib64/python3.11/site-packages (from gradio) (0.3.2)\n",
      "Requirement already satisfied: gradio-client==0.16.0 in /d/hpc/home/bi4528/.venv/lib64/python3.11/site-packages (from gradio) (0.16.0)\n",
      "Requirement already satisfied: httpx>=0.24.1 in /d/hpc/home/bi4528/.venv/lib64/python3.11/site-packages (from gradio) (0.27.0)\n",
      "Requirement already satisfied: huggingface-hub>=0.19.3 in /d/hpc/home/bi4528/.venv/lib64/python3.11/site-packages (from gradio) (0.23.1)\n",
      "Requirement already satisfied: importlib-resources<7.0,>=1.3 in /d/hpc/home/bi4528/.venv/lib64/python3.11/site-packages (from gradio) (6.4.0)\n",
      "Requirement already satisfied: jinja2<4.0 in /d/hpc/home/bi4528/.venv/lib64/python3.11/site-packages (from gradio) (3.1.3)\n",
      "Requirement already satisfied: markupsafe~=2.0 in /d/hpc/home/bi4528/.venv/lib64/python3.11/site-packages (from gradio) (2.1.5)\n",
      "Requirement already satisfied: matplotlib~=3.0 in /d/hpc/home/bi4528/.venv/lib64/python3.11/site-packages (from gradio) (3.8.4)\n",
      "Requirement already satisfied: numpy~=1.0 in /d/hpc/home/bi4528/.venv/lib64/python3.11/site-packages (from gradio) (1.26.4)\n",
      "Requirement already satisfied: orjson~=3.0 in /d/hpc/home/bi4528/.venv/lib64/python3.11/site-packages (from gradio) (3.10.1)\n",
      "Requirement already satisfied: packaging in /d/hpc/home/bi4528/.venv/lib64/python3.11/site-packages (from gradio) (23.2)\n",
      "Requirement already satisfied: pandas<3.0,>=1.0 in /d/hpc/home/bi4528/.venv/lib64/python3.11/site-packages (from gradio) (2.2.2)\n",
      "Requirement already satisfied: pillow<11.0,>=8.0 in /d/hpc/home/bi4528/.venv/lib64/python3.11/site-packages (from gradio) (10.3.0)\n",
      "Requirement already satisfied: pydantic>=2.0 in /d/hpc/home/bi4528/.venv/lib64/python3.11/site-packages (from gradio) (2.7.1)\n",
      "Requirement already satisfied: pydub in /d/hpc/home/bi4528/.venv/lib64/python3.11/site-packages (from gradio) (0.25.1)\n",
      "Requirement already satisfied: python-multipart>=0.0.9 in /d/hpc/home/bi4528/.venv/lib64/python3.11/site-packages (from gradio) (0.0.9)\n",
      "Requirement already satisfied: pyyaml<7.0,>=5.0 in /d/hpc/home/bi4528/.venv/lib64/python3.11/site-packages (from gradio) (6.0.1)\n",
      "Requirement already satisfied: ruff>=0.2.2 in /d/hpc/home/bi4528/.venv/lib64/python3.11/site-packages (from gradio) (0.4.2)\n",
      "Requirement already satisfied: semantic-version~=2.0 in /d/hpc/home/bi4528/.venv/lib64/python3.11/site-packages (from gradio) (2.10.0)\n",
      "Requirement already satisfied: tomlkit==0.12.0 in /d/hpc/home/bi4528/.venv/lib64/python3.11/site-packages (from gradio) (0.12.0)\n",
      "Requirement already satisfied: typer<1.0,>=0.12 in /d/hpc/home/bi4528/.venv/lib64/python3.11/site-packages (from gradio) (0.12.3)\n",
      "Requirement already satisfied: typing-extensions~=4.0 in /d/hpc/home/bi4528/.venv/lib64/python3.11/site-packages (from gradio) (4.11.0)\n",
      "Requirement already satisfied: urllib3~=2.0 in /d/hpc/home/bi4528/.venv/lib64/python3.11/site-packages (from gradio) (2.2.1)\n",
      "Requirement already satisfied: uvicorn>=0.14.0 in /d/hpc/home/bi4528/.venv/lib64/python3.11/site-packages (from gradio) (0.29.0)\n",
      "Requirement already satisfied: fsspec in /d/hpc/home/bi4528/.venv/lib64/python3.11/site-packages (from gradio-client==0.16.0->gradio) (2024.3.1)\n",
      "Requirement already satisfied: websockets<12.0,>=10.0 in /d/hpc/home/bi4528/.venv/lib64/python3.11/site-packages (from gradio-client==0.16.0->gradio) (11.0.3)\n",
      "Requirement already satisfied: jsonschema>=3.0 in /d/hpc/home/bi4528/.venv/lib64/python3.11/site-packages (from altair<6.0,>=4.2.0->gradio) (4.21.1)\n",
      "Requirement already satisfied: toolz in /d/hpc/home/bi4528/.venv/lib64/python3.11/site-packages (from altair<6.0,>=4.2.0->gradio) (0.12.1)\n",
      "Requirement already satisfied: anyio in /d/hpc/home/bi4528/.venv/lib64/python3.11/site-packages (from httpx>=0.24.1->gradio) (4.3.0)\n",
      "Requirement already satisfied: certifi in /d/hpc/home/bi4528/.venv/lib64/python3.11/site-packages (from httpx>=0.24.1->gradio) (2024.2.2)\n",
      "Requirement already satisfied: httpcore==1.* in /d/hpc/home/bi4528/.venv/lib64/python3.11/site-packages (from httpx>=0.24.1->gradio) (1.0.5)\n",
      "Requirement already satisfied: idna in /d/hpc/home/bi4528/.venv/lib64/python3.11/site-packages (from httpx>=0.24.1->gradio) (3.7)\n",
      "Requirement already satisfied: sniffio in /d/hpc/home/bi4528/.venv/lib64/python3.11/site-packages (from httpx>=0.24.1->gradio) (1.3.1)\n",
      "Requirement already satisfied: h11<0.15,>=0.13 in /d/hpc/home/bi4528/.venv/lib64/python3.11/site-packages (from httpcore==1.*->httpx>=0.24.1->gradio) (0.14.0)\n",
      "Requirement already satisfied: filelock in /d/hpc/home/bi4528/.venv/lib64/python3.11/site-packages (from huggingface-hub>=0.19.3->gradio) (3.13.4)\n",
      "Requirement already satisfied: requests in /d/hpc/home/bi4528/.venv/lib64/python3.11/site-packages (from huggingface-hub>=0.19.3->gradio) (2.31.0)\n",
      "Requirement already satisfied: tqdm>=4.42.1 in /d/hpc/home/bi4528/.venv/lib64/python3.11/site-packages (from huggingface-hub>=0.19.3->gradio) (4.66.2)\n",
      "Requirement already satisfied: contourpy>=1.0.1 in /d/hpc/home/bi4528/.venv/lib64/python3.11/site-packages (from matplotlib~=3.0->gradio) (1.2.1)\n",
      "Requirement already satisfied: cycler>=0.10 in /d/hpc/home/bi4528/.venv/lib64/python3.11/site-packages (from matplotlib~=3.0->gradio) (0.12.1)\n",
      "Requirement already satisfied: fonttools>=4.22.0 in /d/hpc/home/bi4528/.venv/lib64/python3.11/site-packages (from matplotlib~=3.0->gradio) (4.51.0)\n",
      "Requirement already satisfied: kiwisolver>=1.3.1 in /d/hpc/home/bi4528/.venv/lib64/python3.11/site-packages (from matplotlib~=3.0->gradio) (1.4.5)\n",
      "Requirement already satisfied: pyparsing>=2.3.1 in /d/hpc/home/bi4528/.venv/lib64/python3.11/site-packages (from matplotlib~=3.0->gradio) (3.1.2)\n",
      "Requirement already satisfied: python-dateutil>=2.7 in /d/hpc/home/bi4528/.venv/lib64/python3.11/site-packages (from matplotlib~=3.0->gradio) (2.9.0.post0)\n",
      "Requirement already satisfied: pytz>=2020.1 in /d/hpc/home/bi4528/.venv/lib64/python3.11/site-packages (from pandas<3.0,>=1.0->gradio) (2024.1)\n",
      "Requirement already satisfied: tzdata>=2022.7 in /d/hpc/home/bi4528/.venv/lib64/python3.11/site-packages (from pandas<3.0,>=1.0->gradio) (2024.1)\n",
      "Requirement already satisfied: annotated-types>=0.4.0 in /d/hpc/home/bi4528/.venv/lib64/python3.11/site-packages (from pydantic>=2.0->gradio) (0.6.0)\n",
      "Requirement already satisfied: pydantic-core==2.18.2 in /d/hpc/home/bi4528/.venv/lib64/python3.11/site-packages (from pydantic>=2.0->gradio) (2.18.2)\n",
      "Requirement already satisfied: click>=8.0.0 in /d/hpc/home/bi4528/.venv/lib64/python3.11/site-packages (from typer<1.0,>=0.12->gradio) (8.1.7)\n",
      "Requirement already satisfied: shellingham>=1.3.0 in /d/hpc/home/bi4528/.venv/lib64/python3.11/site-packages (from typer<1.0,>=0.12->gradio) (1.5.4)\n",
      "Requirement already satisfied: rich>=10.11.0 in /d/hpc/home/bi4528/.venv/lib64/python3.11/site-packages (from typer<1.0,>=0.12->gradio) (13.7.1)\n",
      "Requirement already satisfied: starlette<0.38.0,>=0.37.2 in /d/hpc/home/bi4528/.venv/lib64/python3.11/site-packages (from fastapi->gradio) (0.37.2)\n",
      "Requirement already satisfied: attrs>=22.2.0 in /d/hpc/home/bi4528/.venv/lib64/python3.11/site-packages (from jsonschema>=3.0->altair<6.0,>=4.2.0->gradio) (23.2.0)\n",
      "Requirement already satisfied: jsonschema-specifications>=2023.03.6 in /d/hpc/home/bi4528/.venv/lib64/python3.11/site-packages (from jsonschema>=3.0->altair<6.0,>=4.2.0->gradio) (2023.12.1)\n",
      "Requirement already satisfied: referencing>=0.28.4 in /d/hpc/home/bi4528/.venv/lib64/python3.11/site-packages (from jsonschema>=3.0->altair<6.0,>=4.2.0->gradio) (0.35.0)\n",
      "Requirement already satisfied: rpds-py>=0.7.1 in /d/hpc/home/bi4528/.venv/lib64/python3.11/site-packages (from jsonschema>=3.0->altair<6.0,>=4.2.0->gradio) (0.18.0)\n",
      "Requirement already satisfied: six>=1.5 in /d/hpc/home/bi4528/.venv/lib64/python3.11/site-packages (from python-dateutil>=2.7->matplotlib~=3.0->gradio) (1.16.0)\n",
      "Requirement already satisfied: markdown-it-py>=2.2.0 in /d/hpc/home/bi4528/.venv/lib64/python3.11/site-packages (from rich>=10.11.0->typer<1.0,>=0.12->gradio) (3.0.0)\n",
      "Requirement already satisfied: pygments<3.0.0,>=2.13.0 in /d/hpc/home/bi4528/.venv/lib64/python3.11/site-packages (from rich>=10.11.0->typer<1.0,>=0.12->gradio) (2.17.2)\n",
      "Requirement already satisfied: charset-normalizer<4,>=2 in /d/hpc/home/bi4528/.venv/lib64/python3.11/site-packages (from requests->huggingface-hub>=0.19.3->gradio) (3.3.2)\n",
      "Requirement already satisfied: mdurl~=0.1 in /d/hpc/home/bi4528/.venv/lib64/python3.11/site-packages (from markdown-it-py>=2.2.0->rich>=10.11.0->typer<1.0,>=0.12->gradio) (0.1.2)\n",
      "Note: you may need to restart the kernel to use updated packages.\n",
      "Requirement already satisfied: sentencepiece in /d/hpc/home/bi4528/.venv/lib64/python3.11/site-packages (0.2.0)\n",
      "Note: you may need to restart the kernel to use updated packages.\n",
      "Requirement already satisfied: protobuf in /d/hpc/home/bi4528/.venv/lib64/python3.11/site-packages (5.26.1)\n",
      "Note: you may need to restart the kernel to use updated packages.\n"
     ]
    }
   ],
   "source": [
    "# Install latest bitsandbytes & transformers, accelerate from source\n",
    "%pip install -q -U bitsandbytes\n",
    "# %pip install -q -U git+https://github.com/huggingface/transformers.git\n",
    "# %pip install -q -U git+https://github.com/huggingface/peft.git\n",
    "# %pip install -q -U git+https://github.com/huggingface/accelerate.git\n",
    "%pip install -q -U trl transformers accelerate git+https://github.com/huggingface/peft.git\n",
    "# Other requirements for the demo\n",
    "%pip install gradio\n",
    "%pip install sentencepiece\n",
    "%pip install protobuf"
   ]
  },
  {
   "cell_type": "markdown",
   "metadata": {},
   "source": [
    "## Loading the model"
   ]
  },
  {
   "cell_type": "code",
   "execution_count": 7,
   "metadata": {},
   "outputs": [],
   "source": [
    "# Required for a meta-llama/Llama-2-13b-chat-hf\n",
    "from dotenv import load_dotenv\n",
    "import os\n",
    "\n",
    "load_dotenv()  # This loads the .env file into the environment\n",
    "\n",
    "hf_token = os.getenv('HF_TOKEN')"
   ]
  },
  {
   "cell_type": "code",
   "execution_count": 8,
   "metadata": {},
   "outputs": [
    {
     "name": "stdout",
     "output_type": "stream",
     "text": [
      "Starting to load the model meta-llama/Llama-2-13b-chat-hf into memory\n"
     ]
    },
    {
     "name": "stderr",
     "output_type": "stream",
     "text": [
      "/d/hpc/home/bi4528/.venv/lib64/python3.11/site-packages/transformers/models/auto/auto_factory.py:468: FutureWarning: The `use_auth_token` argument is deprecated and will be removed in v5 of Transformers. Please use `token` instead.\n",
      "  warnings.warn(\n"
     ]
    },
    {
     "data": {
      "application/vnd.jupyter.widget-view+json": {
       "model_id": "c6d50a7cae6d4c10ab5a584727299fda",
       "version_major": 2,
       "version_minor": 0
      },
      "text/plain": [
       "Loading checkpoint shards:   0%|          | 0/3 [00:00<?, ?it/s]"
      ]
     },
     "metadata": {},
     "output_type": "display_data"
    },
    {
     "name": "stdout",
     "output_type": "stream",
     "text": [
      "Successfully loaded the model meta-llama/Llama-2-13b-chat-hf into memory\n"
     ]
    }
   ],
   "source": [
    "import torch\n",
    "from peft import PeftModel    \n",
    "from transformers import AutoModelForCausalLM, AutoTokenizer, LlamaTokenizer, StoppingCriteria, StoppingCriteriaList, TextIteratorStreamer, DataCollatorWithPadding\n",
    "from accelerate import Accelerator\n",
    "import evaluate\n",
    "\n",
    "os.environ[\"HUGGINGFACE_TOKEN\"] = hf_token\n",
    "\n",
    "model_name = \"meta-llama/Llama-2-13b-chat-hf\"\n",
    "\n",
    "print(f\"Starting to load the model {model_name} into memory\")\n",
    "\n",
    "m = AutoModelForCausalLM.from_pretrained(\n",
    "    model_name,\n",
    "    #load_in_4bit=True,\n",
    "    torch_dtype=torch.bfloat16,\n",
    "    device_map=\"auto\",\n",
    "    use_auth_token=True\n",
    ")\n",
    "\n",
    "print(f\"Successfully loaded the model {model_name} into memory\")"
   ]
  },
  {
   "cell_type": "code",
   "execution_count": 9,
   "metadata": {},
   "outputs": [
    {
     "name": "stderr",
     "output_type": "stream",
     "text": [
      "/d/hpc/home/bi4528/.venv/lib64/python3.11/site-packages/transformers/tokenization_utils_base.py:1974: FutureWarning: The `use_auth_token` argument is deprecated and will be removed in v5 of Transformers. Please use `token` instead.\n",
      "  warnings.warn(\n"
     ]
    }
   ],
   "source": [
    "adapters_name = 'timdettmers/guanaco-13b'\n",
    "\n",
    "m = PeftModel.from_pretrained(m, adapters_name)\n",
    "m = m.merge_and_unload()\n",
    "tok = LlamaTokenizer.from_pretrained(model_name, use_auth_token=True)\n",
    "tok.bos_token_id = 1\n",
    "\n",
    "stop_token_ids = [0]\n",
    "\n",
    "tok.pad_token = tok.eos_token\n",
    "tok.pad_token_id = tok.eos_token_id\n",
    "\n",
    "m.config.pad_token_id = tok.pad_token_id\n",
    "\n",
    "accelerator = Accelerator()\n",
    "m = accelerator.prepare(m)\n",
    "# print(f\"Model and tokenizer are ready and using {accelerator.device}\")"
   ]
  },
  {
   "cell_type": "code",
   "execution_count": 10,
   "metadata": {},
   "outputs": [],
   "source": [
    "# torch.cuda.empty_cache()"
   ]
  },
  {
   "cell_type": "code",
   "execution_count": 11,
   "metadata": {},
   "outputs": [],
   "source": [
    "# import gc \n",
    "# gc.collect()"
   ]
  },
  {
   "cell_type": "code",
   "execution_count": 12,
   "metadata": {},
   "outputs": [],
   "source": [
    "from transformers import StoppingCriteria, StoppingCriteriaList\n",
    "\n",
    "class CompleteWordCriteria(StoppingCriteria):\n",
    "    def __init__(self, tokenizer, valid_words):\n",
    "        self.tokenizer = tokenizer\n",
    "        self.valid_words = valid_words\n",
    "\n",
    "    def __call__(self, input_ids, scores):\n",
    "        # Decode the last generated token to a word\n",
    "        tokens = self.tokenizer.convert_ids_to_tokens(input_ids[0])\n",
    "        last_word = tokens[-1]\n",
    "        # Decode the entire sequence to check the last whole word\n",
    "        decoded_sequence = self.tokenizer.decode(input_ids[0])\n",
    "        last_generated_word = decoded_sequence.split()[-1]\n",
    "        # Check if the last whole word generated is a valid category word\n",
    "        return last_generated_word in self.valid_words\n",
    "\n",
    "\n",
    "def generate_text(prompt, max_length=4096, max_new_tokens=5):\n",
    "    # Configure the device for model execution\n",
    "    # device = \"cuda\" if torch.cuda.is_available() else \"cpu\"\n",
    "    # m.to(device)\n",
    "\n",
    "    # Encode the input prompt into tensor format\n",
    "    inputs = tok(prompt, return_tensors=\"pt\", padding=True, truncation=True, max_length=max_length)\n",
    "    inputs = {k: v.to(m.device, dtype=torch.long)for k, v in inputs.items()}\n",
    "\n",
    "    # Ensure inputs are on the correct device and dtype is Long\n",
    "    input_ids = inputs['input_ids'].to(m.device, dtype=torch.long)\n",
    "    attention_mask = inputs['attention_mask'].to(m.device, dtype=torch.long)\n",
    "\n",
    "    # Print statements for debugging\n",
    "    #print(f\"input_ids dtype: {input_ids.dtype}\")\n",
    "    #print(f\"attention_mask dtype: {attention_mask.dtype}\")\n",
    "\n",
    "    # Define the stopping criteria\n",
    "    valid_categories = [\"Seminar\", \"Deliberation\", \"Social\", \"UX\", \"Procedure\", \"Imaginative\", \"Other\"]\n",
    "    criteria_list = StoppingCriteriaList([CompleteWordCriteria(tok, valid_categories)])\n",
    "\n",
    "    # Generate text using the model\n",
    "    with torch.cuda.amp.autocast():\n",
    "        with torch.no_grad():\n",
    "            output_sequences = m.generate(\n",
    "                input_ids=input_ids,\n",
    "                attention_mask=attention_mask,\n",
    "                max_length=max_length,\n",
    "                stopping_criteria=criteria_list\n",
    "            )\n",
    "\n",
    "    # Decode the generated ids to text\n",
    "    text = tok.decode(output_sequences[0], skip_special_tokens=True)\n",
    "    return text"
   ]
  },
  {
   "cell_type": "code",
   "execution_count": 99,
   "metadata": {},
   "outputs": [],
   "source": [
    "labelToCategory = {\n",
    "    0: 'Deliberation',\n",
    "    1: 'Imaginative',\n",
    "    2: 'Other',\n",
    "    3: 'Procedure',\n",
    "    4: 'Seminar',\n",
    "    5: 'Social',\n",
    "    6: 'UX',\n",
    "    -1: 'Unknown'\n",
    "}"
   ]
  },
  {
   "cell_type": "code",
   "execution_count": 100,
   "metadata": {},
   "outputs": [],
   "source": [
    "categoryToLabel = {\n",
    "    'Deliberation': 0,\n",
    "    'Imaginative': 1,\n",
    "    'Other': 2,\n",
    "    'Procedure': 3,\n",
    "    'Seminar': 4,\n",
    "    'Social': 5,\n",
    "    'UX': 6,\n",
    "    'Unknown': -1\n",
    "}\n"
   ]
  },
  {
   "cell_type": "code",
   "execution_count": 15,
   "metadata": {},
   "outputs": [],
   "source": [
    "actual_labels = test_df['label'].astype(int).tolist()"
   ]
  },
  {
   "cell_type": "code",
   "execution_count": 16,
   "metadata": {},
   "outputs": [],
   "source": [
    "def predict_category(prompt):\n",
    "    generated_text = generate_text(prompt)\n",
    "    # Extract the predicted category from the generated text\n",
    "    return generated_text.split()[-1]"
   ]
  },
  {
   "cell_type": "code",
   "execution_count": 17,
   "metadata": {},
   "outputs": [],
   "source": [
    "def calculate_accuracy(predicted_labels, actual_labels):\n",
    "    correct_count = sum(p == a for p, a in zip(predicted_labels, actual_labels))\n",
    "    accuracy = correct_count / len(actual_labels)\n",
    "    return accuracy\n"
   ]
  },
  {
   "cell_type": "code",
   "execution_count": 18,
   "metadata": {},
   "outputs": [],
   "source": [
    "prompt_intro = f\"You will be given a short social media post which you need to classify into one of the following categories: Seminar, Deliberation, Social, UX, Procedure, Imaginative, Other.\\n\""
   ]
  },
  {
   "cell_type": "code",
   "execution_count": 19,
   "metadata": {},
   "outputs": [],
   "source": [
    "category_description = \"\"\"Here is a description and example of each category, based on which each post is classified:\n",
    "\n",
    "Posts discussing the deeper meanings of content, encouraging analysis and interpretation.\n",
    "Category: Seminar\n",
    "\n",
    "Posts about making decisions, often involving questions and considerations for future actions.\n",
    "Category: Deliberation\n",
    "\n",
    "Posts to establish or maintain relationships, often casual and friendly in nature.\n",
    "Category: Social\n",
    "\n",
    "Posts discussing the user experience, including issues and feedback about interfaces and usability.\n",
    "Category: UX\n",
    "\n",
    "Posts about accomplishing a task, often with step-by-step instructions or suggestions for organizing activities.\n",
    "Category: Procedure\n",
    "\n",
    "Posts about imaginative content, often involving hypothetical scenarios or creative storytelling.\n",
    "Category: Imaginative\n",
    "\n",
    "Posts that do not fit into any of the above categories.\n",
    "Category: Other\n",
    "\n",
    "\"\"\""
   ]
  },
  {
   "cell_type": "code",
   "execution_count": 37,
   "metadata": {},
   "outputs": [],
   "source": [
    "category_examples = \"\"\"Here are examples of posts and their categories:\n",
    "Post: I found myself conflicted for the princess. I always want a happy ending of some kind in the stories I read. However, it seems the princess loses either way in this story. If I were in her place, I would have allowed him to marry the woman rather than have him die a painful and bloody death.\n",
    "Category: Imaginative\n",
    "\n",
    "Post: I know I wouldn't be able to live with myself if I knew I was the reason the person I loved was killed in such a painful manner\n",
    "Category: Imaginative\n",
    "\n",
    "Post: Do you think that the king would be tempted to do the same thing she did, though, and find out which door was which?\n",
    "Category: Imaginative\n",
    "\n",
    "Post: I think if I misled him to choose the tiger's door, I would feel like I committed a murder myself\n",
    "Category: Imaginative\n",
    "\n",
    "Post: There are other guys out there so even if he was the most handsome and all that,\n",
    "Category: Imaginative\n",
    "\n",
    "Post: What would you do in her place?\n",
    "Category: Imaginative\n",
    "\n",
    "Post: I agree with that so much!\n",
    "Category: Imaginative\n",
    "\n",
    "Post: Unfortunately I can't click in the box below at all, so it's anyone's guess what style our response is supposed to be in. I would imagine answering the questions simply would be fine.\n",
    "Category: UX\n",
    "\n",
    "Post: Perhaps the top of this page (where we type and send messages) is for planning and the bottom (open white area) is for writing an end to the story?\n",
    "Category: UX\n",
    "\n",
    "Post: it says Alexandrea, Matthew and Sara looked at this 18 days ago. How is this possible? I thought the activity just opened up this week?\n",
    "Category: UX\n",
    "\n",
    "Post: Ok it's finally working. I'll read the next part quickly and then I'll be good to keep going. Sorry guys, thanks for your help\n",
    "Category: UX\n",
    "\n",
    "Post: im just back at the screen we were at before\n",
    "Category: UX\n",
    "\n",
    "Post: Oh good! I can, in fact, click in the box.\n",
    "Category: UX\n",
    "\n",
    "Post: I was looking for that\n",
    "Category: UX\n",
    "\n",
    "Post: then click submit\n",
    "Category: UX\n",
    "\n",
    "Post: Dr. Austin said have fun with it, and it is fun to ponder what might happen in the story. I think the main reason for setting a time to discuss it at the same time would be to test the collaborative software, using the box below instead of this one. I believe we could all write in it at the same time and see each other typing and change each other's words until we all agree we are done with our assessment. If we are able to do that, we might find there are unexpected positives or negatives to the collaboration process or system that we can only otherwise surmise. As you say, we've all responded to the prompts, so what we say doesn't matter that much, so all we'd need is a few minutes to see how using the box works. So if you want to try meeting, I could do Wednesday any time of day. Just set a time and I'll log on then. Thanks.\n",
    "Category: Procedure\n",
    "\n",
    "Post: We can continue to discuss individually, or if you want to try writing collaboratively at the same time, please suggest a time. I'm available any evening this week starting at 6 p.m. I'll keep tabs on here from now on to see if you want to do that. Thanks, Robyn\n",
    "Category: Procedure\n",
    "\n",
    "Post: Can we plan on Tuesday the 23rd at 8pm to all meet back here to discuss and answer? Thanks\n",
    "Category: Procedure\n",
    "\n",
    "Post: I guess that was all we had to do? I don't know if there's anything else to discuss\n",
    "Category: Procedure\n",
    "\n",
    "Post: Also, I got an email letting us know that Elias Royal is also a part of our group. \n",
    "Category: Procedure\n",
    "\n",
    "Post: SUBMITTED\n",
    "Category: Procedure\n",
    "\n",
    "Post: I could write the first draft based on my interpretation of our answers, then we could take turns editing - round robin style until we are happy with the result\n",
    "Category: Deliberation\n",
    "\n",
    "Post: Is the response we write in the field below supposed to be in the same style of the story, like we're completing it? Or are we just answering the questions?\n",
    "Category: Deliberation\n",
    "\n",
    "Post: Good question Julie, we were discussing before you logged on, we are not quite sure if the prompt is looking for just the answers or an ending to be written\n",
    "Category: Deliberation\n",
    "\n",
    "Post: I think we are supposed to surmise or predict what we think happens\n",
    "Category: Deliberation\n",
    "\n",
    "Post: I say leave it in. It's well-written and adds depth to the answers.\n",
    "Category: Deliberation\n",
    "\n",
    "Post: I agree, Linda Long. If you are okay with that, Michelle Rivera?\n",
    "Category: Deliberation\n",
    "\n",
    "Post: Curiosity got the best of me, and I googled this book, which I'd never heard of despite it being a well-known allegory. It presents an unsolvable problem, yet we all felt pretty confident taking a stab at answering the prompts. I wonder what we are to make of all of us feeling pretty certain the princess chose the tiger. Is our choice based on the author's characterization of her or our belief that human nature is fundamentally selfish?\n",
    "Category: Seminar\n",
    "\n",
    "Post: Part one: I think the lover follows the Princess's instructions and opens the door on the right to the tiger. Based on how the Princess is described as barbaric\" like her father  I think the King sends his daughter into the tribunal as well. He seems set in his ways and seems to value power over logic.\" and how she struggles between the two options of leading him to his death or leading him to a life. Part two: as mentioned earlier\n",
    "Category: Seminar\n",
    "\n",
    "Post: Oooo I have another idea! What if the princess sends the man to the tiger and right out tells her father she did it and wants a trial. Then because he loves her he begs her to choose the door with the young man he picks for her, but she chooses the tiger.\n",
    "Category: Seminar\n",
    "\n",
    "Post: Hi Kathryn Bell! I am curious to know why you think the lover would not follow the princess's instructions to open the door on the right? While the princess definitely felt untrustworthy to me, I did not get a sense that the lover felt that from her.\n",
    "Category: Seminar\n",
    "\n",
    "Post: I have no guess as to which is behind the door. Is it unclear weather or not she is even instructing him to choose the door on the right side. She could have raised her right hand to signal “DON’T go in that door, the tiger is there.”\n",
    "Category: Seminar\n",
    "\n",
    "Post: and Meg brought and interesting topic of the difference between how the princess rambles on about him opening the door with the lady but barely mentions him opening the door with the tiger.\n",
    "Category: Seminar\n",
    "\n",
    "Post: Maybe not to enough of a degree not to put her to trial...but he does love her, just like to a degree she loved the man\n",
    "Category: Seminar\n",
    "\n",
    "Post: In terms of just answering I feel like the tiger was behind the door, and later the King puts the daughter to trial...\n",
    "Category: Seminar\n",
    "\n",
    "Post: Basing a decision on her lineage is not exactly a strong source in my opinion.\n",
    "Category: Seminar\n",
    "\n",
    "Post: I want to wait to see what they think about how the ending should go as well.\n",
    "Category: Seminar\n",
    "\n",
    "Post: Ok, we all thought the tiger!\n",
    "Category: Seminar\n",
    "\n",
    "Post: I don't think it is too much.\n",
    "Category: Seminar\n",
    "\n",
    "Post: Marry the girl not the man.\n",
    "Category: Seminar\n",
    "\n",
    "Post: I apologize again that I couldn't be part of the original discussion. It was clearly productive and I'm disappointed to have missed out on the opportunity.\n",
    "Category: Social\n",
    "\n",
    "Post: Thanks for hopping on for a little bit! I hope you both have a great rest of this semester!\n",
    "Category: Social\n",
    "\n",
    "Post: Okay, cool! Should we wait a couple of minutes for Rebecca or get started?\n",
    "Category: Social\n",
    "\n",
    "Post: Apologies for my slacking with this, I am also finished now.\n",
    "Category: Social\n",
    "\n",
    "Post: Good morning. I'm here.\n",
    "Category: Social\n",
    "\n",
    "Post: Enjoy the wedding Katie\n",
    "Category: Social\n",
    "\n",
    "Post: Awww thank you so much!\n",
    "Category: Social\n",
    "\n",
    "Post: Hello! I can!\n",
    "Category: Social\n",
    "\n",
    "Post: Sounds good!\n",
    "Category: Social\n",
    "\n",
    "Post: No worries!\n",
    "Category: Social\n",
    "\n",
    "\"\"\""
   ]
  },
  {
   "cell_type": "code",
   "execution_count": 111,
   "metadata": {},
   "outputs": [],
   "source": [
    "def create_prompt(test_text, use_category_desc=True, use_category_ex=True):\n",
    "    prompt = prompt_intro\n",
    "    if use_category_desc:\n",
    "        prompt += category_description\n",
    "    if use_category_ex:\n",
    "        prompt += category_examples\n",
    "    prompt += f\"Post: \\\"{test_text}\\\"\\nCategory:\"\n",
    "    return prompt"
   ]
  },
  {
   "cell_type": "code",
   "execution_count": 61,
   "metadata": {},
   "outputs": [],
   "source": [
    "def evaluate_model(test_df, use_category_desc=True, use_category_ex=True):\n",
    "    predicted_labels = []\n",
    "    for index, row in test_df.iterrows(): \n",
    "        prompt = create_prompt(row['text'], use_category_desc, use_category_ex)\n",
    "        predicted_categories = predict_category(prompt)\n",
    "        predicted_labels.append(categoryToLabel[predicted_categories])\n",
    "    return predicted_labels"
   ]
  },
  {
   "cell_type": "markdown",
   "metadata": {},
   "source": [
    "Few-shot prompting"
   ]
  },
  {
   "cell_type": "code",
   "execution_count": 62,
   "metadata": {},
   "outputs": [
    {
     "name": "stdout",
     "output_type": "stream",
     "text": [
      "Few-shot prompting representatives accuracy: 19.57%\n"
     ]
    }
   ],
   "source": [
    "predicted_labels = evaluate_model(test_df)\n",
    "accuracy = calculate_accuracy(predicted_labels, actual_labels)\n",
    "print(f\"Few-shot prompting representatives accuracy: {accuracy * 100:.2f}%\")"
   ]
  },
  {
   "cell_type": "code",
   "execution_count": 63,
   "metadata": {},
   "outputs": [],
   "source": [
    "err_df = pd.DataFrame()\n",
    "err_df['predicted'] = predicted_labels\n",
    "err_df['ground_truth'] = actual_labels\n",
    "err_df['predicted_text'] = list(map(lambda x: labelToCategory[x], predicted_labels))\n",
    "err_df['ground_truth_text'] = list(map(lambda x: labelToCategory[x], actual_labels))\n",
    "err_df['text'] = test_df['text']"
   ]
  },
  {
   "cell_type": "code",
   "execution_count": 64,
   "metadata": {},
   "outputs": [
    {
     "data": {
      "text/html": [
       "<div>\n",
       "<style scoped>\n",
       "    .dataframe tbody tr th:only-of-type {\n",
       "        vertical-align: middle;\n",
       "    }\n",
       "\n",
       "    .dataframe tbody tr th {\n",
       "        vertical-align: top;\n",
       "    }\n",
       "\n",
       "    .dataframe thead th {\n",
       "        text-align: right;\n",
       "    }\n",
       "</style>\n",
       "<table border=\"1\" class=\"dataframe\">\n",
       "  <thead>\n",
       "    <tr style=\"text-align: right;\">\n",
       "      <th></th>\n",
       "      <th>predicted</th>\n",
       "      <th>ground_truth</th>\n",
       "      <th>predicted_text</th>\n",
       "      <th>ground_truth_text</th>\n",
       "      <th>text</th>\n",
       "    </tr>\n",
       "  </thead>\n",
       "  <tbody>\n",
       "    <tr>\n",
       "      <th>0</th>\n",
       "      <td>6</td>\n",
       "      <td>3</td>\n",
       "      <td>UX</td>\n",
       "      <td>Procedure</td>\n",
       "      <td>I just asked Samantha if this activity is time...</td>\n",
       "    </tr>\n",
       "    <tr>\n",
       "      <th>1</th>\n",
       "      <td>2</td>\n",
       "      <td>4</td>\n",
       "      <td>Other</td>\n",
       "      <td>Seminar</td>\n",
       "      <td>That's what I thought to or how I interpreted ...</td>\n",
       "    </tr>\n",
       "    <tr>\n",
       "      <th>2</th>\n",
       "      <td>1</td>\n",
       "      <td>4</td>\n",
       "      <td>Imaginative</td>\n",
       "      <td>Seminar</td>\n",
       "      <td>Hey Ashley Peterson! I also wanted to mention ...</td>\n",
       "    </tr>\n",
       "    <tr>\n",
       "      <th>3</th>\n",
       "      <td>5</td>\n",
       "      <td>0</td>\n",
       "      <td>Social</td>\n",
       "      <td>Deliberation</td>\n",
       "      <td>Yes I found this by luck...LOL!</td>\n",
       "    </tr>\n",
       "    <tr>\n",
       "      <th>4</th>\n",
       "      <td>1</td>\n",
       "      <td>4</td>\n",
       "      <td>Imaginative</td>\n",
       "      <td>Seminar</td>\n",
       "      <td>Ana, I agree with you that the king is so adam...</td>\n",
       "    </tr>\n",
       "    <tr>\n",
       "      <th>...</th>\n",
       "      <td>...</td>\n",
       "      <td>...</td>\n",
       "      <td>...</td>\n",
       "      <td>...</td>\n",
       "      <td>...</td>\n",
       "    </tr>\n",
       "    <tr>\n",
       "      <th>87</th>\n",
       "      <td>6</td>\n",
       "      <td>4</td>\n",
       "      <td>UX</td>\n",
       "      <td>Seminar</td>\n",
       "      <td>Part One con't: Oops, sent the rest before fin...</td>\n",
       "    </tr>\n",
       "    <tr>\n",
       "      <th>88</th>\n",
       "      <td>3</td>\n",
       "      <td>4</td>\n",
       "      <td>Procedure</td>\n",
       "      <td>Seminar</td>\n",
       "      <td>When the King discovers that his daughter has ...</td>\n",
       "    </tr>\n",
       "    <tr>\n",
       "      <th>89</th>\n",
       "      <td>1</td>\n",
       "      <td>4</td>\n",
       "      <td>Imaginative</td>\n",
       "      <td>Seminar</td>\n",
       "      <td>I had orgininally thought that the king would ...</td>\n",
       "    </tr>\n",
       "    <tr>\n",
       "      <th>90</th>\n",
       "      <td>1</td>\n",
       "      <td>4</td>\n",
       "      <td>Imaginative</td>\n",
       "      <td>Seminar</td>\n",
       "      <td>I think so. Even though the story said he love...</td>\n",
       "    </tr>\n",
       "    <tr>\n",
       "      <th>91</th>\n",
       "      <td>1</td>\n",
       "      <td>4</td>\n",
       "      <td>Imaginative</td>\n",
       "      <td>Seminar</td>\n",
       "      <td>I feel that with the personalities traits prov...</td>\n",
       "    </tr>\n",
       "  </tbody>\n",
       "</table>\n",
       "<p>92 rows × 5 columns</p>\n",
       "</div>"
      ],
      "text/plain": [
       "    predicted  ground_truth predicted_text ground_truth_text  \\\n",
       "0           6             3             UX         Procedure   \n",
       "1           2             4          Other           Seminar   \n",
       "2           1             4    Imaginative           Seminar   \n",
       "3           5             0         Social      Deliberation   \n",
       "4           1             4    Imaginative           Seminar   \n",
       "..        ...           ...            ...               ...   \n",
       "87          6             4             UX           Seminar   \n",
       "88          3             4      Procedure           Seminar   \n",
       "89          1             4    Imaginative           Seminar   \n",
       "90          1             4    Imaginative           Seminar   \n",
       "91          1             4    Imaginative           Seminar   \n",
       "\n",
       "                                                 text  \n",
       "0   I just asked Samantha if this activity is time...  \n",
       "1   That's what I thought to or how I interpreted ...  \n",
       "2   Hey Ashley Peterson! I also wanted to mention ...  \n",
       "3                     Yes I found this by luck...LOL!  \n",
       "4   Ana, I agree with you that the king is so adam...  \n",
       "..                                                ...  \n",
       "87  Part One con't: Oops, sent the rest before fin...  \n",
       "88  When the King discovers that his daughter has ...  \n",
       "89  I had orgininally thought that the king would ...  \n",
       "90  I think so. Even though the story said he love...  \n",
       "91  I feel that with the personalities traits prov...  \n",
       "\n",
       "[92 rows x 5 columns]"
      ]
     },
     "execution_count": 64,
     "metadata": {},
     "output_type": "execute_result"
    }
   ],
   "source": [
    "err_df"
   ]
  },
  {
   "cell_type": "code",
   "execution_count": 65,
   "metadata": {},
   "outputs": [],
   "source": [
    "err_df.to_pickle('few_shot_err_df.pkl')"
   ]
  },
  {
   "cell_type": "code",
   "execution_count": 66,
   "metadata": {},
   "outputs": [],
   "source": [
    "err_df.to_csv('few_shot_err_df.csv')"
   ]
  },
  {
   "cell_type": "markdown",
   "metadata": {},
   "source": [
    "Few-shot without description"
   ]
  },
  {
   "cell_type": "code",
   "execution_count": null,
   "metadata": {},
   "outputs": [],
   "source": [
    "predicted_labels = evaluate_model(test_df, use_category_desc=False)\n",
    "accuracy = calculate_accuracy(predicted_labels, actual_labels)\n",
    "print(f\"Few-shot withour description prompting representatives accuracy: {accuracy * 100:.2f}%\")"
   ]
  },
  {
   "cell_type": "code",
   "execution_count": null,
   "metadata": {},
   "outputs": [],
   "source": [
    "err_df = pd.DataFrame()\n",
    "err_df['predicted'] = predicted_labels\n",
    "err_df['ground_truth'] = actual_labels\n",
    "err_df['predicted_text'] = list(map(lambda x: labelToCategory[x], predicted_labels))\n",
    "err_df['ground_truth_text'] = list(map(lambda x: labelToCategory[x], actual_labels))\n",
    "err_df['text'] = test_df['text']\n",
    "err_df"
   ]
  },
  {
   "cell_type": "markdown",
   "metadata": {},
   "source": [
    "Zero-shot"
   ]
  },
  {
   "cell_type": "code",
   "execution_count": 74,
   "metadata": {},
   "outputs": [
    {
     "name": "stdout",
     "output_type": "stream",
     "text": [
      "Few-shot prompting test accuracy: 46.74%\n"
     ]
    }
   ],
   "source": [
    "predicted_labels = evaluate_model(test_df, use_category_ex=False)\n",
    "accuracy = calculate_accuracy(predicted_labels, actual_labels)\n",
    "print(f\"Few-shot prompting test accuracy: {accuracy * 100:.2f}%\")"
   ]
  },
  {
   "cell_type": "code",
   "execution_count": 75,
   "metadata": {},
   "outputs": [
    {
     "data": {
      "text/html": [
       "<div>\n",
       "<style scoped>\n",
       "    .dataframe tbody tr th:only-of-type {\n",
       "        vertical-align: middle;\n",
       "    }\n",
       "\n",
       "    .dataframe tbody tr th {\n",
       "        vertical-align: top;\n",
       "    }\n",
       "\n",
       "    .dataframe thead th {\n",
       "        text-align: right;\n",
       "    }\n",
       "</style>\n",
       "<table border=\"1\" class=\"dataframe\">\n",
       "  <thead>\n",
       "    <tr style=\"text-align: right;\">\n",
       "      <th></th>\n",
       "      <th>predicted</th>\n",
       "      <th>ground_truth</th>\n",
       "      <th>predicted_text</th>\n",
       "      <th>ground_truth_text</th>\n",
       "      <th>text</th>\n",
       "    </tr>\n",
       "  </thead>\n",
       "  <tbody>\n",
       "    <tr>\n",
       "      <th>0</th>\n",
       "      <td>5</td>\n",
       "      <td>3</td>\n",
       "      <td>Social</td>\n",
       "      <td>Procedure</td>\n",
       "      <td>I just asked Samantha if this activity is time...</td>\n",
       "    </tr>\n",
       "    <tr>\n",
       "      <th>1</th>\n",
       "      <td>4</td>\n",
       "      <td>4</td>\n",
       "      <td>Seminar</td>\n",
       "      <td>Seminar</td>\n",
       "      <td>That's what I thought to or how I interpreted ...</td>\n",
       "    </tr>\n",
       "    <tr>\n",
       "      <th>2</th>\n",
       "      <td>4</td>\n",
       "      <td>4</td>\n",
       "      <td>Seminar</td>\n",
       "      <td>Seminar</td>\n",
       "      <td>Hey Ashley Peterson! I also wanted to mention ...</td>\n",
       "    </tr>\n",
       "    <tr>\n",
       "      <th>3</th>\n",
       "      <td>5</td>\n",
       "      <td>0</td>\n",
       "      <td>Social</td>\n",
       "      <td>Deliberation</td>\n",
       "      <td>Yes I found this by luck...LOL!</td>\n",
       "    </tr>\n",
       "    <tr>\n",
       "      <th>4</th>\n",
       "      <td>4</td>\n",
       "      <td>4</td>\n",
       "      <td>Seminar</td>\n",
       "      <td>Seminar</td>\n",
       "      <td>Ana, I agree with you that the king is so adam...</td>\n",
       "    </tr>\n",
       "    <tr>\n",
       "      <th>...</th>\n",
       "      <td>...</td>\n",
       "      <td>...</td>\n",
       "      <td>...</td>\n",
       "      <td>...</td>\n",
       "      <td>...</td>\n",
       "    </tr>\n",
       "    <tr>\n",
       "      <th>87</th>\n",
       "      <td>1</td>\n",
       "      <td>4</td>\n",
       "      <td>Imaginative</td>\n",
       "      <td>Seminar</td>\n",
       "      <td>Part One con't: Oops, sent the rest before fin...</td>\n",
       "    </tr>\n",
       "    <tr>\n",
       "      <th>88</th>\n",
       "      <td>1</td>\n",
       "      <td>4</td>\n",
       "      <td>Imaginative</td>\n",
       "      <td>Seminar</td>\n",
       "      <td>When the King discovers that his daughter has ...</td>\n",
       "    </tr>\n",
       "    <tr>\n",
       "      <th>89</th>\n",
       "      <td>4</td>\n",
       "      <td>4</td>\n",
       "      <td>Seminar</td>\n",
       "      <td>Seminar</td>\n",
       "      <td>I had orgininally thought that the king would ...</td>\n",
       "    </tr>\n",
       "    <tr>\n",
       "      <th>90</th>\n",
       "      <td>4</td>\n",
       "      <td>4</td>\n",
       "      <td>Seminar</td>\n",
       "      <td>Seminar</td>\n",
       "      <td>I think so. Even though the story said he love...</td>\n",
       "    </tr>\n",
       "    <tr>\n",
       "      <th>91</th>\n",
       "      <td>4</td>\n",
       "      <td>4</td>\n",
       "      <td>Seminar</td>\n",
       "      <td>Seminar</td>\n",
       "      <td>I feel that with the personalities traits prov...</td>\n",
       "    </tr>\n",
       "  </tbody>\n",
       "</table>\n",
       "<p>92 rows × 5 columns</p>\n",
       "</div>"
      ],
      "text/plain": [
       "    predicted  ground_truth predicted_text ground_truth_text  \\\n",
       "0           5             3         Social         Procedure   \n",
       "1           4             4        Seminar           Seminar   \n",
       "2           4             4        Seminar           Seminar   \n",
       "3           5             0         Social      Deliberation   \n",
       "4           4             4        Seminar           Seminar   \n",
       "..        ...           ...            ...               ...   \n",
       "87          1             4    Imaginative           Seminar   \n",
       "88          1             4    Imaginative           Seminar   \n",
       "89          4             4        Seminar           Seminar   \n",
       "90          4             4        Seminar           Seminar   \n",
       "91          4             4        Seminar           Seminar   \n",
       "\n",
       "                                                 text  \n",
       "0   I just asked Samantha if this activity is time...  \n",
       "1   That's what I thought to or how I interpreted ...  \n",
       "2   Hey Ashley Peterson! I also wanted to mention ...  \n",
       "3                     Yes I found this by luck...LOL!  \n",
       "4   Ana, I agree with you that the king is so adam...  \n",
       "..                                                ...  \n",
       "87  Part One con't: Oops, sent the rest before fin...  \n",
       "88  When the King discovers that his daughter has ...  \n",
       "89  I had orgininally thought that the king would ...  \n",
       "90  I think so. Even though the story said he love...  \n",
       "91  I feel that with the personalities traits prov...  \n",
       "\n",
       "[92 rows x 5 columns]"
      ]
     },
     "execution_count": 75,
     "metadata": {},
     "output_type": "execute_result"
    }
   ],
   "source": [
    "err_df = pd.DataFrame()\n",
    "err_df['predicted'] = predicted_labels\n",
    "err_df['ground_truth'] = actual_labels\n",
    "err_df['predicted_text'] = list(map(lambda x: labelToCategory[x], predicted_labels))\n",
    "err_df['ground_truth_text'] = list(map(lambda x: labelToCategory[x], actual_labels))\n",
    "err_df['text'] = test_df['text']\n",
    "err_df"
   ]
  },
  {
   "cell_type": "code",
   "execution_count": 76,
   "metadata": {},
   "outputs": [],
   "source": [
    "actual_labels_val = val_df['label'].astype(int).tolist()"
   ]
  },
  {
   "cell_type": "code",
   "execution_count": 78,
   "metadata": {},
   "outputs": [],
   "source": [
    "predicted_labels_val = evaluate_model(val_df, use_category_ex=False)"
   ]
  },
  {
   "cell_type": "code",
   "execution_count": 79,
   "metadata": {},
   "outputs": [],
   "source": [
    "ground_truth = np.concatenate((actual_labels, actual_labels_val))\n",
    "predicted = np.concatenate((predicted_labels, predicted_labels_val))"
   ]
  },
  {
   "cell_type": "code",
   "execution_count": 80,
   "metadata": {},
   "outputs": [
    {
     "name": "stdout",
     "output_type": "stream",
     "text": [
      "Few-shot prompting test accuracy: 38.04%\n"
     ]
    }
   ],
   "source": [
    "accuracy = calculate_accuracy(predicted, ground_truth)\n",
    "print(f\"Few-shot prompting test accuracy: {accuracy * 100:.2f}%\")"
   ]
  },
  {
   "cell_type": "code",
   "execution_count": 83,
   "metadata": {},
   "outputs": [
    {
     "data": {
      "text/html": [
       "<div>\n",
       "<style scoped>\n",
       "    .dataframe tbody tr th:only-of-type {\n",
       "        vertical-align: middle;\n",
       "    }\n",
       "\n",
       "    .dataframe tbody tr th {\n",
       "        vertical-align: top;\n",
       "    }\n",
       "\n",
       "    .dataframe thead th {\n",
       "        text-align: right;\n",
       "    }\n",
       "</style>\n",
       "<table border=\"1\" class=\"dataframe\">\n",
       "  <thead>\n",
       "    <tr style=\"text-align: right;\">\n",
       "      <th></th>\n",
       "      <th>predicted</th>\n",
       "      <th>ground_truth</th>\n",
       "      <th>predicted_text</th>\n",
       "      <th>ground_truth_text</th>\n",
       "      <th>text</th>\n",
       "    </tr>\n",
       "  </thead>\n",
       "  <tbody>\n",
       "    <tr>\n",
       "      <th>0</th>\n",
       "      <td>5</td>\n",
       "      <td>3</td>\n",
       "      <td>Social</td>\n",
       "      <td>Procedure</td>\n",
       "      <td>I just asked Samantha if this activity is time...</td>\n",
       "    </tr>\n",
       "    <tr>\n",
       "      <th>1</th>\n",
       "      <td>4</td>\n",
       "      <td>4</td>\n",
       "      <td>Seminar</td>\n",
       "      <td>Seminar</td>\n",
       "      <td>That's what I thought to or how I interpreted ...</td>\n",
       "    </tr>\n",
       "    <tr>\n",
       "      <th>2</th>\n",
       "      <td>4</td>\n",
       "      <td>4</td>\n",
       "      <td>Seminar</td>\n",
       "      <td>Seminar</td>\n",
       "      <td>Hey Ashley Peterson! I also wanted to mention ...</td>\n",
       "    </tr>\n",
       "    <tr>\n",
       "      <th>3</th>\n",
       "      <td>5</td>\n",
       "      <td>0</td>\n",
       "      <td>Social</td>\n",
       "      <td>Deliberation</td>\n",
       "      <td>Yes I found this by luck...LOL!</td>\n",
       "    </tr>\n",
       "    <tr>\n",
       "      <th>4</th>\n",
       "      <td>4</td>\n",
       "      <td>4</td>\n",
       "      <td>Seminar</td>\n",
       "      <td>Seminar</td>\n",
       "      <td>Ana, I agree with you that the king is so adam...</td>\n",
       "    </tr>\n",
       "    <tr>\n",
       "      <th>...</th>\n",
       "      <td>...</td>\n",
       "      <td>...</td>\n",
       "      <td>...</td>\n",
       "      <td>...</td>\n",
       "      <td>...</td>\n",
       "    </tr>\n",
       "    <tr>\n",
       "      <th>179</th>\n",
       "      <td>2</td>\n",
       "      <td>4</td>\n",
       "      <td>Other</td>\n",
       "      <td>Seminar</td>\n",
       "      <td>The Lady was behind the door.</td>\n",
       "    </tr>\n",
       "    <tr>\n",
       "      <th>180</th>\n",
       "      <td>0</td>\n",
       "      <td>1</td>\n",
       "      <td>Deliberation</td>\n",
       "      <td>Imaginative</td>\n",
       "      <td>Not what do you think she would do, but what w...</td>\n",
       "    </tr>\n",
       "    <tr>\n",
       "      <th>181</th>\n",
       "      <td>5</td>\n",
       "      <td>0</td>\n",
       "      <td>Social</td>\n",
       "      <td>Deliberation</td>\n",
       "      <td>ok</td>\n",
       "    </tr>\n",
       "    <tr>\n",
       "      <th>182</th>\n",
       "      <td>2</td>\n",
       "      <td>0</td>\n",
       "      <td>Other</td>\n",
       "      <td>Deliberation</td>\n",
       "      <td>Live without was the first one I put.  Then Tr...</td>\n",
       "    </tr>\n",
       "    <tr>\n",
       "      <th>183</th>\n",
       "      <td>5</td>\n",
       "      <td>6</td>\n",
       "      <td>Social</td>\n",
       "      <td>UX</td>\n",
       "      <td>ooooh</td>\n",
       "    </tr>\n",
       "  </tbody>\n",
       "</table>\n",
       "<p>184 rows × 5 columns</p>\n",
       "</div>"
      ],
      "text/plain": [
       "     predicted  ground_truth predicted_text ground_truth_text  \\\n",
       "0            5             3         Social         Procedure   \n",
       "1            4             4        Seminar           Seminar   \n",
       "2            4             4        Seminar           Seminar   \n",
       "3            5             0         Social      Deliberation   \n",
       "4            4             4        Seminar           Seminar   \n",
       "..         ...           ...            ...               ...   \n",
       "179          2             4          Other           Seminar   \n",
       "180          0             1   Deliberation       Imaginative   \n",
       "181          5             0         Social      Deliberation   \n",
       "182          2             0          Other      Deliberation   \n",
       "183          5             6         Social                UX   \n",
       "\n",
       "                                                  text  \n",
       "0    I just asked Samantha if this activity is time...  \n",
       "1    That's what I thought to or how I interpreted ...  \n",
       "2    Hey Ashley Peterson! I also wanted to mention ...  \n",
       "3                      Yes I found this by luck...LOL!  \n",
       "4    Ana, I agree with you that the king is so adam...  \n",
       "..                                                 ...  \n",
       "179                      The Lady was behind the door.  \n",
       "180  Not what do you think she would do, but what w...  \n",
       "181                                                 ok  \n",
       "182  Live without was the first one I put.  Then Tr...  \n",
       "183                                              ooooh  \n",
       "\n",
       "[184 rows x 5 columns]"
      ]
     },
     "execution_count": 83,
     "metadata": {},
     "output_type": "execute_result"
    }
   ],
   "source": [
    "err_df = pd.DataFrame()\n",
    "err_df['predicted'] = predicted\n",
    "err_df['ground_truth'] = ground_truth\n",
    "err_df['predicted_text'] = list(map(lambda x: labelToCategory[x], predicted))\n",
    "err_df['ground_truth_text'] = list(map(lambda x: labelToCategory[x], ground_truth))\n",
    "err_df['text'] = np.concatenate((test_df['text'], val_df['text']))\n",
    "err_df"
   ]
  },
  {
   "cell_type": "code",
   "execution_count": 101,
   "metadata": {},
   "outputs": [],
   "source": [
    "# Function to get wrong predictions using prompt-tuned LLAMA model\n",
    "def get_wrong_predictions(test_df, use_category_desc=True, use_category_ex=True):\n",
    "    wrong_predictions = []\n",
    "    true_labels = []\n",
    "    preds = []\n",
    "\n",
    "    for index, row in test_df.iterrows(): \n",
    "        prompt = create_prompt(row['text'], use_category_desc, use_category_ex)\n",
    "        predicted_category = predict_category(prompt)\n",
    "        if predict_category in categoryToLabel.keys():\n",
    "            predicted_label = categoryToLabel[predicted_category]\n",
    "        else:\n",
    "            predicted_label = -1\n",
    "        \n",
    "        true_label = row['label']\n",
    "        if predicted_label != true_label:\n",
    "            wrong_predictions.append(row['text'])\n",
    "            true_labels.append(true_label)\n",
    "            preds.append(predicted_label)\n",
    "\n",
    "    return wrong_predictions, true_labels, preds"
   ]
  },
  {
   "cell_type": "code",
   "execution_count": 89,
   "metadata": {},
   "outputs": [],
   "source": [
    "# Combine test and validation data for evaluation\n",
    "combined_df = pd.concat([test_df, val_df])"
   ]
  },
  {
   "cell_type": "code",
   "execution_count": 112,
   "metadata": {},
   "outputs": [],
   "source": [
    "wrong_predictions, true_labels, preds = get_wrong_predictions(combined_df, use_category_ex=False)"
   ]
  },
  {
   "cell_type": "code",
   "execution_count": 119,
   "metadata": {},
   "outputs": [],
   "source": [
    "true_labels_name = [labelToCategory[label] for label in true_labels]\n",
    "preds_name = [labelToCategory[pred] for pred in preds]"
   ]
  },
  {
   "cell_type": "code",
   "execution_count": 121,
   "metadata": {},
   "outputs": [
    {
     "name": "stdout",
     "output_type": "stream",
     "text": [
      "                                                text    true_label  \\\n",
      "0  I just asked Samantha if this activity is time...     Procedure   \n",
      "1  That's what I thought to or how I interpreted ...       Seminar   \n",
      "2  Hey Ashley Peterson! I also wanted to mention ...       Seminar   \n",
      "3                    Yes I found this by luck...LOL!  Deliberation   \n",
      "4  Ana, I agree with you that the king is so adam...       Seminar   \n",
      "\n",
      "  predicted_label  \n",
      "0         Unknown  \n",
      "1         Unknown  \n",
      "2         Unknown  \n",
      "3         Unknown  \n",
      "4         Unknown  \n"
     ]
    }
   ],
   "source": [
    "df_errors = pd.DataFrame({\n",
    "    'text': wrong_predictions,\n",
    "    'true_label': true_labels_name,\n",
    "    'predicted_label': preds_name\n",
    "})\n",
    "\n",
    "# Display some of the errors\n",
    "print(df_errors.head())\n"
   ]
  },
  {
   "cell_type": "code",
   "execution_count": 122,
   "metadata": {},
   "outputs": [],
   "source": [
    "df_errors.to_pickle('zero_shot_df_errors.pkl')\n",
    "df_errors.to_csv('zero_shot_df_errors.csv')"
   ]
  },
  {
   "cell_type": "code",
   "execution_count": 123,
   "metadata": {},
   "outputs": [
    {
     "data": {
      "image/png": "[encoded data removed]",
      "text/plain": [
       "<Figure size 1000x700 with 2 Axes>"
      ]
     },
     "metadata": {},
     "output_type": "display_data"
    },
    {
     "name": "stdout",
     "output_type": "stream",
     "text": [
      "              precision    recall  f1-score   support\n",
      "\n",
      "Deliberation       0.00      0.00      0.00       0.0\n",
      " Imaginative       0.00      0.00      0.00      22.0\n",
      "       Other       0.00      0.00      0.00       8.0\n",
      "   Procedure       0.00      0.00      0.00       1.0\n",
      "     Seminar       0.00      0.00      0.00      10.0\n",
      "      Social       0.00      0.00      0.00     108.0\n",
      "          UX       0.00      0.00      0.00      21.0\n",
      "     Unknown       0.00      0.00      0.00      14.0\n",
      "\n",
      "    accuracy                           0.00     184.0\n",
      "   macro avg       0.00      0.00      0.00     184.0\n",
      "weighted avg       0.00      0.00      0.00     184.0\n",
      "\n"
     ]
    },
    {
     "name": "stderr",
     "output_type": "stream",
     "text": [
      "/d/hpc/home/bi4528/.venv/lib64/python3.11/site-packages/sklearn/metrics/_classification.py:1509: UndefinedMetricWarning: Precision is ill-defined and being set to 0.0 in labels with no predicted samples. Use `zero_division` parameter to control this behavior.\n",
      "  _warn_prf(average, modifier, f\"{metric.capitalize()} is\", len(result))\n",
      "/d/hpc/home/bi4528/.venv/lib64/python3.11/site-packages/sklearn/metrics/_classification.py:1509: UndefinedMetricWarning: Recall is ill-defined and being set to 0.0 in labels with no true samples. Use `zero_division` parameter to control this behavior.\n",
      "  _warn_prf(average, modifier, f\"{metric.capitalize()} is\", len(result))\n",
      "/d/hpc/home/bi4528/.venv/lib64/python3.11/site-packages/sklearn/metrics/_classification.py:1509: UndefinedMetricWarning: Precision is ill-defined and being set to 0.0 in labels with no predicted samples. Use `zero_division` parameter to control this behavior.\n",
      "  _warn_prf(average, modifier, f\"{metric.capitalize()} is\", len(result))\n",
      "/d/hpc/home/bi4528/.venv/lib64/python3.11/site-packages/sklearn/metrics/_classification.py:1509: UndefinedMetricWarning: Recall is ill-defined and being set to 0.0 in labels with no true samples. Use `zero_division` parameter to control this behavior.\n",
      "  _warn_prf(average, modifier, f\"{metric.capitalize()} is\", len(result))\n",
      "/d/hpc/home/bi4528/.venv/lib64/python3.11/site-packages/sklearn/metrics/_classification.py:1509: UndefinedMetricWarning: Precision is ill-defined and being set to 0.0 in labels with no predicted samples. Use `zero_division` parameter to control this behavior.\n",
      "  _warn_prf(average, modifier, f\"{metric.capitalize()} is\", len(result))\n",
      "/d/hpc/home/bi4528/.venv/lib64/python3.11/site-packages/sklearn/metrics/_classification.py:1509: UndefinedMetricWarning: Recall is ill-defined and being set to 0.0 in labels with no true samples. Use `zero_division` parameter to control this behavior.\n",
      "  _warn_prf(average, modifier, f\"{metric.capitalize()} is\", len(result))\n"
     ]
    }
   ],
   "source": [
    "# Visualize Errors\n",
    "import matplotlib.pyplot as plt\n",
    "import seaborn as sns\n",
    "from sklearn.metrics import confusion_matrix, classification_report\n",
    "\n",
    "# Confusion Matrix\n",
    "cm = confusion_matrix(true_labels, preds)\n",
    "plt.figure(figsize=(10, 7))\n",
    "sns.heatmap(cm, annot=True, fmt='d', cmap='Blues', xticklabels=labelToCategory.values(), yticklabels=labelToCategory.values())\n",
    "plt.xlabel('Predicted')\n",
    "plt.ylabel('True')\n",
    "plt.title('Confusion Matrix')\n",
    "plt.show()\n",
    "\n",
    "# Classification Report\n",
    "print(classification_report(true_labels, preds, target_names=labelToCategory.values()))"
   ]
  },
  {
   "cell_type": "code",
   "execution_count": 124,
   "metadata": {},
   "outputs": [
    {
     "data": {
      "image/png": "[encoded data removed]",
      "text/plain": [
       "<Figure size 640x480 with 1 Axes>"
      ]
     },
     "metadata": {},
     "output_type": "display_data"
    }
   ],
   "source": [
    "sns.set_theme()\n",
    "lengths = [len(text) for text in wrong_predictions]\n",
    "sns.histplot(lengths, kde=True, bins=20)\n",
    "plt.title(\"Distribution of lengths of wrong predictions\")\n",
    "\n",
    "# Add xticts based on bin width\n",
    "bin_width = 80\n",
    "plt.xticks(np.arange(0, max(lengths), bin_width))\n",
    "\n",
    "\n",
    "plt.xlabel(\"Length of text\")\n",
    "plt.ylabel(\"Frequency\")\n",
    "\n",
    "# Save plot\n",
    "plt.savefig(\"../images/wrong_predictions_length_distribution.pdf\")\n"
   ]
  }
 ],
 "metadata": {
  "kernelspec": {
   "display_name": "Python 3 (ipykernel)",
   "language": "python",
   "name": "python3"
  },
  "language_info": {
   "codemirror_mode": {
    "name": "ipython",
    "version": 3
   },
   "file_extension": ".py",
   "mimetype": "text/x-python",
   "name": "python",
   "nbconvert_exporter": "python",
   "pygments_lexer": "ipython3",
   "version": "3.11.5"
  }
 },
 "nbformat": 4,
 "nbformat_minor": 2
}
