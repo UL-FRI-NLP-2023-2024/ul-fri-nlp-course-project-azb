{
 "cells": [
  {
   "cell_type": "code",
   "execution_count": 68,
   "id": "785a00de",
   "metadata": {},
   "outputs": [],
   "source": [
    "import pandas as pd\n",
    "import pickle\n",
    "from sklearn.feature_extraction.text import TfidfVectorizer, CountVectorizer\n",
    "from sklearn.naive_bayes import MultinomialNB\n",
    "from sklearn.ensemble import RandomForestClassifier\n",
    "from sklearn import svm\n",
    "import xgboost as xgb\n",
    "from sklearn import metrics\n",
    "import numpy as np\n",
    "from time import time\n",
    "import matplotlib.pyplot as plt"
   ]
  },
  {
   "cell_type": "code",
   "execution_count": 2,
   "id": "6f85e197",
   "metadata": {},
   "outputs": [],
   "source": [
    "train_df = pd.read_pickle(\"train_dataset\")\n",
    "test_df = pd.read_pickle(\"test_dataset\")\n",
    "val_df = pd.read_pickle(\"val_dataset\")"
   ]
  },
  {
   "cell_type": "markdown",
   "id": "0f8354a9",
   "metadata": {},
   "source": [
    "## Label to category encoding\n",
    "\n",
    "\n",
    "\n",
    "#### 0 == deliberation\n",
    "\n",
    "\n",
    "#### 1 == imaginative entry\n",
    "\n",
    "\n",
    "#### 2 == other\n",
    "\n",
    "\n",
    "#### 3 == procedure\n",
    "\n",
    "\n",
    "#### 4 == seminar\n",
    "\n",
    "\n",
    "#### 5 == social\n",
    "\n",
    "\n",
    "#### 6 == UX"
   ]
  },
  {
   "cell_type": "code",
   "execution_count": 11,
   "id": "ce7beadf",
   "metadata": {},
   "outputs": [
    {
     "data": {
      "text/html": [
       "<div>\n",
       "<style scoped>\n",
       "    .dataframe tbody tr th:only-of-type {\n",
       "        vertical-align: middle;\n",
       "    }\n",
       "\n",
       "    .dataframe tbody tr th {\n",
       "        vertical-align: top;\n",
       "    }\n",
       "\n",
       "    .dataframe thead th {\n",
       "        text-align: right;\n",
       "    }\n",
       "</style>\n",
       "<table border=\"1\" class=\"dataframe\">\n",
       "  <thead>\n",
       "    <tr style=\"text-align: right;\">\n",
       "      <th></th>\n",
       "      <th>text</th>\n",
       "      <th>label</th>\n",
       "    </tr>\n",
       "  </thead>\n",
       "  <tbody>\n",
       "    <tr>\n",
       "      <th>0</th>\n",
       "      <td>What do you guys think?</td>\n",
       "      <td>4</td>\n",
       "    </tr>\n",
       "    <tr>\n",
       "      <th>1</th>\n",
       "      <td>Yay you got it!</td>\n",
       "      <td>5</td>\n",
       "    </tr>\n",
       "    <tr>\n",
       "      <th>2</th>\n",
       "      <td>I like it. It draws from the story.</td>\n",
       "      <td>4</td>\n",
       "    </tr>\n",
       "    <tr>\n",
       "      <th>3</th>\n",
       "      <td>Any idea on how to submit it?</td>\n",
       "      <td>6</td>\n",
       "    </tr>\n",
       "    <tr>\n",
       "      <th>4</th>\n",
       "      <td>It would be just a thing that this King would ...</td>\n",
       "      <td>4</td>\n",
       "    </tr>\n",
       "    <tr>\n",
       "      <th>5</th>\n",
       "      <td>Yes!! Well done.</td>\n",
       "      <td>0</td>\n",
       "    </tr>\n",
       "    <tr>\n",
       "      <th>6</th>\n",
       "      <td>...</td>\n",
       "      <td>4</td>\n",
       "    </tr>\n",
       "    <tr>\n",
       "      <th>7</th>\n",
       "      <td>So regarding part 1 of the question, I think t...</td>\n",
       "      <td>4</td>\n",
       "    </tr>\n",
       "    <tr>\n",
       "      <th>8</th>\n",
       "      <td>I believe that is all the survey and canvas yes</td>\n",
       "      <td>3</td>\n",
       "    </tr>\n",
       "    <tr>\n",
       "      <th>9</th>\n",
       "      <td>I think the King would offer her the same choi...</td>\n",
       "      <td>4</td>\n",
       "    </tr>\n",
       "    <tr>\n",
       "      <th>10</th>\n",
       "      <td>That's what I thought as well. I remember the ...</td>\n",
       "      <td>4</td>\n",
       "    </tr>\n",
       "    <tr>\n",
       "      <th>11</th>\n",
       "      <td>I believe she tells him to open the door with ...</td>\n",
       "      <td>4</td>\n",
       "    </tr>\n",
       "    <tr>\n",
       "      <th>12</th>\n",
       "      <td>Good luck to you as well</td>\n",
       "      <td>5</td>\n",
       "    </tr>\n",
       "    <tr>\n",
       "      <th>13</th>\n",
       "      <td>The King does seem unstable enough to put his ...</td>\n",
       "      <td>4</td>\n",
       "    </tr>\n",
       "    <tr>\n",
       "      <th>14</th>\n",
       "      <td>Hint I _____him?</td>\n",
       "      <td>6</td>\n",
       "    </tr>\n",
       "    <tr>\n",
       "      <th>15</th>\n",
       "      <td>Yes, I think so. We were discussing if we writ...</td>\n",
       "      <td>0</td>\n",
       "    </tr>\n",
       "    <tr>\n",
       "      <th>16</th>\n",
       "      <td>Yes, and I know that we are going with just an...</td>\n",
       "      <td>0</td>\n",
       "    </tr>\n",
       "    <tr>\n",
       "      <th>17</th>\n",
       "      <td>I tried to read it before 7 but it's stuck on ...</td>\n",
       "      <td>6</td>\n",
       "    </tr>\n",
       "    <tr>\n",
       "      <th>18</th>\n",
       "      <td>but I think we should incorporate the King men...</td>\n",
       "      <td>4</td>\n",
       "    </tr>\n",
       "    <tr>\n",
       "      <th>19</th>\n",
       "      <td>Hi Katie!</td>\n",
       "      <td>5</td>\n",
       "    </tr>\n",
       "  </tbody>\n",
       "</table>\n",
       "</div>"
      ],
      "text/plain": [
       "                                                 text  label\n",
       "0                            What do you guys think?       4\n",
       "1                                     Yay you got it!      5\n",
       "2                 I like it. It draws from the story.      4\n",
       "3                       Any idea on how to submit it?      6\n",
       "4   It would be just a thing that this King would ...      4\n",
       "5                                    Yes!! Well done.      0\n",
       "6                                                 ...      4\n",
       "7   So regarding part 1 of the question, I think t...      4\n",
       "8     I believe that is all the survey and canvas yes      3\n",
       "9   I think the King would offer her the same choi...      4\n",
       "10  That's what I thought as well. I remember the ...      4\n",
       "11  I believe she tells him to open the door with ...      4\n",
       "12                           Good luck to you as well      5\n",
       "13  The King does seem unstable enough to put his ...      4\n",
       "14                                   Hint I _____him?      6\n",
       "15  Yes, I think so. We were discussing if we writ...      0\n",
       "16  Yes, and I know that we are going with just an...      0\n",
       "17  I tried to read it before 7 but it's stuck on ...      6\n",
       "18  but I think we should incorporate the King men...      4\n",
       "19                                          Hi Katie!      5"
      ]
     },
     "execution_count": 11,
     "metadata": {},
     "output_type": "execute_result"
    }
   ],
   "source": [
    "train_df[:20]"
   ]
  },
  {
   "cell_type": "markdown",
   "id": "b3e953ed",
   "metadata": {},
   "source": [
    "### using the same dataset as used for BERT"
   ]
  },
  {
   "cell_type": "code",
   "execution_count": 16,
   "id": "398f9b14",
   "metadata": {},
   "outputs": [],
   "source": [
    "X_train = train_df['text']\n",
    "X_test = test_df['text']\n",
    "X_val = val_df['text'] \n",
    "\n",
    "y_train = train_df['label']\n",
    "y_test = test_df['label']\n",
    "y_val = val_df['label']"
   ]
  },
  {
   "cell_type": "code",
   "execution_count": 17,
   "id": "b3696ce4",
   "metadata": {},
   "outputs": [
    {
     "name": "stdout",
     "output_type": "stream",
     "text": [
      "Training samples: 427, training features: 1353\n",
      "Testing samples: 92, Testing features: 1353\n",
      "Validation samples: 92, Validation features: 1353\n"
     ]
    }
   ],
   "source": [
    "vectorizer = TfidfVectorizer(sublinear_tf=True, max_df=0.5)\n",
    "\n",
    "X_train = vectorizer.fit_transform(X_train)\n",
    "X_test = vectorizer.transform(X_test)\n",
    "X_val = vectorizer.transform(X_val)\n",
    "print(\"Training samples: %d, training features: %d\" % X_train.shape)\n",
    "print(\"Testing samples: %d, Testing features: %d\" % X_test.shape)\n",
    "print(\"Validation samples: %d, Validation features: %d\" % X_val.shape)"
   ]
  },
  {
   "cell_type": "markdown",
   "id": "65a843d4",
   "metadata": {},
   "source": [
    "### MultinomialNB"
   ]
  },
  {
   "cell_type": "code",
   "execution_count": 20,
   "id": "14dc2bf8",
   "metadata": {},
   "outputs": [
    {
     "name": "stdout",
     "output_type": "stream",
     "text": [
      "Training ...\n",
      "Testing ...\n",
      "Classification accuracy:   0.739\n",
      "Classification report:\n",
      "              precision    recall  f1-score   support\n",
      "\n",
      "           0       0.43      0.25      0.32        12\n",
      "           1       0.00      0.00      0.00         4\n",
      "           2       0.00      0.00      0.00         1\n",
      "           3       0.33      0.50      0.40         4\n",
      "           4       0.81      0.96      0.88        54\n",
      "           5       0.75      0.75      0.75        12\n",
      "           6       0.67      0.40      0.50         5\n",
      "\n",
      "    accuracy                           0.74        92\n",
      "   macro avg       0.43      0.41      0.41        92\n",
      "weighted avg       0.68      0.74      0.70        92\n",
      "\n",
      "Confusion matrix:\n",
      "[[ 3  0  0  3  5  1  0]\n",
      " [ 0  0  0  0  4  0  0]\n",
      " [ 0  0  0  0  1  0  0]\n",
      " [ 1  0  0  2  1  0  0]\n",
      " [ 1  0  0  0 52  1  0]\n",
      " [ 1  0  0  0  1  9  1]\n",
      " [ 1  0  0  1  0  1  2]]\n"
     ]
    },
    {
     "name": "stderr",
     "output_type": "stream",
     "text": [
      "C:\\Users\\Ana\\Desktop\\local playground NLP\\nlp\\lib\\site-packages\\sklearn\\metrics\\_classification.py:1509: UndefinedMetricWarning: Precision is ill-defined and being set to 0.0 in labels with no predicted samples. Use `zero_division` parameter to control this behavior.\n",
      "  _warn_prf(average, modifier, f\"{metric.capitalize()} is\", len(result))\n",
      "C:\\Users\\Ana\\Desktop\\local playground NLP\\nlp\\lib\\site-packages\\sklearn\\metrics\\_classification.py:1509: UndefinedMetricWarning: Precision is ill-defined and being set to 0.0 in labels with no predicted samples. Use `zero_division` parameter to control this behavior.\n",
      "  _warn_prf(average, modifier, f\"{metric.capitalize()} is\", len(result))\n",
      "C:\\Users\\Ana\\Desktop\\local playground NLP\\nlp\\lib\\site-packages\\sklearn\\metrics\\_classification.py:1509: UndefinedMetricWarning: Precision is ill-defined and being set to 0.0 in labels with no predicted samples. Use `zero_division` parameter to control this behavior.\n",
      "  _warn_prf(average, modifier, f\"{metric.capitalize()} is\", len(result))\n"
     ]
    },
    {
     "data": {
      "image/png": "[encoded data removed]",
      "text/plain": [
       "<Figure size 480x480 with 2 Axes>"
      ]
     },
     "metadata": {},
     "output_type": "display_data"
    }
   ],
   "source": [
    "# Training and testing a Multinomial naive Bayes\n",
    "clf = MultinomialNB(alpha=.01)\n",
    "\n",
    "print(\"Training ...\")\n",
    "clf.fit(X_train, y_train)\n",
    "\n",
    "print(\"Testing ...\")\n",
    "pred = clf.predict(X_test)\n",
    "\n",
    "score = metrics.accuracy_score(y_test, pred)\n",
    "print(\"Classification accuracy:   %0.3f\" % score)\n",
    "\n",
    "print(\"Classification report:\")\n",
    "print(metrics.classification_report(y_test, pred))\n",
    "\n",
    "# Show confusion matrix\n",
    "print(\"Confusion matrix:\")\n",
    "cm = metrics.confusion_matrix(y_test, pred)\n",
    "print(cm)\n",
    "plt.matshow(cm)\n",
    "plt.colorbar()\n",
    "\n",
    "plt.show()"
   ]
  },
  {
   "cell_type": "code",
   "execution_count": 21,
   "id": "2d0f6e81",
   "metadata": {},
   "outputs": [
    {
     "name": "stdout",
     "output_type": "stream",
     "text": [
      "Testing ...\n",
      "Classification accuracy:   0.707\n",
      "Classification report:\n",
      "              precision    recall  f1-score   support\n",
      "\n",
      "           0       0.40      0.40      0.40        10\n",
      "           1       1.00      0.25      0.40         4\n",
      "           3       0.75      0.50      0.60         6\n",
      "           4       0.77      0.94      0.85        54\n",
      "           5       0.80      0.44      0.57         9\n",
      "           6       0.33      0.22      0.27         9\n",
      "\n",
      "    accuracy                           0.71        92\n",
      "   macro avg       0.68      0.46      0.51        92\n",
      "weighted avg       0.70      0.71      0.68        92\n",
      "\n",
      "Confusion matrix:\n",
      "[[ 4  0  0  5  0  1]\n",
      " [ 0  1  0  3  0  0]\n",
      " [ 2  0  3  1  0  0]\n",
      " [ 1  0  0 51  1  1]\n",
      " [ 0  0  0  3  4  2]\n",
      " [ 3  0  1  3  0  2]]\n"
     ]
    },
    {
     "data": {
      "image/png": "[encoded data removed]",
      "text/plain": [
       "<Figure size 480x480 with 2 Axes>"
      ]
     },
     "metadata": {},
     "output_type": "display_data"
    }
   ],
   "source": [
    "print(\"Testing ...\")\n",
    "pred_val = clf.predict(X_val)\n",
    "\n",
    "score = metrics.accuracy_score(y_val, pred_val)\n",
    "print(\"Classification accuracy:   %0.3f\" % score)\n",
    "\n",
    "print(\"Classification report:\")\n",
    "print(metrics.classification_report(y_val, pred_val))\n",
    "\n",
    "# Show confusion matrix\n",
    "print(\"Confusion matrix:\")\n",
    "cm = metrics.confusion_matrix(y_val, pred_val)\n",
    "print(cm)\n",
    "plt.matshow(cm)\n",
    "plt.colorbar()\n",
    "\n",
    "plt.show()"
   ]
  },
  {
   "cell_type": "markdown",
   "id": "e210dee7",
   "metadata": {},
   "source": [
    "### Analysis of errors: find which examples are misclassified \n",
    "Compare the pred and y_test, save combined dataframe to pickle file"
   ]
  },
  {
   "cell_type": "code",
   "execution_count": 22,
   "id": "d0eddc8b",
   "metadata": {},
   "outputs": [],
   "source": [
    "err_df = pd.DataFrame()"
   ]
  },
  {
   "cell_type": "code",
   "execution_count": 23,
   "id": "5d939570",
   "metadata": {},
   "outputs": [
    {
     "data": {
      "text/plain": [
       "array([0, 0, 4, 5, 4, 4, 4, 4, 4, 0, 4, 4, 4, 4, 5, 4, 4, 4, 4, 4, 5, 4,\n",
       "       5, 4, 4, 3, 4, 4, 4, 0, 3, 4, 4, 4, 4, 4, 4, 4, 4, 4, 6, 4, 4, 4,\n",
       "       4, 4, 4, 4, 4, 6, 4, 4, 4, 4, 5, 4, 3, 0, 4, 0, 5, 5, 4, 4, 4, 4,\n",
       "       4, 4, 4, 4, 5, 5, 3, 4, 6, 5, 3, 3, 4, 4, 5, 4, 5, 4, 4, 4, 0, 4,\n",
       "       4, 4, 4, 4])"
      ]
     },
     "execution_count": 23,
     "metadata": {},
     "output_type": "execute_result"
    }
   ],
   "source": [
    "pred"
   ]
  },
  {
   "cell_type": "code",
   "execution_count": 25,
   "id": "0c9b7365",
   "metadata": {},
   "outputs": [
    {
     "data": {
      "text/plain": [
       "0     3\n",
       "1     4\n",
       "2     4\n",
       "3     0\n",
       "4     4\n",
       "     ..\n",
       "87    4\n",
       "88    4\n",
       "89    4\n",
       "90    4\n",
       "91    4\n",
       "Name: label, Length: 92, dtype: int32"
      ]
     },
     "execution_count": 25,
     "metadata": {},
     "output_type": "execute_result"
    }
   ],
   "source": [
    "y_test"
   ]
  },
  {
   "cell_type": "code",
   "execution_count": 24,
   "id": "52f1e56d",
   "metadata": {},
   "outputs": [
    {
     "data": {
      "text/plain": [
       "array([5, 0, 4, 6, 4, 4, 4, 3, 4, 4, 4, 4, 3, 4, 4, 4, 4, 4, 4, 4, 4, 4,\n",
       "       4, 4, 4, 4, 4, 0, 4, 5, 6, 4, 4, 4, 4, 3, 4, 4, 0, 0, 4, 4, 0, 4,\n",
       "       4, 0, 5, 4, 0, 0, 4, 4, 4, 4, 4, 4, 4, 4, 6, 4, 6, 6, 4, 4, 6, 4,\n",
       "       4, 4, 4, 4, 4, 4, 4, 4, 1, 5, 4, 4, 4, 0, 4, 4, 4, 3, 5, 4, 4, 4,\n",
       "       4, 0, 4, 4])"
      ]
     },
     "execution_count": 24,
     "metadata": {},
     "output_type": "execute_result"
    }
   ],
   "source": [
    "pred_val"
   ]
  },
  {
   "cell_type": "code",
   "execution_count": 26,
   "id": "6cfeb058",
   "metadata": {},
   "outputs": [
    {
     "data": {
      "text/plain": [
       "0     5\n",
       "1     3\n",
       "2     4\n",
       "3     4\n",
       "4     5\n",
       "     ..\n",
       "87    4\n",
       "88    1\n",
       "89    0\n",
       "90    0\n",
       "91    6\n",
       "Name: label, Length: 92, dtype: int32"
      ]
     },
     "execution_count": 26,
     "metadata": {},
     "output_type": "execute_result"
    }
   ],
   "source": [
    "y_val"
   ]
  },
  {
   "cell_type": "code",
   "execution_count": 28,
   "id": "1fd758ef",
   "metadata": {},
   "outputs": [],
   "source": [
    "ground_truth = np.concatenate((y_test, y_val))\n",
    "predicted = np.concatenate((pred, pred_val))"
   ]
  },
  {
   "cell_type": "code",
   "execution_count": 29,
   "id": "e5ff711e",
   "metadata": {},
   "outputs": [
    {
     "data": {
      "text/plain": [
       "array([3, 4, 4, 0, 4, 4, 4, 4, 1, 0, 4, 4, 4, 4, 5, 0, 4, 4, 4, 4, 5, 4,\n",
       "       5, 4, 4, 3, 4, 4, 0, 0, 0, 4, 4, 4, 4, 2, 4, 4, 3, 0, 6, 1, 5, 4,\n",
       "       4, 0, 4, 4, 4, 6, 4, 4, 4, 4, 5, 4, 0, 5, 4, 0, 4, 5, 4, 4, 4, 4,\n",
       "       4, 4, 4, 4, 6, 5, 3, 1, 5, 5, 0, 6, 4, 1, 5, 0, 5, 4, 4, 4, 6, 4,\n",
       "       4, 4, 4, 4, 5, 3, 4, 4, 5, 1, 4, 3, 4, 4, 4, 4, 6, 0, 4, 6, 4, 4,\n",
       "       4, 4, 4, 4, 4, 5, 0, 4, 4, 3, 4, 5, 6, 4, 4, 4, 4, 3, 0, 4, 4, 6,\n",
       "       4, 0, 0, 3, 4, 6, 5, 6, 6, 0, 4, 4, 4, 4, 4, 4, 4, 4, 0, 4, 5, 5,\n",
       "       4, 4, 6, 4, 4, 4, 4, 4, 4, 4, 4, 5, 1, 5, 4, 4, 1, 0, 4, 4, 4, 3,\n",
       "       4, 4, 4, 4, 1, 0, 0, 6])"
      ]
     },
     "execution_count": 29,
     "metadata": {},
     "output_type": "execute_result"
    }
   ],
   "source": [
    "ground_truth"
   ]
  },
  {
   "cell_type": "code",
   "execution_count": 30,
   "id": "a5d3be19",
   "metadata": {},
   "outputs": [
    {
     "data": {
      "text/plain": [
       "array([0, 0, 4, 5, 4, 4, 4, 4, 4, 0, 4, 4, 4, 4, 5, 4, 4, 4, 4, 4, 5, 4,\n",
       "       5, 4, 4, 3, 4, 4, 4, 0, 3, 4, 4, 4, 4, 4, 4, 4, 4, 4, 6, 4, 4, 4,\n",
       "       4, 4, 4, 4, 4, 6, 4, 4, 4, 4, 5, 4, 3, 0, 4, 0, 5, 5, 4, 4, 4, 4,\n",
       "       4, 4, 4, 4, 5, 5, 3, 4, 6, 5, 3, 3, 4, 4, 5, 4, 5, 4, 4, 4, 0, 4,\n",
       "       4, 4, 4, 4, 5, 0, 4, 6, 4, 4, 4, 3, 4, 4, 4, 4, 3, 4, 4, 4, 4, 4,\n",
       "       4, 4, 4, 4, 4, 4, 4, 4, 4, 0, 4, 5, 6, 4, 4, 4, 4, 3, 4, 4, 0, 0,\n",
       "       4, 4, 0, 4, 4, 0, 5, 4, 0, 0, 4, 4, 4, 4, 4, 4, 4, 4, 6, 4, 6, 6,\n",
       "       4, 4, 6, 4, 4, 4, 4, 4, 4, 4, 4, 4, 1, 5, 4, 4, 4, 0, 4, 4, 4, 3,\n",
       "       5, 4, 4, 4, 4, 0, 4, 4])"
      ]
     },
     "execution_count": 30,
     "metadata": {},
     "output_type": "execute_result"
    }
   ],
   "source": [
    "predicted"
   ]
  },
  {
   "cell_type": "code",
   "execution_count": 31,
   "id": "29593c8f",
   "metadata": {},
   "outputs": [],
   "source": [
    "err_df['ground_truth'] = ground_truth"
   ]
  },
  {
   "cell_type": "code",
   "execution_count": 32,
   "id": "44e32dc4",
   "metadata": {},
   "outputs": [],
   "source": [
    "err_df['predicted'] = predicted"
   ]
  },
  {
   "cell_type": "code",
   "execution_count": 36,
   "id": "786b235d",
   "metadata": {},
   "outputs": [],
   "source": [
    "text = np.concatenate((test_df['text'], val_df['text']))"
   ]
  },
  {
   "cell_type": "code",
   "execution_count": 38,
   "id": "48261a6a",
   "metadata": {},
   "outputs": [],
   "source": [
    "err_df['text'] = text"
   ]
  },
  {
   "cell_type": "code",
   "execution_count": 39,
   "id": "aa227a66",
   "metadata": {},
   "outputs": [
    {
     "data": {
      "text/html": [
       "<div>\n",
       "<style scoped>\n",
       "    .dataframe tbody tr th:only-of-type {\n",
       "        vertical-align: middle;\n",
       "    }\n",
       "\n",
       "    .dataframe tbody tr th {\n",
       "        vertical-align: top;\n",
       "    }\n",
       "\n",
       "    .dataframe thead th {\n",
       "        text-align: right;\n",
       "    }\n",
       "</style>\n",
       "<table border=\"1\" class=\"dataframe\">\n",
       "  <thead>\n",
       "    <tr style=\"text-align: right;\">\n",
       "      <th></th>\n",
       "      <th>ground_truth</th>\n",
       "      <th>predicted</th>\n",
       "      <th>text</th>\n",
       "    </tr>\n",
       "  </thead>\n",
       "  <tbody>\n",
       "    <tr>\n",
       "      <th>0</th>\n",
       "      <td>3</td>\n",
       "      <td>0</td>\n",
       "      <td>I just asked Samantha if this activity is time...</td>\n",
       "    </tr>\n",
       "    <tr>\n",
       "      <th>1</th>\n",
       "      <td>4</td>\n",
       "      <td>0</td>\n",
       "      <td>That's what I thought to or how I interpreted ...</td>\n",
       "    </tr>\n",
       "    <tr>\n",
       "      <th>2</th>\n",
       "      <td>4</td>\n",
       "      <td>4</td>\n",
       "      <td>Hey Ashley Peterson! I also wanted to mention ...</td>\n",
       "    </tr>\n",
       "    <tr>\n",
       "      <th>3</th>\n",
       "      <td>0</td>\n",
       "      <td>5</td>\n",
       "      <td>Yes I found this by luck...LOL!</td>\n",
       "    </tr>\n",
       "    <tr>\n",
       "      <th>4</th>\n",
       "      <td>4</td>\n",
       "      <td>4</td>\n",
       "      <td>Ana, I agree with you that the king is so adam...</td>\n",
       "    </tr>\n",
       "    <tr>\n",
       "      <th>...</th>\n",
       "      <td>...</td>\n",
       "      <td>...</td>\n",
       "      <td>...</td>\n",
       "    </tr>\n",
       "    <tr>\n",
       "      <th>179</th>\n",
       "      <td>4</td>\n",
       "      <td>4</td>\n",
       "      <td>The Lady was behind the door.</td>\n",
       "    </tr>\n",
       "    <tr>\n",
       "      <th>180</th>\n",
       "      <td>1</td>\n",
       "      <td>4</td>\n",
       "      <td>Not what do you think she would do, but what w...</td>\n",
       "    </tr>\n",
       "    <tr>\n",
       "      <th>181</th>\n",
       "      <td>0</td>\n",
       "      <td>0</td>\n",
       "      <td>ok</td>\n",
       "    </tr>\n",
       "    <tr>\n",
       "      <th>182</th>\n",
       "      <td>0</td>\n",
       "      <td>4</td>\n",
       "      <td>Live without was the first one I put.  Then Tr...</td>\n",
       "    </tr>\n",
       "    <tr>\n",
       "      <th>183</th>\n",
       "      <td>6</td>\n",
       "      <td>4</td>\n",
       "      <td>ooooh</td>\n",
       "    </tr>\n",
       "  </tbody>\n",
       "</table>\n",
       "<p>184 rows × 3 columns</p>\n",
       "</div>"
      ],
      "text/plain": [
       "     ground_truth  predicted  \\\n",
       "0               3          0   \n",
       "1               4          0   \n",
       "2               4          4   \n",
       "3               0          5   \n",
       "4               4          4   \n",
       "..            ...        ...   \n",
       "179             4          4   \n",
       "180             1          4   \n",
       "181             0          0   \n",
       "182             0          4   \n",
       "183             6          4   \n",
       "\n",
       "                                                  text  \n",
       "0    I just asked Samantha if this activity is time...  \n",
       "1    That's what I thought to or how I interpreted ...  \n",
       "2    Hey Ashley Peterson! I also wanted to mention ...  \n",
       "3                      Yes I found this by luck...LOL!  \n",
       "4    Ana, I agree with you that the king is so adam...  \n",
       "..                                                 ...  \n",
       "179                      The Lady was behind the door.  \n",
       "180  Not what do you think she would do, but what w...  \n",
       "181                                                 ok  \n",
       "182  Live without was the first one I put.  Then Tr...  \n",
       "183                                              ooooh  \n",
       "\n",
       "[184 rows x 3 columns]"
      ]
     },
     "execution_count": 39,
     "metadata": {},
     "output_type": "execute_result"
    }
   ],
   "source": [
    "err_df"
   ]
  },
  {
   "cell_type": "code",
   "execution_count": 40,
   "id": "92bf74ff",
   "metadata": {},
   "outputs": [],
   "source": [
    "err_df.to_pickle(\"MultinomialNB_alpha_0.01\")"
   ]
  },
  {
   "cell_type": "markdown",
   "id": "5afd4059",
   "metadata": {},
   "source": [
    "### Random Forest Classifier"
   ]
  },
  {
   "cell_type": "code",
   "execution_count": 44,
   "id": "a65951d0",
   "metadata": {},
   "outputs": [
    {
     "data": {
      "text/plain": [
       "'\\n\\nmodel_name = \"CHANGE_THIS\" ## needs to be changed!!!\\n\\nerr_df = pd.DataFrame()\\n\\nground_truth = np.concatenate((y_test, y_val))\\npredicted = np.concatenate((pred, pred_val))\\n\\nerr_df[\\'ground_truth\\'] = ground_truth\\nerr_df[\\'predicted\\'] = predicted\\n\\ntext = np.concatenate((test_df[\\'text\\'], val_df[\\'text\\']))\\n\\nerr_df[\\'text\\'] = text\\n\\nerr_df.to_pickle(model_name)\\n\\nprint(f\"Successfully stored error data for model {model_name}\")\\n\\n'"
      ]
     },
     "execution_count": 44,
     "metadata": {},
     "output_type": "execute_result"
    }
   ],
   "source": [
    "\"\"\"\n",
    "\n",
    "model_name = \"CHANGE_THIS\" ## needs to be changed!!!\n",
    "\n",
    "err_df = pd.DataFrame()\n",
    "\n",
    "ground_truth = np.concatenate((y_test, y_val))\n",
    "predicted = np.concatenate((pred, pred_val))\n",
    "\n",
    "err_df['ground_truth'] = ground_truth\n",
    "err_df['predicted'] = predicted\n",
    "\n",
    "text = np.concatenate((test_df['text'], val_df['text']))\n",
    "\n",
    "err_df['text'] = text\n",
    "\n",
    "err_df.to_pickle(model_name)\n",
    "\n",
    "print(f\"Successfully stored error data for model {model_name}\")\n",
    "\n",
    "\"\"\""
   ]
  },
  {
   "cell_type": "code",
   "execution_count": 58,
   "id": "74919f71",
   "metadata": {},
   "outputs": [
    {
     "name": "stdout",
     "output_type": "stream",
     "text": [
      "Training ...\n",
      "Testing ...\n",
      "Classification accuracy:   0.685\n",
      "Classification report:\n",
      "              precision    recall  f1-score   support\n",
      "\n",
      "           0       0.71      0.42      0.53        12\n",
      "           1       0.00      0.00      0.00         4\n",
      "           2       0.00      0.00      0.00         1\n",
      "           3       0.00      0.00      0.00         4\n",
      "           4       0.69      0.98      0.81        54\n",
      "           5       0.83      0.42      0.56        12\n",
      "           6       0.00      0.00      0.00         5\n",
      "\n",
      "    accuracy                           0.68        92\n",
      "   macro avg       0.32      0.26      0.27        92\n",
      "weighted avg       0.61      0.68      0.62        92\n",
      "\n",
      "Confusion matrix:\n",
      "[[ 5  0  0  1  6  0  0]\n",
      " [ 0  0  0  0  4  0  0]\n",
      " [ 0  0  0  0  1  0  0]\n",
      " [ 1  0  0  0  3  0  0]\n",
      " [ 0  0  0  0 53  1  0]\n",
      " [ 1  0  0  1  5  5  0]\n",
      " [ 0  0  0  0  5  0  0]]\n"
     ]
    },
    {
     "name": "stderr",
     "output_type": "stream",
     "text": [
      "C:\\Users\\Ana\\Desktop\\local playground NLP\\nlp\\lib\\site-packages\\sklearn\\metrics\\_classification.py:1509: UndefinedMetricWarning: Precision is ill-defined and being set to 0.0 in labels with no predicted samples. Use `zero_division` parameter to control this behavior.\n",
      "  _warn_prf(average, modifier, f\"{metric.capitalize()} is\", len(result))\n",
      "C:\\Users\\Ana\\Desktop\\local playground NLP\\nlp\\lib\\site-packages\\sklearn\\metrics\\_classification.py:1509: UndefinedMetricWarning: Precision is ill-defined and being set to 0.0 in labels with no predicted samples. Use `zero_division` parameter to control this behavior.\n",
      "  _warn_prf(average, modifier, f\"{metric.capitalize()} is\", len(result))\n",
      "C:\\Users\\Ana\\Desktop\\local playground NLP\\nlp\\lib\\site-packages\\sklearn\\metrics\\_classification.py:1509: UndefinedMetricWarning: Precision is ill-defined and being set to 0.0 in labels with no predicted samples. Use `zero_division` parameter to control this behavior.\n",
      "  _warn_prf(average, modifier, f\"{metric.capitalize()} is\", len(result))\n"
     ]
    },
    {
     "data": {
      "image/png": "[encoded data removed]",
      "text/plain": [
       "<Figure size 480x480 with 2 Axes>"
      ]
     },
     "metadata": {},
     "output_type": "display_data"
    }
   ],
   "source": [
    "\n",
    "clf = RandomForestClassifier(bootstrap = False, n_estimators = 150, n_jobs=-1, max_depth=30,  min_samples_split=2, min_samples_leaf=1)\n",
    "\n",
    "\n",
    "print(\"Training ...\")\n",
    "clf.fit(X_train, y_train)\n",
    "\n",
    "print(\"Testing ...\")\n",
    "pred = clf.predict(X_test)\n",
    "\n",
    "score = metrics.accuracy_score(y_test, pred)\n",
    "print(\"Classification accuracy:   %0.3f\" % score)\n",
    "\n",
    "print(\"Classification report:\")\n",
    "print(metrics.classification_report(y_test, pred))\n",
    "\n",
    "# Show confusion matrix\n",
    "print(\"Confusion matrix:\")\n",
    "cm = metrics.confusion_matrix(y_test, pred)\n",
    "print(cm)\n",
    "plt.matshow(cm)\n",
    "plt.colorbar()\n",
    "\n",
    "plt.show()"
   ]
  },
  {
   "cell_type": "code",
   "execution_count": 59,
   "id": "d1f4e57c",
   "metadata": {},
   "outputs": [
    {
     "name": "stdout",
     "output_type": "stream",
     "text": [
      "Validating ...\n",
      "Classification accuracy:   0.641\n",
      "Classification report:\n",
      "              precision    recall  f1-score   support\n",
      "\n",
      "           0       0.29      0.40      0.33        10\n",
      "           1       1.00      0.25      0.40         4\n",
      "           3       0.00      0.00      0.00         6\n",
      "           4       0.70      0.91      0.79        54\n",
      "           5       0.60      0.33      0.43         9\n",
      "           6       1.00      0.22      0.36         9\n",
      "\n",
      "    accuracy                           0.64        92\n",
      "   macro avg       0.60      0.35      0.39        92\n",
      "weighted avg       0.64      0.64      0.60        92\n",
      "\n",
      "Confusion matrix:\n",
      "[[ 4  0  0  6  0  0]\n",
      " [ 1  1  0  2  0  0]\n",
      " [ 1  0  0  4  1  0]\n",
      " [ 4  0  0 49  1  0]\n",
      " [ 1  0  0  5  3  0]\n",
      " [ 3  0  0  4  0  2]]\n"
     ]
    },
    {
     "name": "stderr",
     "output_type": "stream",
     "text": [
      "C:\\Users\\Ana\\Desktop\\local playground NLP\\nlp\\lib\\site-packages\\sklearn\\metrics\\_classification.py:1509: UndefinedMetricWarning: Precision is ill-defined and being set to 0.0 in labels with no predicted samples. Use `zero_division` parameter to control this behavior.\n",
      "  _warn_prf(average, modifier, f\"{metric.capitalize()} is\", len(result))\n",
      "C:\\Users\\Ana\\Desktop\\local playground NLP\\nlp\\lib\\site-packages\\sklearn\\metrics\\_classification.py:1509: UndefinedMetricWarning: Precision is ill-defined and being set to 0.0 in labels with no predicted samples. Use `zero_division` parameter to control this behavior.\n",
      "  _warn_prf(average, modifier, f\"{metric.capitalize()} is\", len(result))\n",
      "C:\\Users\\Ana\\Desktop\\local playground NLP\\nlp\\lib\\site-packages\\sklearn\\metrics\\_classification.py:1509: UndefinedMetricWarning: Precision is ill-defined and being set to 0.0 in labels with no predicted samples. Use `zero_division` parameter to control this behavior.\n",
      "  _warn_prf(average, modifier, f\"{metric.capitalize()} is\", len(result))\n"
     ]
    },
    {
     "data": {
      "image/png": "[encoded data removed]",
      "text/plain": [
       "<Figure size 480x480 with 2 Axes>"
      ]
     },
     "metadata": {},
     "output_type": "display_data"
    }
   ],
   "source": [
    "print(\"Validating ...\")\n",
    "pred_val = clf.predict(X_val)\n",
    "\n",
    "score = metrics.accuracy_score(y_val, pred_val)\n",
    "print(\"Classification accuracy:   %0.3f\" % score)\n",
    "\n",
    "print(\"Classification report:\")\n",
    "print(metrics.classification_report(y_val, pred_val))\n",
    "\n",
    "# Show confusion matrix\n",
    "print(\"Confusion matrix:\")\n",
    "cm = metrics.confusion_matrix(y_val, pred_val)\n",
    "print(cm)\n",
    "plt.matshow(cm)\n",
    "plt.colorbar()\n",
    "\n",
    "plt.show()"
   ]
  },
  {
   "cell_type": "code",
   "execution_count": 60,
   "id": "60138960",
   "metadata": {},
   "outputs": [
    {
     "name": "stdout",
     "output_type": "stream",
     "text": [
      "Successfully stored error data for model RandomForest_150_estimators_30_max_depth\n"
     ]
    }
   ],
   "source": [
    "model_name = \"RandomForest_150_estimators_30_max_depth\" ## needs to be changed!!!\n",
    "\n",
    "err_df = pd.DataFrame()\n",
    "\n",
    "ground_truth = np.concatenate((y_test, y_val))\n",
    "predicted = np.concatenate((pred, pred_val))\n",
    "\n",
    "err_df['ground_truth'] = ground_truth\n",
    "err_df['predicted'] = predicted\n",
    "\n",
    "text = np.concatenate((test_df['text'], val_df['text']))\n",
    "\n",
    "err_df['text'] = text\n",
    "\n",
    "err_df.to_pickle(model_name)\n",
    "\n",
    "print(f\"Successfully stored error data for model {model_name}\")"
   ]
  },
  {
   "cell_type": "markdown",
   "id": "8fb321a3",
   "metadata": {},
   "source": [
    "## SVM"
   ]
  },
  {
   "cell_type": "code",
   "execution_count": 64,
   "id": "ecc88473",
   "metadata": {},
   "outputs": [
    {
     "name": "stdout",
     "output_type": "stream",
     "text": [
      "Training ...\n",
      "Testing ...\n",
      "Classification accuracy:   0.739\n",
      "Classification report:\n",
      "              precision    recall  f1-score   support\n",
      "\n",
      "           0       0.56      0.42      0.48        12\n",
      "           1       0.00      0.00      0.00         4\n",
      "           2       0.00      0.00      0.00         1\n",
      "           3       0.50      0.25      0.33         4\n",
      "           4       0.76      1.00      0.86        54\n",
      "           5       0.80      0.67      0.73        12\n",
      "           6       0.00      0.00      0.00         5\n",
      "\n",
      "    accuracy                           0.74        92\n",
      "   macro avg       0.37      0.33      0.34        92\n",
      "weighted avg       0.64      0.74      0.68        92\n",
      "\n",
      "Confusion matrix:\n",
      "[[ 5  0  0  1  5  1  0]\n",
      " [ 0  0  0  0  4  0  0]\n",
      " [ 0  0  0  0  1  0  0]\n",
      " [ 2  0  0  1  1  0  0]\n",
      " [ 0  0  0  0 54  0  0]\n",
      " [ 1  0  0  0  3  8  0]\n",
      " [ 1  0  0  0  3  1  0]]\n"
     ]
    },
    {
     "name": "stderr",
     "output_type": "stream",
     "text": [
      "C:\\Users\\Ana\\Desktop\\local playground NLP\\nlp\\lib\\site-packages\\sklearn\\metrics\\_classification.py:1509: UndefinedMetricWarning: Precision is ill-defined and being set to 0.0 in labels with no predicted samples. Use `zero_division` parameter to control this behavior.\n",
      "  _warn_prf(average, modifier, f\"{metric.capitalize()} is\", len(result))\n",
      "C:\\Users\\Ana\\Desktop\\local playground NLP\\nlp\\lib\\site-packages\\sklearn\\metrics\\_classification.py:1509: UndefinedMetricWarning: Precision is ill-defined and being set to 0.0 in labels with no predicted samples. Use `zero_division` parameter to control this behavior.\n",
      "  _warn_prf(average, modifier, f\"{metric.capitalize()} is\", len(result))\n",
      "C:\\Users\\Ana\\Desktop\\local playground NLP\\nlp\\lib\\site-packages\\sklearn\\metrics\\_classification.py:1509: UndefinedMetricWarning: Precision is ill-defined and being set to 0.0 in labels with no predicted samples. Use `zero_division` parameter to control this behavior.\n",
      "  _warn_prf(average, modifier, f\"{metric.capitalize()} is\", len(result))\n"
     ]
    },
    {
     "data": {
      "image/png": "[encoded data removed]",
      "text/plain": [
       "<Figure size 480x480 with 2 Axes>"
      ]
     },
     "metadata": {},
     "output_type": "display_data"
    }
   ],
   "source": [
    "\n",
    "clf = svm.SVC(kernel='sigmoid')\n",
    "\n",
    "\n",
    "print(\"Training ...\")\n",
    "clf.fit(X_train, y_train)\n",
    "\n",
    "print(\"Testing ...\")\n",
    "pred = clf.predict(X_test)\n",
    "\n",
    "score = metrics.accuracy_score(y_test, pred)\n",
    "print(\"Classification accuracy:   %0.3f\" % score)\n",
    "\n",
    "print(\"Classification report:\")\n",
    "print(metrics.classification_report(y_test, pred))\n",
    "\n",
    "# Show confusion matrix\n",
    "print(\"Confusion matrix:\")\n",
    "cm = metrics.confusion_matrix(y_test, pred)\n",
    "print(cm)\n",
    "plt.matshow(cm)\n",
    "plt.colorbar()\n",
    "\n",
    "plt.show()"
   ]
  },
  {
   "cell_type": "code",
   "execution_count": 65,
   "id": "0b2d401c",
   "metadata": {},
   "outputs": [
    {
     "name": "stdout",
     "output_type": "stream",
     "text": [
      "Validating ...\n",
      "Classification accuracy:   0.641\n",
      "Classification report:\n",
      "              precision    recall  f1-score   support\n",
      "\n",
      "           0       0.30      0.30      0.30        10\n",
      "           1       0.00      0.00      0.00         4\n",
      "           3       1.00      0.17      0.29         6\n",
      "           4       0.69      0.94      0.80        54\n",
      "           5       0.75      0.33      0.46         9\n",
      "           6       0.33      0.11      0.17         9\n",
      "\n",
      "    accuracy                           0.64        92\n",
      "   macro avg       0.51      0.31      0.34        92\n",
      "weighted avg       0.61      0.64      0.58        92\n",
      "\n",
      "Confusion matrix:\n",
      "[[ 3  0  0  6  0  1]\n",
      " [ 1  0  0  3  0  0]\n",
      " [ 1  0  1  3  1  0]\n",
      " [ 2  0  0 51  0  1]\n",
      " [ 1  0  0  5  3  0]\n",
      " [ 2  0  0  6  0  1]]\n"
     ]
    },
    {
     "name": "stderr",
     "output_type": "stream",
     "text": [
      "C:\\Users\\Ana\\Desktop\\local playground NLP\\nlp\\lib\\site-packages\\sklearn\\metrics\\_classification.py:1509: UndefinedMetricWarning: Precision is ill-defined and being set to 0.0 in labels with no predicted samples. Use `zero_division` parameter to control this behavior.\n",
      "  _warn_prf(average, modifier, f\"{metric.capitalize()} is\", len(result))\n",
      "C:\\Users\\Ana\\Desktop\\local playground NLP\\nlp\\lib\\site-packages\\sklearn\\metrics\\_classification.py:1509: UndefinedMetricWarning: Precision is ill-defined and being set to 0.0 in labels with no predicted samples. Use `zero_division` parameter to control this behavior.\n",
      "  _warn_prf(average, modifier, f\"{metric.capitalize()} is\", len(result))\n",
      "C:\\Users\\Ana\\Desktop\\local playground NLP\\nlp\\lib\\site-packages\\sklearn\\metrics\\_classification.py:1509: UndefinedMetricWarning: Precision is ill-defined and being set to 0.0 in labels with no predicted samples. Use `zero_division` parameter to control this behavior.\n",
      "  _warn_prf(average, modifier, f\"{metric.capitalize()} is\", len(result))\n"
     ]
    },
    {
     "data": {
      "image/png": "[encoded data removed]",
      "text/plain": [
       "<Figure size 480x480 with 2 Axes>"
      ]
     },
     "metadata": {},
     "output_type": "display_data"
    }
   ],
   "source": [
    "print(\"Validating ...\")\n",
    "pred_val = clf.predict(X_val)\n",
    "\n",
    "score = metrics.accuracy_score(y_val, pred_val)\n",
    "print(\"Classification accuracy:   %0.3f\" % score)\n",
    "\n",
    "print(\"Classification report:\")\n",
    "print(metrics.classification_report(y_val, pred_val))\n",
    "\n",
    "# Show confusion matrix\n",
    "print(\"Confusion matrix:\")\n",
    "cm = metrics.confusion_matrix(y_val, pred_val)\n",
    "print(cm)\n",
    "plt.matshow(cm)\n",
    "plt.colorbar()\n",
    "\n",
    "plt.show()"
   ]
  },
  {
   "cell_type": "code",
   "execution_count": 66,
   "id": "69aab0d8",
   "metadata": {},
   "outputs": [
    {
     "name": "stdout",
     "output_type": "stream",
     "text": [
      "Successfully stored error data for model SVM_SVC_sigmoid_kernel\n"
     ]
    }
   ],
   "source": [
    "model_name = \"SVM_SVC_sigmoid_kernel\" ## needs to be changed!!!\n",
    "\n",
    "err_df = pd.DataFrame()\n",
    "\n",
    "ground_truth = np.concatenate((y_test, y_val))\n",
    "predicted = np.concatenate((pred, pred_val))\n",
    "\n",
    "err_df['ground_truth'] = ground_truth\n",
    "err_df['predicted'] = predicted\n",
    "\n",
    "text = np.concatenate((test_df['text'], val_df['text']))\n",
    "\n",
    "err_df['text'] = text\n",
    "\n",
    "err_df.to_pickle(model_name)\n",
    "\n",
    "print(f\"Successfully stored error data for model {model_name}\")"
   ]
  },
  {
   "cell_type": "code",
   "execution_count": 67,
   "id": "4232939e",
   "metadata": {},
   "outputs": [],
   "source": []
  },
  {
   "cell_type": "markdown",
   "id": "386e5181",
   "metadata": {},
   "source": [
    "## XGBoost"
   ]
  },
  {
   "cell_type": "code",
   "execution_count": 69,
   "id": "82c27918",
   "metadata": {},
   "outputs": [],
   "source": [
    "params = {\n",
    "    'max_depth': 8,\n",
    "    'objective': 'multi:softmax',  # error evaluation for multiclass training\n",
    "    'num_class': 7,\n",
    "    # Set number of GPUs if available   \n",
    "    'tree_method': 'gpu_hist',\n",
    "    'gpu_id': 0\n",
    "}"
   ]
  },
  {
   "cell_type": "code",
   "execution_count": 70,
   "id": "ca5d4542",
   "metadata": {},
   "outputs": [],
   "source": [
    "dtrain = xgb.DMatrix(data=X_train, label=y_train)\n",
    "dtest = xgb.DMatrix(data=X_test)\n",
    "dval = xgb.DMatrix(data=X_val)"
   ]
  },
  {
   "cell_type": "code",
   "execution_count": 72,
   "id": "3b0a1fc8",
   "metadata": {},
   "outputs": [
    {
     "name": "stdout",
     "output_type": "stream",
     "text": [
      "train time: 2.303s\n",
      "test time:  0.002s\n"
     ]
    }
   ],
   "source": [
    "t = time()\n",
    "bst = xgb.train(params, dtrain)\n",
    "\n",
    "training_time = time() - t\n",
    "print(\"train time: %0.3fs\" % training_time)\n",
    "\n",
    "\n",
    "t = time()\n",
    "pred = bst.predict(dtest)\n",
    "\n",
    "test_time = time() - t\n",
    "print(\"test time:  %0.3fs\" % test_time)"
   ]
  },
  {
   "cell_type": "code",
   "execution_count": 73,
   "id": "edf865ec",
   "metadata": {},
   "outputs": [
    {
     "name": "stdout",
     "output_type": "stream",
     "text": [
      "Classification accuracy:   0.641\n",
      "Classification report:\n",
      "              precision    recall  f1-score   support\n",
      "\n",
      "           0       0.44      0.33      0.38        12\n",
      "           1       0.00      0.00      0.00         4\n",
      "           2       0.00      0.00      0.00         1\n",
      "           3       0.00      0.00      0.00         4\n",
      "           4       0.68      0.96      0.80        54\n",
      "           5       0.75      0.25      0.38        12\n",
      "           6       0.00      0.00      0.00         5\n",
      "\n",
      "    accuracy                           0.64        92\n",
      "   macro avg       0.27      0.22      0.22        92\n",
      "weighted avg       0.56      0.64      0.57        92\n",
      "\n",
      "Confusion matrix:\n",
      "[[ 4  0  0  0  8  0  0]\n",
      " [ 0  0  0  0  4  0  0]\n",
      " [ 0  0  0  0  1  0  0]\n",
      " [ 1  0  0  0  3  0  0]\n",
      " [ 0  1  0  0 52  1  0]\n",
      " [ 2  0  0  1  5  3  1]\n",
      " [ 2  0  0  0  3  0  0]]\n"
     ]
    },
    {
     "name": "stderr",
     "output_type": "stream",
     "text": [
      "C:\\Users\\Ana\\Desktop\\local playground NLP\\nlp\\lib\\site-packages\\sklearn\\metrics\\_classification.py:1509: UndefinedMetricWarning: Precision is ill-defined and being set to 0.0 in labels with no predicted samples. Use `zero_division` parameter to control this behavior.\n",
      "  _warn_prf(average, modifier, f\"{metric.capitalize()} is\", len(result))\n",
      "C:\\Users\\Ana\\Desktop\\local playground NLP\\nlp\\lib\\site-packages\\sklearn\\metrics\\_classification.py:1509: UndefinedMetricWarning: Precision is ill-defined and being set to 0.0 in labels with no predicted samples. Use `zero_division` parameter to control this behavior.\n",
      "  _warn_prf(average, modifier, f\"{metric.capitalize()} is\", len(result))\n",
      "C:\\Users\\Ana\\Desktop\\local playground NLP\\nlp\\lib\\site-packages\\sklearn\\metrics\\_classification.py:1509: UndefinedMetricWarning: Precision is ill-defined and being set to 0.0 in labels with no predicted samples. Use `zero_division` parameter to control this behavior.\n",
      "  _warn_prf(average, modifier, f\"{metric.capitalize()} is\", len(result))\n"
     ]
    },
    {
     "data": {
      "image/png": "[encoded data removed]",
      "text/plain": [
       "<Figure size 480x480 with 2 Axes>"
      ]
     },
     "metadata": {},
     "output_type": "display_data"
    }
   ],
   "source": [
    "\n",
    "score = metrics.accuracy_score(y_test, pred)\n",
    "print(\"Classification accuracy:   %0.3f\" % score)\n",
    "\n",
    "print(\"Classification report:\")\n",
    "print(metrics.classification_report(y_test, pred))\n",
    "\n",
    "# Show confusion matrix\n",
    "print(\"Confusion matrix:\")\n",
    "cm = metrics.confusion_matrix(y_test, pred)\n",
    "print(cm)\n",
    "plt.matshow(cm)\n",
    "plt.colorbar()\n",
    "\n",
    "plt.show()"
   ]
  },
  {
   "cell_type": "code",
   "execution_count": 76,
   "id": "f61d37c2",
   "metadata": {},
   "outputs": [],
   "source": [
    "pred_val = bst.predict(dval)"
   ]
  },
  {
   "cell_type": "code",
   "execution_count": 77,
   "id": "367a2182",
   "metadata": {},
   "outputs": [
    {
     "name": "stdout",
     "output_type": "stream",
     "text": [
      "Validating ...\n",
      "Classification accuracy:   0.641\n",
      "Classification report:\n",
      "              precision    recall  f1-score   support\n",
      "\n",
      "           0       0.30      0.30      0.30        10\n",
      "           1       0.00      0.00      0.00         4\n",
      "           3       1.00      0.17      0.29         6\n",
      "           4       0.69      0.94      0.80        54\n",
      "           5       0.75      0.33      0.46         9\n",
      "           6       0.33      0.11      0.17         9\n",
      "\n",
      "    accuracy                           0.64        92\n",
      "   macro avg       0.51      0.31      0.34        92\n",
      "weighted avg       0.61      0.64      0.58        92\n",
      "\n",
      "Confusion matrix:\n",
      "[[ 3  0  0  6  0  1]\n",
      " [ 1  0  0  3  0  0]\n",
      " [ 1  0  1  3  1  0]\n",
      " [ 2  0  0 51  0  1]\n",
      " [ 1  0  0  5  3  0]\n",
      " [ 2  0  0  6  0  1]]\n"
     ]
    },
    {
     "name": "stderr",
     "output_type": "stream",
     "text": [
      "C:\\Users\\Ana\\Desktop\\local playground NLP\\nlp\\lib\\site-packages\\sklearn\\metrics\\_classification.py:1509: UndefinedMetricWarning: Precision is ill-defined and being set to 0.0 in labels with no predicted samples. Use `zero_division` parameter to control this behavior.\n",
      "  _warn_prf(average, modifier, f\"{metric.capitalize()} is\", len(result))\n",
      "C:\\Users\\Ana\\Desktop\\local playground NLP\\nlp\\lib\\site-packages\\sklearn\\metrics\\_classification.py:1509: UndefinedMetricWarning: Precision is ill-defined and being set to 0.0 in labels with no predicted samples. Use `zero_division` parameter to control this behavior.\n",
      "  _warn_prf(average, modifier, f\"{metric.capitalize()} is\", len(result))\n",
      "C:\\Users\\Ana\\Desktop\\local playground NLP\\nlp\\lib\\site-packages\\sklearn\\metrics\\_classification.py:1509: UndefinedMetricWarning: Precision is ill-defined and being set to 0.0 in labels with no predicted samples. Use `zero_division` parameter to control this behavior.\n",
      "  _warn_prf(average, modifier, f\"{metric.capitalize()} is\", len(result))\n"
     ]
    },
    {
     "data": {
      "image/png": "[encoded data removed]",
      "text/plain": [
       "<Figure size 480x480 with 2 Axes>"
      ]
     },
     "metadata": {},
     "output_type": "display_data"
    }
   ],
   "source": [
    "print(\"Validating ...\")\n",
    "pred_val = clf.predict(X_val)\n",
    "\n",
    "score = metrics.accuracy_score(y_val, pred_val)\n",
    "print(\"Classification accuracy:   %0.3f\" % score)\n",
    "\n",
    "print(\"Classification report:\")\n",
    "print(metrics.classification_report(y_val, pred_val))\n",
    "\n",
    "# Show confusion matrix\n",
    "print(\"Confusion matrix:\")\n",
    "cm = metrics.confusion_matrix(y_val, pred_val)\n",
    "print(cm)\n",
    "plt.matshow(cm)\n",
    "plt.colorbar()\n",
    "\n",
    "plt.show()"
   ]
  },
  {
   "cell_type": "code",
   "execution_count": 78,
   "id": "0f5015bf",
   "metadata": {},
   "outputs": [
    {
     "name": "stdout",
     "output_type": "stream",
     "text": [
      "Successfully stored error data for model XGBoost\n"
     ]
    }
   ],
   "source": [
    "model_name = \"XGBoost\" ## needs to be changed!!!\n",
    "\n",
    "err_df = pd.DataFrame()\n",
    "\n",
    "ground_truth = np.concatenate((y_test, y_val))\n",
    "predicted = np.concatenate((pred, pred_val))\n",
    "\n",
    "err_df['ground_truth'] = ground_truth\n",
    "err_df['predicted'] = predicted\n",
    "\n",
    "text = np.concatenate((test_df['text'], val_df['text']))\n",
    "\n",
    "err_df['text'] = text\n",
    "\n",
    "err_df.to_pickle(model_name)\n",
    "\n",
    "print(f\"Successfully stored error data for model {model_name}\")"
   ]
  },
  {
   "cell_type": "code",
   "execution_count": null,
   "id": "447d1844",
   "metadata": {},
   "outputs": [],
   "source": []
  }
 ],
 "metadata": {
  "kernelspec": {
   "display_name": "nlp",
   "language": "python",
   "name": "nlp"
  },
  "language_info": {
   "codemirror_mode": {
    "name": "ipython",
    "version": 3
   },
   "file_extension": ".py",
   "mimetype": "text/x-python",
   "name": "python",
   "nbconvert_exporter": "python",
   "pygments_lexer": "ipython3",
   "version": "3.9.12"
  }
 },
 "nbformat": 4,
 "nbformat_minor": 5
}
